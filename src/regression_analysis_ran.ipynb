{
 "cells": [
  {
   "cell_type": "markdown",
   "metadata": {
    "papermill": {
     "duration": 0.040158,
     "end_time": "2019-08-12T03:53:47.800529",
     "exception": false,
     "start_time": "2019-08-12T03:53:47.760371",
     "status": "completed"
    },
    "tags": []
   },
   "source": [
    "# Regression Analysis\n",
    "\n",
    "#### Evan Yathon\n",
    "\n",
    "This notebook is intended to be run with papermill from the project root.\n",
    "\n",
    "The purpose of this notebook is to run a logistic regression analysis on the cleaned reviews data.  Trying to identify contributing factors to a customer recommending an airline or not given that they have submitted a review is the central theme.  Feature importance, coefficient estimates and confidence intervals are pulled from models after some initial cleanup is performed. \n",
    "\n",
    "Usage:\n",
    "\n",
    "`papermill src/ipynbs/regression_analysis.ipynb src/regression_analysis_ran.ipynb -p load_path data/topic_modeling_gw_reviews.csv`"
   ]
  },
  {
   "cell_type": "code",
   "execution_count": 1,
   "metadata": {
    "papermill": {
     "duration": 0.048982,
     "end_time": "2019-08-12T03:53:47.873409",
     "exception": false,
     "start_time": "2019-08-12T03:53:47.824427",
     "status": "completed"
    },
    "tags": [
     "parameters"
    ]
   },
   "outputs": [],
   "source": [
    "load_path = \"../../data/topic_modeling_gw_reviews.csv\""
   ]
  },
  {
   "cell_type": "code",
   "execution_count": 2,
   "metadata": {
    "papermill": {
     "duration": 0.047001,
     "end_time": "2019-08-12T03:53:47.961410",
     "exception": false,
     "start_time": "2019-08-12T03:53:47.914409",
     "status": "completed"
    },
    "tags": [
     "injected-parameters"
    ]
   },
   "outputs": [],
   "source": [
    "# Parameters\n",
    "load_path = \"data/topic_modeling_gw_reviews.csv\"\n"
   ]
  },
  {
   "cell_type": "code",
   "execution_count": 3,
   "metadata": {
    "papermill": {
     "duration": 8.228287,
     "end_time": "2019-08-12T03:53:56.230696",
     "exception": false,
     "start_time": "2019-08-12T03:53:48.002409",
     "status": "completed"
    },
    "tags": []
   },
   "outputs": [],
   "source": [
    "# load packages\n",
    "\n",
    "# utils\n",
    "import pandas as pd\n",
    "import sys\n",
    "import numpy as np\n",
    "import time\n",
    "\n",
    "# regression\n",
    "from sklearn.linear_model import LogisticRegression\n",
    "\n",
    "# regression utils\n",
    "# custom model preparation script\n",
    "sys.path.append(\"../../src\")\n",
    "sys.path.append(\"./src\")\n",
    "from PrepareForModel import * # dummy encoding \n",
    "from bootstrap_skmodel import * # regression coefficient bootstrapping\n"
   ]
  },
  {
   "cell_type": "code",
   "execution_count": 4,
   "metadata": {
    "papermill": {
     "duration": 0.044119,
     "end_time": "2019-08-12T03:53:56.298613",
     "exception": false,
     "start_time": "2019-08-12T03:53:56.254494",
     "status": "completed"
    },
    "tags": []
   },
   "outputs": [],
   "source": [
    "reviews = pd.read_csv(load_path, parse_dates = [\"date_of_review\", \"date_flown\"])"
   ]
  },
  {
   "cell_type": "markdown",
   "metadata": {
    "papermill": {
     "duration": 0.024502,
     "end_time": "2019-08-12T03:53:56.346098",
     "exception": false,
     "start_time": "2019-08-12T03:53:56.321596",
     "status": "completed"
    },
    "tags": []
   },
   "source": [
    "### Regression Prep\n",
    "\n",
    "Before running the regression analysis, a few things need to be done.\n",
    "\n",
    "- Remove dates after the transfer to Eurowings\n",
    "- Drop columns that have large amount of `NA` values or don't make sense to include in the analysis\n",
    "- Deal with `NA` values\n",
    "- Encode categorical columns"
   ]
  },
  {
   "cell_type": "markdown",
   "metadata": {
    "papermill": {
     "duration": 0.023005,
     "end_time": "2019-08-12T03:53:56.391100",
     "exception": false,
     "start_time": "2019-08-12T03:53:56.368095",
     "status": "completed"
    },
    "tags": []
   },
   "source": [
    "Remove dates after `8th February 2016` as Germanwings was transferred to Eurowings (as found in the EDA notebook)."
   ]
  },
  {
   "cell_type": "code",
   "execution_count": 5,
   "metadata": {
    "papermill": {
     "duration": 0.033003,
     "end_time": "2019-08-12T03:53:56.449102",
     "exception": false,
     "start_time": "2019-08-12T03:53:56.416099",
     "status": "completed"
    },
    "tags": []
   },
   "outputs": [],
   "source": [
    "reviews_regr = reviews[reviews[\"date_of_review\"] < \"2016-02-08\"]"
   ]
  },
  {
   "cell_type": "markdown",
   "metadata": {
    "papermill": {
     "duration": 0.024009,
     "end_time": "2019-08-12T03:53:56.496102",
     "exception": false,
     "start_time": "2019-08-12T03:53:56.472093",
     "status": "completed"
    },
    "tags": []
   },
   "source": [
    "Check column types and percentage of NA values"
   ]
  },
  {
   "cell_type": "code",
   "execution_count": 6,
   "metadata": {
    "papermill": {
     "duration": 0.086027,
     "end_time": "2019-08-12T03:53:56.604120",
     "exception": false,
     "start_time": "2019-08-12T03:53:56.518093",
     "status": "completed"
    },
    "tags": []
   },
   "outputs": [
    {
     "data": {
      "text/html": [
       "<div>\n",
       "<style scoped>\n",
       "    .dataframe tbody tr th:only-of-type {\n",
       "        vertical-align: middle;\n",
       "    }\n",
       "\n",
       "    .dataframe tbody tr th {\n",
       "        vertical-align: top;\n",
       "    }\n",
       "\n",
       "    .dataframe thead th {\n",
       "        text-align: right;\n",
       "    }\n",
       "</style>\n",
       "<table border=\"1\" class=\"dataframe\">\n",
       "  <thead>\n",
       "    <tr style=\"text-align: right;\">\n",
       "      <th></th>\n",
       "      <th>data_type</th>\n",
       "      <th>precent_na</th>\n",
       "    </tr>\n",
       "  </thead>\n",
       "  <tbody>\n",
       "    <tr>\n",
       "      <th>title</th>\n",
       "      <td>object</td>\n",
       "      <td>0.000000</td>\n",
       "    </tr>\n",
       "    <tr>\n",
       "      <th>review_value</th>\n",
       "      <td>float64</td>\n",
       "      <td>9.420290</td>\n",
       "    </tr>\n",
       "    <tr>\n",
       "      <th>n_user_reviews</th>\n",
       "      <td>object</td>\n",
       "      <td>92.753623</td>\n",
       "    </tr>\n",
       "    <tr>\n",
       "      <th>reviewer_name</th>\n",
       "      <td>object</td>\n",
       "      <td>0.000000</td>\n",
       "    </tr>\n",
       "    <tr>\n",
       "      <th>reviewer_country</th>\n",
       "      <td>object</td>\n",
       "      <td>9.420290</td>\n",
       "    </tr>\n",
       "    <tr>\n",
       "      <th>date_of_review</th>\n",
       "      <td>datetime64[ns]</td>\n",
       "      <td>0.000000</td>\n",
       "    </tr>\n",
       "    <tr>\n",
       "      <th>review_text</th>\n",
       "      <td>object</td>\n",
       "      <td>0.000000</td>\n",
       "    </tr>\n",
       "    <tr>\n",
       "      <th>aircraft</th>\n",
       "      <td>object</td>\n",
       "      <td>91.304348</td>\n",
       "    </tr>\n",
       "    <tr>\n",
       "      <th>traveller_type</th>\n",
       "      <td>object</td>\n",
       "      <td>82.608696</td>\n",
       "    </tr>\n",
       "    <tr>\n",
       "      <th>seat_type</th>\n",
       "      <td>object</td>\n",
       "      <td>10.144928</td>\n",
       "    </tr>\n",
       "    <tr>\n",
       "      <th>route</th>\n",
       "      <td>object</td>\n",
       "      <td>82.608696</td>\n",
       "    </tr>\n",
       "    <tr>\n",
       "      <th>date_flown</th>\n",
       "      <td>datetime64[ns]</td>\n",
       "      <td>82.608696</td>\n",
       "    </tr>\n",
       "    <tr>\n",
       "      <th>seat_comfort_rating</th>\n",
       "      <td>float64</td>\n",
       "      <td>34.057971</td>\n",
       "    </tr>\n",
       "    <tr>\n",
       "      <th>cabin_staff_service_rating</th>\n",
       "      <td>float64</td>\n",
       "      <td>34.057971</td>\n",
       "    </tr>\n",
       "    <tr>\n",
       "      <th>food_and_beverages_rating</th>\n",
       "      <td>float64</td>\n",
       "      <td>36.231884</td>\n",
       "    </tr>\n",
       "    <tr>\n",
       "      <th>inflight_entertainment_rating</th>\n",
       "      <td>float64</td>\n",
       "      <td>46.376812</td>\n",
       "    </tr>\n",
       "    <tr>\n",
       "      <th>ground_service_rating</th>\n",
       "      <td>float64</td>\n",
       "      <td>82.608696</td>\n",
       "    </tr>\n",
       "    <tr>\n",
       "      <th>value_for_money_rating</th>\n",
       "      <td>float64</td>\n",
       "      <td>9.420290</td>\n",
       "    </tr>\n",
       "    <tr>\n",
       "      <th>recommendation</th>\n",
       "      <td>object</td>\n",
       "      <td>0.000000</td>\n",
       "    </tr>\n",
       "    <tr>\n",
       "      <th>clean_review_text</th>\n",
       "      <td>object</td>\n",
       "      <td>0.000000</td>\n",
       "    </tr>\n",
       "    <tr>\n",
       "      <th>clean_title</th>\n",
       "      <td>object</td>\n",
       "      <td>0.000000</td>\n",
       "    </tr>\n",
       "    <tr>\n",
       "      <th>review_luggage_seats</th>\n",
       "      <td>float64</td>\n",
       "      <td>0.000000</td>\n",
       "    </tr>\n",
       "    <tr>\n",
       "      <th>review_time_delays</th>\n",
       "      <td>float64</td>\n",
       "      <td>0.000000</td>\n",
       "    </tr>\n",
       "    <tr>\n",
       "      <th>review_food_bev_crew</th>\n",
       "      <td>float64</td>\n",
       "      <td>0.000000</td>\n",
       "    </tr>\n",
       "    <tr>\n",
       "      <th>title_money_value</th>\n",
       "      <td>float64</td>\n",
       "      <td>0.000000</td>\n",
       "    </tr>\n",
       "    <tr>\n",
       "      <th>title_staff_delays</th>\n",
       "      <td>float64</td>\n",
       "      <td>0.000000</td>\n",
       "    </tr>\n",
       "  </tbody>\n",
       "</table>\n",
       "</div>"
      ],
      "text/plain": [
       "                                    data_type  precent_na\n",
       "title                                  object    0.000000\n",
       "review_value                          float64    9.420290\n",
       "n_user_reviews                         object   92.753623\n",
       "reviewer_name                          object    0.000000\n",
       "reviewer_country                       object    9.420290\n",
       "date_of_review                 datetime64[ns]    0.000000\n",
       "review_text                            object    0.000000\n",
       "aircraft                               object   91.304348\n",
       "traveller_type                         object   82.608696\n",
       "seat_type                              object   10.144928\n",
       "route                                  object   82.608696\n",
       "date_flown                     datetime64[ns]   82.608696\n",
       "seat_comfort_rating                   float64   34.057971\n",
       "cabin_staff_service_rating            float64   34.057971\n",
       "food_and_beverages_rating             float64   36.231884\n",
       "inflight_entertainment_rating         float64   46.376812\n",
       "ground_service_rating                 float64   82.608696\n",
       "value_for_money_rating                float64    9.420290\n",
       "recommendation                         object    0.000000\n",
       "clean_review_text                      object    0.000000\n",
       "clean_title                            object    0.000000\n",
       "review_luggage_seats                  float64    0.000000\n",
       "review_time_delays                    float64    0.000000\n",
       "review_food_bev_crew                  float64    0.000000\n",
       "title_money_value                     float64    0.000000\n",
       "title_staff_delays                    float64    0.000000"
      ]
     },
     "execution_count": 6,
     "metadata": {},
     "output_type": "execute_result"
    }
   ],
   "source": [
    "# column types, na values\n",
    "pd.DataFrame({\n",
    "    \"data_type\" : reviews_regr.dtypes.values,\n",
    "    \"precent_na\" : (reviews_regr.isna().sum()/reviews_regr.shape[0])*100\n",
    "})"
   ]
  },
  {
   "cell_type": "markdown",
   "metadata": {
    "papermill": {
     "duration": 0.023003,
     "end_time": "2019-08-12T03:53:56.655100",
     "exception": false,
     "start_time": "2019-08-12T03:53:56.632097",
     "status": "completed"
    },
    "tags": []
   },
   "source": [
    "`object` types are categorical/strings.  Below in a table documenting which columns will be dropped and the reasoning behind each.\n",
    "\n",
    "| Column Name                   \t| Reason to Drop                                                  \t|\n",
    "|-------------------------------\t|-----------------------------------------------------------------\t|\n",
    "| title                         \t| Information extracted via Topic Modeling                        \t|\n",
    "| n_user_reviews                \t| Large amount of missing values                                  \t|\n",
    "| reviewer_name                 \t| Not relevant for regression analysis                            \t|\n",
    "| reviewer_country              \t| Too many categories for small amount of data; EDA backs this up \t|\n",
    "| date_of_review                \t| imbalanced dataset over time                                    \t|\n",
    "| review_text                   \t| Information extracted via Topic Modeling                        \t|\n",
    "| aircraft                      \t| Large amount of missing values                                  \t|\n",
    "| traveller_type                \t| Large amount of missing values                                  \t|\n",
    "| route                         \t| Large amount of missing values                                  \t|\n",
    "| date_flown                    \t| Large amount of missing values                                  \t|\n",
    "| ground_service_rating         \t| Large amount of missing values                                  \t|\n",
    "| inflight_entertainment_rating \t| Large amount of missing values                                  \t|\n",
    "| clean_review_text             \t| Information extracted via Topic Modeling                        \t|\n",
    "| clean_title                   \t| Information extracted via Topic Modeling                        \t|"
   ]
  },
  {
   "cell_type": "code",
   "execution_count": 7,
   "metadata": {
    "papermill": {
     "duration": 0.035021,
     "end_time": "2019-08-12T03:53:56.716124",
     "exception": false,
     "start_time": "2019-08-12T03:53:56.681103",
     "status": "completed"
    },
    "tags": []
   },
   "outputs": [
    {
     "data": {
      "text/plain": [
       "Index(['title', 'review_value', 'n_user_reviews', 'reviewer_name',\n",
       "       'reviewer_country', 'date_of_review', 'review_text', 'aircraft',\n",
       "       'traveller_type', 'seat_type', 'route', 'date_flown',\n",
       "       'seat_comfort_rating', 'cabin_staff_service_rating',\n",
       "       'food_and_beverages_rating', 'inflight_entertainment_rating',\n",
       "       'ground_service_rating', 'value_for_money_rating', 'recommendation',\n",
       "       'clean_review_text', 'clean_title', 'review_luggage_seats',\n",
       "       'review_time_delays', 'review_food_bev_crew', 'title_money_value',\n",
       "       'title_staff_delays'],\n",
       "      dtype='object')"
      ]
     },
     "execution_count": 7,
     "metadata": {},
     "output_type": "execute_result"
    }
   ],
   "source": [
    "reviews_regr.columns"
   ]
  },
  {
   "cell_type": "code",
   "execution_count": 8,
   "metadata": {
    "papermill": {
     "duration": 0.029002,
     "end_time": "2019-08-12T03:53:56.768100",
     "exception": false,
     "start_time": "2019-08-12T03:53:56.739098",
     "status": "completed"
    },
    "tags": []
   },
   "outputs": [],
   "source": [
    "drop_cols = ['title', 'n_user_reviews', 'reviewer_name',\n",
    "             'reviewer_country', 'date_of_review', 'review_text', \n",
    "             'aircraft', 'traveller_type', 'route', 'date_flown',\n",
    "             'ground_service_rating', 'inflight_entertainment_rating',\n",
    "             'clean_review_text', 'clean_title']"
   ]
  },
  {
   "cell_type": "code",
   "execution_count": 9,
   "metadata": {
    "papermill": {
     "duration": 0.034992,
     "end_time": "2019-08-12T03:53:56.830099",
     "exception": false,
     "start_time": "2019-08-12T03:53:56.795107",
     "status": "completed"
    },
    "tags": []
   },
   "outputs": [],
   "source": [
    "# drop unwanted columns\n",
    "reviews_regr = reviews_regr.drop(drop_cols, axis = 1)"
   ]
  },
  {
   "cell_type": "markdown",
   "metadata": {
    "papermill": {
     "duration": 0.022999,
     "end_time": "2019-08-12T03:53:56.890098",
     "exception": false,
     "start_time": "2019-08-12T03:53:56.867099",
     "status": "completed"
    },
    "tags": []
   },
   "source": [
    "After dropping, review the na values and column types again"
   ]
  },
  {
   "cell_type": "code",
   "execution_count": 10,
   "metadata": {
    "papermill": {
     "duration": 0.041001,
     "end_time": "2019-08-12T03:53:56.957096",
     "exception": false,
     "start_time": "2019-08-12T03:53:56.916095",
     "status": "completed"
    },
    "scrolled": false,
    "tags": []
   },
   "outputs": [
    {
     "data": {
      "text/html": [
       "<div>\n",
       "<style scoped>\n",
       "    .dataframe tbody tr th:only-of-type {\n",
       "        vertical-align: middle;\n",
       "    }\n",
       "\n",
       "    .dataframe tbody tr th {\n",
       "        vertical-align: top;\n",
       "    }\n",
       "\n",
       "    .dataframe thead th {\n",
       "        text-align: right;\n",
       "    }\n",
       "</style>\n",
       "<table border=\"1\" class=\"dataframe\">\n",
       "  <thead>\n",
       "    <tr style=\"text-align: right;\">\n",
       "      <th></th>\n",
       "      <th>data_type</th>\n",
       "      <th>precent_na</th>\n",
       "    </tr>\n",
       "  </thead>\n",
       "  <tbody>\n",
       "    <tr>\n",
       "      <th>review_value</th>\n",
       "      <td>float64</td>\n",
       "      <td>9.420290</td>\n",
       "    </tr>\n",
       "    <tr>\n",
       "      <th>seat_type</th>\n",
       "      <td>object</td>\n",
       "      <td>10.144928</td>\n",
       "    </tr>\n",
       "    <tr>\n",
       "      <th>seat_comfort_rating</th>\n",
       "      <td>float64</td>\n",
       "      <td>34.057971</td>\n",
       "    </tr>\n",
       "    <tr>\n",
       "      <th>cabin_staff_service_rating</th>\n",
       "      <td>float64</td>\n",
       "      <td>34.057971</td>\n",
       "    </tr>\n",
       "    <tr>\n",
       "      <th>food_and_beverages_rating</th>\n",
       "      <td>float64</td>\n",
       "      <td>36.231884</td>\n",
       "    </tr>\n",
       "    <tr>\n",
       "      <th>value_for_money_rating</th>\n",
       "      <td>float64</td>\n",
       "      <td>9.420290</td>\n",
       "    </tr>\n",
       "    <tr>\n",
       "      <th>recommendation</th>\n",
       "      <td>object</td>\n",
       "      <td>0.000000</td>\n",
       "    </tr>\n",
       "    <tr>\n",
       "      <th>review_luggage_seats</th>\n",
       "      <td>float64</td>\n",
       "      <td>0.000000</td>\n",
       "    </tr>\n",
       "    <tr>\n",
       "      <th>review_time_delays</th>\n",
       "      <td>float64</td>\n",
       "      <td>0.000000</td>\n",
       "    </tr>\n",
       "    <tr>\n",
       "      <th>review_food_bev_crew</th>\n",
       "      <td>float64</td>\n",
       "      <td>0.000000</td>\n",
       "    </tr>\n",
       "    <tr>\n",
       "      <th>title_money_value</th>\n",
       "      <td>float64</td>\n",
       "      <td>0.000000</td>\n",
       "    </tr>\n",
       "    <tr>\n",
       "      <th>title_staff_delays</th>\n",
       "      <td>float64</td>\n",
       "      <td>0.000000</td>\n",
       "    </tr>\n",
       "  </tbody>\n",
       "</table>\n",
       "</div>"
      ],
      "text/plain": [
       "                           data_type  precent_na\n",
       "review_value                 float64    9.420290\n",
       "seat_type                     object   10.144928\n",
       "seat_comfort_rating          float64   34.057971\n",
       "cabin_staff_service_rating   float64   34.057971\n",
       "food_and_beverages_rating    float64   36.231884\n",
       "value_for_money_rating       float64    9.420290\n",
       "recommendation                object    0.000000\n",
       "review_luggage_seats         float64    0.000000\n",
       "review_time_delays           float64    0.000000\n",
       "review_food_bev_crew         float64    0.000000\n",
       "title_money_value            float64    0.000000\n",
       "title_staff_delays           float64    0.000000"
      ]
     },
     "execution_count": 10,
     "metadata": {},
     "output_type": "execute_result"
    }
   ],
   "source": [
    "# column types, na values\n",
    "pd.DataFrame({\n",
    "    \"data_type\" : reviews_regr.dtypes.values,\n",
    "    \"precent_na\" : (reviews_regr.isna().sum()/reviews_regr.shape[0])*100\n",
    "})"
   ]
  },
  {
   "cell_type": "code",
   "execution_count": 11,
   "metadata": {
    "papermill": {
     "duration": 0.041002,
     "end_time": "2019-08-12T03:53:57.024099",
     "exception": false,
     "start_time": "2019-08-12T03:53:56.983097",
     "status": "completed"
    },
    "tags": []
   },
   "outputs": [
    {
     "data": {
      "text/plain": [
       "Economy Class     122\n",
       "First Class         1\n",
       "Business Class      1\n",
       "Name: seat_type, dtype: int64"
      ]
     },
     "execution_count": 11,
     "metadata": {},
     "output_type": "execute_result"
    }
   ],
   "source": [
    "# levels of the seat_type variable and counts\n",
    "reviews_regr.seat_type.value_counts()"
   ]
  },
  {
   "cell_type": "markdown",
   "metadata": {
    "papermill": {
     "duration": 0.026996,
     "end_time": "2019-08-12T03:53:57.076095",
     "exception": false,
     "start_time": "2019-08-12T03:53:57.049099",
     "status": "completed"
    },
    "tags": []
   },
   "source": [
    "Seat comfort, cabin staff service and food and beverages still have a fair amount missing, I might need to remove them from the analysis later, or perform two separate analyses.\n",
    "\n",
    "`seat_type` and `recommendation` need to be encoded.  To do that, I'll use some code that I had developed prior.\n",
    "\n",
    "`PrepareForModel` dummy encodes categorical variables in a given dataframe.  There also exists an option to effect code the categorical variables, but for this option I will keep effect coding.\n",
    "\n",
    "The reason for effect coding is that I plan to have `Economy Class` as the reference variable, and perform a reference treatment effect to see if moving to business or first class would increase the chance of a recommendation.  An issue with this is that there is only one business class and one first class seat in the dataset."
   ]
  },
  {
   "cell_type": "markdown",
   "metadata": {
    "papermill": {
     "duration": 0.022996,
     "end_time": "2019-08-12T03:53:57.126099",
     "exception": false,
     "start_time": "2019-08-12T03:53:57.103103",
     "status": "completed"
    },
    "tags": []
   },
   "source": [
    "### Analysis\n",
    "\n",
    "In interest of time, I will also drop the seat comfort, cabin staff service and food and beverages rating.  The reasoning behind this is to preserve as many samples as possible in order to increase certainty in the regression analysis.\n",
    "\n",
    "In the analysis I will do three things:\n",
    "1. Obtain relative feature importances via L1 regularization with varying strengths\n",
    "2. Estimate regression coefficients\n",
    "3. Obtain a 95% CI via bootstrapping\n",
    "\n",
    "\n",
    "`scikit-learn` was chosen for this task over another module such as `statsmodels`.  `statsmodels` would provide a CLT estimate of the coefficients, giving a CI by default.  But `scikit-learn` allows regression to be performed with L1 regularization, my chosen method for feature importance."
   ]
  },
  {
   "cell_type": "code",
   "execution_count": 12,
   "metadata": {
    "papermill": {
     "duration": 0.051962,
     "end_time": "2019-08-12T03:53:57.203096",
     "exception": false,
     "start_time": "2019-08-12T03:53:57.151134",
     "status": "completed"
    },
    "tags": []
   },
   "outputs": [],
   "source": [
    "# remove columns with large amounts of NA values, then drop all rows with NA values\n",
    "review_regr = reviews_regr.drop(\n",
    "    [\"seat_comfort_rating\", \"cabin_staff_service_rating\", \"food_and_beverages_rating\"], axis = 1).dropna()\n",
    "prep = PrepareForModel(review_regr)\n",
    "review_regr_enc = prep.make_dummy_df({\"seat_type\" : \"Economy Class\", \"recommendation\" : \"no\"}, add_intercept = False)"
   ]
  },
  {
   "cell_type": "code",
   "execution_count": 13,
   "metadata": {
    "papermill": {
     "duration": 0.042994,
     "end_time": "2019-08-12T03:53:57.272102",
     "exception": false,
     "start_time": "2019-08-12T03:53:57.229108",
     "status": "completed"
    },
    "tags": []
   },
   "outputs": [],
   "source": [
    "# split into X and Y\n",
    "# don't worry about test/train splits as we are only concerned about the relationship\n",
    "# between variables and the response rather than predicting anything\n",
    "X = review_regr_enc.drop([\"recommendation_yes\"], axis = 1)\n",
    "y = review_regr_enc[\"recommendation_yes\"]"
   ]
  },
  {
   "cell_type": "markdown",
   "metadata": {
    "papermill": {
     "duration": 0.033982,
     "end_time": "2019-08-12T03:53:57.329099",
     "exception": false,
     "start_time": "2019-08-12T03:53:57.295117",
     "status": "completed"
    },
    "tags": []
   },
   "source": [
    "### Feature Importances"
   ]
  },
  {
   "cell_type": "code",
   "execution_count": 14,
   "metadata": {
    "papermill": {
     "duration": 0.034001,
     "end_time": "2019-08-12T03:53:57.390099",
     "exception": false,
     "start_time": "2019-08-12T03:53:57.356098",
     "status": "completed"
    },
    "tags": []
   },
   "outputs": [],
   "source": [
    "# specify L1 regularization\n",
    "logit_l1_params = {\"penalty\" : \"l1\",\n",
    "                \"fit_intercept\" : True,\n",
    "                \"random_state\" : 42,\n",
    "                \"solver\" : \"liblinear\", #required for accurate coefficients\n",
    "                \"max_iter\" : 100}"
   ]
  },
  {
   "cell_type": "code",
   "execution_count": 15,
   "metadata": {
    "papermill": {
     "duration": 0.107996,
     "end_time": "2019-08-12T03:53:57.524095",
     "exception": false,
     "start_time": "2019-08-12T03:53:57.416099",
     "status": "completed"
    },
    "tags": []
   },
   "outputs": [],
   "source": [
    "# run through varying regularization strength values\n",
    "# note that C is inverse regularization strength\n",
    "C_vals = 6**np.linspace(-2, 8, 11)\n",
    "\n",
    "# create empty dataframe to fill in\n",
    "C_df = pd.DataFrame()\n",
    "\n",
    "\n",
    "for count, C in enumerate(C_vals):\n",
    "    \n",
    "    # set up the column name\n",
    "    col = \"C_\" + str(round(C,3))\n",
    "    \n",
    "    # create the regression object with specified reg. strength\n",
    "    logit_l1 = LogisticRegression(**logit_l1_params, C = C)\n",
    "    logit_l1.fit(X,y)\n",
    "    \n",
    "    # assign coeffients to the correct place in the matrix\n",
    "    C_df[col] = logit_l1.coef_.flatten()\n",
    "\n",
    "C_df.index = X.columns"
   ]
  },
  {
   "cell_type": "markdown",
   "metadata": {
    "papermill": {
     "duration": 0.023993,
     "end_time": "2019-08-12T03:53:57.574095",
     "exception": false,
     "start_time": "2019-08-12T03:53:57.550102",
     "status": "completed"
    },
    "tags": []
   },
   "source": [
    "Feature importance in this case is defined as features that still have a coefficient at high regularization strength values.  If I look at the order in which feature's coefficients become zero with increasing regularization strength, this should give relative feature importance order."
   ]
  },
  {
   "cell_type": "code",
   "execution_count": 16,
   "metadata": {
    "papermill": {
     "duration": 0.042972,
     "end_time": "2019-08-12T03:53:57.642103",
     "exception": false,
     "start_time": "2019-08-12T03:53:57.599131",
     "status": "completed"
    },
    "tags": []
   },
   "outputs": [
    {
     "data": {
      "text/html": [
       "<div>\n",
       "<style scoped>\n",
       "    .dataframe tbody tr th:only-of-type {\n",
       "        vertical-align: middle;\n",
       "    }\n",
       "\n",
       "    .dataframe tbody tr th {\n",
       "        vertical-align: top;\n",
       "    }\n",
       "\n",
       "    .dataframe thead th {\n",
       "        text-align: right;\n",
       "    }\n",
       "</style>\n",
       "<table border=\"1\" class=\"dataframe\">\n",
       "  <thead>\n",
       "    <tr style=\"text-align: right;\">\n",
       "      <th></th>\n",
       "      <th>C_0.028</th>\n",
       "      <th>C_0.167</th>\n",
       "      <th>C_1.0</th>\n",
       "      <th>C_6.0</th>\n",
       "      <th>C_36.0</th>\n",
       "      <th>C_216.0</th>\n",
       "      <th>C_1296.0</th>\n",
       "      <th>C_7776.0</th>\n",
       "      <th>C_46656.0</th>\n",
       "      <th>C_279936.0</th>\n",
       "      <th>C_1679616.0</th>\n",
       "    </tr>\n",
       "  </thead>\n",
       "  <tbody>\n",
       "    <tr>\n",
       "      <th>review_value</th>\n",
       "      <td>0.167544</td>\n",
       "      <td>0.592905</td>\n",
       "      <td>1.260665</td>\n",
       "      <td>1.915156</td>\n",
       "      <td>2.290198</td>\n",
       "      <td>2.387994</td>\n",
       "      <td>2.412487</td>\n",
       "      <td>2.410818</td>\n",
       "      <td>2.416485</td>\n",
       "      <td>2.412993</td>\n",
       "      <td>2.412995</td>\n",
       "    </tr>\n",
       "    <tr>\n",
       "      <th>value_for_money_rating</th>\n",
       "      <td>0.000000</td>\n",
       "      <td>0.000000</td>\n",
       "      <td>0.287325</td>\n",
       "      <td>0.586043</td>\n",
       "      <td>0.692446</td>\n",
       "      <td>0.715612</td>\n",
       "      <td>0.720055</td>\n",
       "      <td>0.721591</td>\n",
       "      <td>0.720965</td>\n",
       "      <td>0.716558</td>\n",
       "      <td>0.716553</td>\n",
       "    </tr>\n",
       "    <tr>\n",
       "      <th>review_luggage_seats</th>\n",
       "      <td>0.000000</td>\n",
       "      <td>0.000000</td>\n",
       "      <td>0.000000</td>\n",
       "      <td>0.000000</td>\n",
       "      <td>-0.147750</td>\n",
       "      <td>-4.348466</td>\n",
       "      <td>-6.613777</td>\n",
       "      <td>-5.198756</td>\n",
       "      <td>-8.032637</td>\n",
       "      <td>-15.500214</td>\n",
       "      <td>-15.516508</td>\n",
       "    </tr>\n",
       "    <tr>\n",
       "      <th>review_time_delays</th>\n",
       "      <td>0.000000</td>\n",
       "      <td>0.000000</td>\n",
       "      <td>0.000000</td>\n",
       "      <td>0.000000</td>\n",
       "      <td>0.000000</td>\n",
       "      <td>-4.114008</td>\n",
       "      <td>-6.371325</td>\n",
       "      <td>-4.956095</td>\n",
       "      <td>-7.789375</td>\n",
       "      <td>-15.263695</td>\n",
       "      <td>-15.279997</td>\n",
       "    </tr>\n",
       "    <tr>\n",
       "      <th>review_food_bev_crew</th>\n",
       "      <td>0.000000</td>\n",
       "      <td>0.000000</td>\n",
       "      <td>0.000000</td>\n",
       "      <td>-0.019486</td>\n",
       "      <td>-0.436438</td>\n",
       "      <td>-4.686347</td>\n",
       "      <td>-6.961945</td>\n",
       "      <td>-5.541425</td>\n",
       "      <td>-8.387801</td>\n",
       "      <td>-15.881671</td>\n",
       "      <td>-15.898028</td>\n",
       "    </tr>\n",
       "    <tr>\n",
       "      <th>title_money_value</th>\n",
       "      <td>0.000000</td>\n",
       "      <td>0.000000</td>\n",
       "      <td>0.000000</td>\n",
       "      <td>-3.046914</td>\n",
       "      <td>-6.070140</td>\n",
       "      <td>-6.987636</td>\n",
       "      <td>-6.538638</td>\n",
       "      <td>-7.572138</td>\n",
       "      <td>-5.731944</td>\n",
       "      <td>-0.787135</td>\n",
       "      <td>-0.773093</td>\n",
       "    </tr>\n",
       "    <tr>\n",
       "      <th>title_staff_delays</th>\n",
       "      <td>0.000000</td>\n",
       "      <td>0.000000</td>\n",
       "      <td>0.000000</td>\n",
       "      <td>0.000000</td>\n",
       "      <td>0.000000</td>\n",
       "      <td>-0.241771</td>\n",
       "      <td>0.190083</td>\n",
       "      <td>-0.803397</td>\n",
       "      <td>1.064521</td>\n",
       "      <td>6.007047</td>\n",
       "      <td>6.021272</td>\n",
       "    </tr>\n",
       "    <tr>\n",
       "      <th>seat_type_Business Class</th>\n",
       "      <td>0.000000</td>\n",
       "      <td>0.000000</td>\n",
       "      <td>0.000000</td>\n",
       "      <td>0.000000</td>\n",
       "      <td>0.000000</td>\n",
       "      <td>0.000000</td>\n",
       "      <td>0.000000</td>\n",
       "      <td>0.000000</td>\n",
       "      <td>0.000000</td>\n",
       "      <td>0.000000</td>\n",
       "      <td>0.721005</td>\n",
       "    </tr>\n",
       "    <tr>\n",
       "      <th>seat_type_First Class</th>\n",
       "      <td>0.000000</td>\n",
       "      <td>0.000000</td>\n",
       "      <td>0.000000</td>\n",
       "      <td>0.000000</td>\n",
       "      <td>0.000000</td>\n",
       "      <td>0.000000</td>\n",
       "      <td>0.000000</td>\n",
       "      <td>0.000000</td>\n",
       "      <td>-0.483965</td>\n",
       "      <td>-2.294960</td>\n",
       "      <td>-4.086723</td>\n",
       "    </tr>\n",
       "  </tbody>\n",
       "</table>\n",
       "</div>"
      ],
      "text/plain": [
       "                           C_0.028   C_0.167     C_1.0     C_6.0    C_36.0  \\\n",
       "review_value              0.167544  0.592905  1.260665  1.915156  2.290198   \n",
       "value_for_money_rating    0.000000  0.000000  0.287325  0.586043  0.692446   \n",
       "review_luggage_seats      0.000000  0.000000  0.000000  0.000000 -0.147750   \n",
       "review_time_delays        0.000000  0.000000  0.000000  0.000000  0.000000   \n",
       "review_food_bev_crew      0.000000  0.000000  0.000000 -0.019486 -0.436438   \n",
       "title_money_value         0.000000  0.000000  0.000000 -3.046914 -6.070140   \n",
       "title_staff_delays        0.000000  0.000000  0.000000  0.000000  0.000000   \n",
       "seat_type_Business Class  0.000000  0.000000  0.000000  0.000000  0.000000   \n",
       "seat_type_First Class     0.000000  0.000000  0.000000  0.000000  0.000000   \n",
       "\n",
       "                           C_216.0  C_1296.0  C_7776.0  C_46656.0  C_279936.0  \\\n",
       "review_value              2.387994  2.412487  2.410818   2.416485    2.412993   \n",
       "value_for_money_rating    0.715612  0.720055  0.721591   0.720965    0.716558   \n",
       "review_luggage_seats     -4.348466 -6.613777 -5.198756  -8.032637  -15.500214   \n",
       "review_time_delays       -4.114008 -6.371325 -4.956095  -7.789375  -15.263695   \n",
       "review_food_bev_crew     -4.686347 -6.961945 -5.541425  -8.387801  -15.881671   \n",
       "title_money_value        -6.987636 -6.538638 -7.572138  -5.731944   -0.787135   \n",
       "title_staff_delays       -0.241771  0.190083 -0.803397   1.064521    6.007047   \n",
       "seat_type_Business Class  0.000000  0.000000  0.000000   0.000000    0.000000   \n",
       "seat_type_First Class     0.000000  0.000000  0.000000  -0.483965   -2.294960   \n",
       "\n",
       "                          C_1679616.0  \n",
       "review_value                 2.412995  \n",
       "value_for_money_rating       0.716553  \n",
       "review_luggage_seats       -15.516508  \n",
       "review_time_delays         -15.279997  \n",
       "review_food_bev_crew       -15.898028  \n",
       "title_money_value           -0.773093  \n",
       "title_staff_delays           6.021272  \n",
       "seat_type_Business Class     0.721005  \n",
       "seat_type_First Class       -4.086723  "
      ]
     },
     "execution_count": 16,
     "metadata": {},
     "output_type": "execute_result"
    }
   ],
   "source": [
    "# view the resulting dataframe\n",
    "C_df"
   ]
  },
  {
   "cell_type": "code",
   "execution_count": 17,
   "metadata": {
    "papermill": {
     "duration": 0.038991,
     "end_time": "2019-08-12T03:53:57.713096",
     "exception": false,
     "start_time": "2019-08-12T03:53:57.674105",
     "status": "completed"
    },
    "tags": []
   },
   "outputs": [],
   "source": [
    "# extract the order of feature importance\n",
    "\n",
    "feature_importance_order = (C_df != 0).sum(axis = 1).sort_values(ascending = False).index.tolist()"
   ]
  },
  {
   "cell_type": "code",
   "execution_count": 18,
   "metadata": {
    "papermill": {
     "duration": 0.036998,
     "end_time": "2019-08-12T03:53:57.777099",
     "exception": false,
     "start_time": "2019-08-12T03:53:57.740101",
     "status": "completed"
    },
    "scrolled": true,
    "tags": []
   },
   "outputs": [
    {
     "data": {
      "text/plain": [
       "['review_value',\n",
       " 'value_for_money_rating',\n",
       " 'title_money_value',\n",
       " 'review_food_bev_crew',\n",
       " 'review_luggage_seats',\n",
       " 'title_staff_delays',\n",
       " 'review_time_delays',\n",
       " 'seat_type_First Class',\n",
       " 'seat_type_Business Class']"
      ]
     },
     "execution_count": 18,
     "metadata": {},
     "output_type": "execute_result"
    }
   ],
   "source": [
    "# view the feature importance order\n",
    "feature_importance_order"
   ]
  },
  {
   "cell_type": "markdown",
   "metadata": {
    "papermill": {
     "duration": 0.032031,
     "end_time": "2019-08-12T03:53:57.840126",
     "exception": false,
     "start_time": "2019-08-12T03:53:57.808095",
     "status": "completed"
    },
    "tags": []
   },
   "source": [
    "### Regression Coefficients"
   ]
  },
  {
   "cell_type": "code",
   "execution_count": 19,
   "metadata": {
    "papermill": {
     "duration": 0.034,
     "end_time": "2019-08-12T03:53:57.900100",
     "exception": false,
     "start_time": "2019-08-12T03:53:57.866100",
     "status": "completed"
    },
    "tags": []
   },
   "outputs": [],
   "source": [
    "# get regression coefficients\n",
    "logit_params = {\"penalty\" : \"none\",\n",
    "                \"C\" : 1.0,\n",
    "                \"fit_intercept\" : True,\n",
    "                \"random_state\" : 42,\n",
    "                \"solver\" : \"newton-cg\", #required for accurate coefficients\n",
    "                \"max_iter\" : 100}"
   ]
  },
  {
   "cell_type": "code",
   "execution_count": 20,
   "metadata": {
    "papermill": {
     "duration": 0.042966,
     "end_time": "2019-08-12T03:53:57.975101",
     "exception": false,
     "start_time": "2019-08-12T03:53:57.932135",
     "status": "completed"
    },
    "tags": []
   },
   "outputs": [],
   "source": [
    "# initialize the model\n",
    "logit = LogisticRegression(**logit_params)"
   ]
  },
  {
   "cell_type": "code",
   "execution_count": 21,
   "metadata": {
    "papermill": {
     "duration": 0.069993,
     "end_time": "2019-08-12T03:53:58.078093",
     "exception": false,
     "start_time": "2019-08-12T03:53:58.008100",
     "status": "completed"
    },
    "tags": []
   },
   "outputs": [],
   "source": [
    "# fit the model, extract coefficients\n",
    "logit.fit(X,y)\n",
    "logit_coefs = logit.coef_.flatten()"
   ]
  },
  {
   "cell_type": "code",
   "execution_count": 22,
   "metadata": {
    "papermill": {
     "duration": 0.038964,
     "end_time": "2019-08-12T03:53:58.142101",
     "exception": false,
     "start_time": "2019-08-12T03:53:58.103137",
     "status": "completed"
    },
    "tags": []
   },
   "outputs": [],
   "source": [
    "# start to build the final dataframe containing results\n",
    "review_results_df = pd.DataFrame({\n",
    "    \"variable_name\" : X.columns,\n",
    "    \"coefficient_estimate\" : logit_coefs,\n",
    "    \"feature_importance_value\" : (C_df == 0).sum(axis = 1)\n",
    "})"
   ]
  },
  {
   "cell_type": "markdown",
   "metadata": {
    "papermill": {
     "duration": 0.027997,
     "end_time": "2019-08-12T03:53:58.195093",
     "exception": false,
     "start_time": "2019-08-12T03:53:58.167096",
     "status": "completed"
    },
    "tags": []
   },
   "source": [
    "### Bootstrapped Coefficients for Confidence Intervals\n",
    "\n",
    "Bootstrapped coefficients will be used to derive confidence intervals and pseudo p-values to get an idea of how good each coefficient estimate is."
   ]
  },
  {
   "cell_type": "code",
   "execution_count": 23,
   "metadata": {
    "papermill": {
     "duration": 54.051285,
     "end_time": "2019-08-12T03:54:52.272382",
     "exception": false,
     "start_time": "2019-08-12T03:53:58.221097",
     "status": "completed"
    },
    "tags": []
   },
   "outputs": [
    {
     "name": "stdout",
     "output_type": "stream",
     "text": [
      "Bootstrapping took 54.0082790851593\n"
     ]
    }
   ],
   "source": [
    "start = time.time()\n",
    "boot_coefs = parallel_bootstrap(skmodel = LogisticRegression, \n",
    "                                skmodel_args = logit_params,\n",
    "                                X = X,\n",
    "                                y = review_regr_enc[[\"recommendation_yes\"]], # requires a pd.DataFrame rather than a np array\n",
    "                                n_bootstraps = 5000)\n",
    "\n",
    "print(\"Bootstrapping took {}\".format(time.time() - start))"
   ]
  },
  {
   "cell_type": "code",
   "execution_count": 24,
   "metadata": {
    "papermill": {
     "duration": 0.04,
     "end_time": "2019-08-12T03:54:52.340382",
     "exception": false,
     "start_time": "2019-08-12T03:54:52.300382",
     "status": "completed"
    },
    "tags": []
   },
   "outputs": [],
   "source": [
    "# extract the 95% confidence interval from the bootstrapped coefficients\n",
    "review_results_df[\"quantile2.5\"] = np.quantile(boot_coefs, 0.025, axis = 0)\n",
    "review_results_df[\"quantile97.5\"] = np.quantile(boot_coefs, 0.975, axis = 0)"
   ]
  },
  {
   "cell_type": "code",
   "execution_count": 25,
   "metadata": {
    "papermill": {
     "duration": 0.048001,
     "end_time": "2019-08-12T03:54:52.413386",
     "exception": false,
     "start_time": "2019-08-12T03:54:52.365385",
     "status": "completed"
    },
    "tags": []
   },
   "outputs": [
    {
     "data": {
      "text/html": [
       "<div>\n",
       "<style scoped>\n",
       "    .dataframe tbody tr th:only-of-type {\n",
       "        vertical-align: middle;\n",
       "    }\n",
       "\n",
       "    .dataframe tbody tr th {\n",
       "        vertical-align: top;\n",
       "    }\n",
       "\n",
       "    .dataframe thead th {\n",
       "        text-align: right;\n",
       "    }\n",
       "</style>\n",
       "<table border=\"1\" class=\"dataframe\">\n",
       "  <thead>\n",
       "    <tr style=\"text-align: right;\">\n",
       "      <th></th>\n",
       "      <th>variable_name</th>\n",
       "      <th>coefficient_estimate</th>\n",
       "      <th>feature_importance_value</th>\n",
       "      <th>quantile2.5</th>\n",
       "      <th>quantile97.5</th>\n",
       "    </tr>\n",
       "  </thead>\n",
       "  <tbody>\n",
       "    <tr>\n",
       "      <th>review_value</th>\n",
       "      <td>review_value</td>\n",
       "      <td>2.428162</td>\n",
       "      <td>0</td>\n",
       "      <td>1.789010</td>\n",
       "      <td>2894.348496</td>\n",
       "    </tr>\n",
       "    <tr>\n",
       "      <th>value_for_money_rating</th>\n",
       "      <td>value_for_money_rating</td>\n",
       "      <td>0.692510</td>\n",
       "      <td>2</td>\n",
       "      <td>-1.339488</td>\n",
       "      <td>36.609167</td>\n",
       "    </tr>\n",
       "    <tr>\n",
       "      <th>review_food_bev_crew</th>\n",
       "      <td>review_food_bev_crew</td>\n",
       "      <td>-124.852794</td>\n",
       "      <td>3</td>\n",
       "      <td>-4012.241498</td>\n",
       "      <td>53.032617</td>\n",
       "    </tr>\n",
       "    <tr>\n",
       "      <th>title_money_value</th>\n",
       "      <td>title_money_value</td>\n",
       "      <td>33.934106</td>\n",
       "      <td>3</td>\n",
       "      <td>-4630.907210</td>\n",
       "      <td>875.150363</td>\n",
       "    </tr>\n",
       "    <tr>\n",
       "      <th>review_luggage_seats</th>\n",
       "      <td>review_luggage_seats</td>\n",
       "      <td>-124.231626</td>\n",
       "      <td>4</td>\n",
       "      <td>-4039.637143</td>\n",
       "      <td>55.119078</td>\n",
       "    </tr>\n",
       "    <tr>\n",
       "      <th>review_time_delays</th>\n",
       "      <td>review_time_delays</td>\n",
       "      <td>-124.051118</td>\n",
       "      <td>5</td>\n",
       "      <td>-2375.644515</td>\n",
       "      <td>70.291347</td>\n",
       "    </tr>\n",
       "    <tr>\n",
       "      <th>title_staff_delays</th>\n",
       "      <td>title_staff_delays</td>\n",
       "      <td>40.243784</td>\n",
       "      <td>5</td>\n",
       "      <td>-2489.441351</td>\n",
       "      <td>1807.150002</td>\n",
       "    </tr>\n",
       "    <tr>\n",
       "      <th>seat_type_First Class</th>\n",
       "      <td>seat_type_First Class</td>\n",
       "      <td>-2.915885</td>\n",
       "      <td>8</td>\n",
       "      <td>-5.328878</td>\n",
       "      <td>0.000000</td>\n",
       "    </tr>\n",
       "    <tr>\n",
       "      <th>seat_type_Business Class</th>\n",
       "      <td>seat_type_Business Class</td>\n",
       "      <td>0.509681</td>\n",
       "      <td>10</td>\n",
       "      <td>0.000000</td>\n",
       "      <td>3.733909</td>\n",
       "    </tr>\n",
       "  </tbody>\n",
       "</table>\n",
       "</div>"
      ],
      "text/plain": [
       "                                     variable_name  coefficient_estimate  \\\n",
       "review_value                          review_value              2.428162   \n",
       "value_for_money_rating      value_for_money_rating              0.692510   \n",
       "review_food_bev_crew          review_food_bev_crew           -124.852794   \n",
       "title_money_value                title_money_value             33.934106   \n",
       "review_luggage_seats          review_luggage_seats           -124.231626   \n",
       "review_time_delays              review_time_delays           -124.051118   \n",
       "title_staff_delays              title_staff_delays             40.243784   \n",
       "seat_type_First Class        seat_type_First Class             -2.915885   \n",
       "seat_type_Business Class  seat_type_Business Class              0.509681   \n",
       "\n",
       "                          feature_importance_value  quantile2.5  quantile97.5  \n",
       "review_value                                     0     1.789010   2894.348496  \n",
       "value_for_money_rating                           2    -1.339488     36.609167  \n",
       "review_food_bev_crew                             3 -4012.241498     53.032617  \n",
       "title_money_value                                3 -4630.907210    875.150363  \n",
       "review_luggage_seats                             4 -4039.637143     55.119078  \n",
       "review_time_delays                               5 -2375.644515     70.291347  \n",
       "title_staff_delays                               5 -2489.441351   1807.150002  \n",
       "seat_type_First Class                            8    -5.328878      0.000000  \n",
       "seat_type_Business Class                        10     0.000000      3.733909  "
      ]
     },
     "execution_count": 25,
     "metadata": {},
     "output_type": "execute_result"
    }
   ],
   "source": [
    "review_results_df.sort_values(by = \"feature_importance_value\")"
   ]
  },
  {
   "cell_type": "markdown",
   "metadata": {
    "papermill": {
     "duration": 0.024994,
     "end_time": "2019-08-12T03:54:52.461389",
     "exception": false,
     "start_time": "2019-08-12T03:54:52.436395",
     "status": "completed"
    },
    "tags": []
   },
   "source": [
    "It turns out that the coefficients vary wildly.  The only coefficients that somewhat make sense are the two least important ones, first class and business class seat types.  We know that they only had one review for each one.\n",
    "\n",
    "The feature importance order makes sense, but I don't think we can put any stock into the coefficients.  The reason I think the feature importance order is somewhat reliable is because it is backed up by what was seen in the EDA notebook.\n",
    "\n",
    "Small sample size is the culprit here, no coefficient has enough power behind it to make a solid conclusion."
   ]
  }
 ],
 "metadata": {
  "celltoolbar": "Tags",
  "kernelspec": {
   "display_name": "Python 3",
   "language": "python",
   "name": "python3"
  },
  "language_info": {
   "codemirror_mode": {
    "name": "ipython",
    "version": 3
   },
   "file_extension": ".py",
   "mimetype": "text/x-python",
   "name": "python",
   "nbconvert_exporter": "python",
   "pygments_lexer": "ipython3",
   "version": "3.6.8"
  },
  "papermill": {
   "duration": 69.520582,
   "end_time": "2019-08-12T03:54:53.756921",
   "environment_variables": {},
   "exception": null,
   "input_path": "src/ipynbs/regression_analysis.ipynb",
   "output_path": "src/regression_analysis_ran.ipynb",
   "parameters": {
    "load_path": "data/topic_modeling_gw_reviews.csv"
   },
   "start_time": "2019-08-12T03:53:44.236339",
   "version": "1.0.1"
  }
 },
 "nbformat": 4,
 "nbformat_minor": 2
}