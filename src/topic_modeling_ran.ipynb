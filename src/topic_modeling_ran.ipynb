{
 "cells": [
  {
   "cell_type": "markdown",
   "metadata": {
    "papermill": {
     "duration": 0.042839,
     "end_time": "2019-08-12T04:02:01.913481",
     "exception": false,
     "start_time": "2019-08-12T04:02:01.870642",
     "status": "completed"
    },
    "tags": []
   },
   "source": [
    "# Topic Modeling\n",
    "\n",
    "#### Evan Yathon\n",
    "\n",
    "This notebook is intended to be run with papermill from the project root.\n",
    "\n",
    "The purpose of this notebook is to process the review title and content to extract key phrases in each review.  Then key phrases will be used in a regression analysis to find out what is most important for a reviewer in recommending or not recommending the airline.\n",
    "\n",
    "Topic modeling using LDA will be the tool of choice.  Probability of belonging to a certain topic will be new features used in the regression analysis.\n",
    "\n",
    "Usage:\n",
    "\n",
    "`papermill src/ipynbs/topic_modeling.ipynb src/topic_modeling_ran.ipynb -p load_path data/cleaned_gw_reviews.csv -p save_path data/topic_modeling_gw_reviews.csv`"
   ]
  },
  {
   "cell_type": "code",
   "execution_count": 1,
   "metadata": {
    "papermill": {
     "duration": 0.029997,
     "end_time": "2019-08-12T04:02:01.965448",
     "exception": false,
     "start_time": "2019-08-12T04:02:01.935451",
     "status": "completed"
    },
    "tags": [
     "parameters"
    ]
   },
   "outputs": [],
   "source": [
    "#parameters section for Papermill\n",
    "\n",
    "load_path = \"../../data/cleaned_gw_reviews.csv\"\n",
    "save_path = \"../../data/topic_modeling_gw_reviews.csv\""
   ]
  },
  {
   "cell_type": "code",
   "execution_count": 2,
   "metadata": {
    "papermill": {
     "duration": 0.026979,
     "end_time": "2019-08-12T04:02:02.016446",
     "exception": false,
     "start_time": "2019-08-12T04:02:01.989467",
     "status": "completed"
    },
    "tags": [
     "injected-parameters"
    ]
   },
   "outputs": [],
   "source": [
    "# Parameters\n",
    "load_path = \"data/cleaned_gw_reviews.csv\"\n",
    "save_path = \"data/topic_modelling_gw_reviews.csv\"\n"
   ]
  },
  {
   "cell_type": "code",
   "execution_count": 3,
   "metadata": {
    "papermill": {
     "duration": 8.827454,
     "end_time": "2019-08-12T04:02:10.864905",
     "exception": false,
     "start_time": "2019-08-12T04:02:02.037451",
     "status": "completed"
    },
    "tags": []
   },
   "outputs": [],
   "source": [
    "# loading packages\n",
    "\n",
    "# utils\n",
    "import pandas as pd\n",
    "import re\n",
    "import numpy as np\n",
    "\n",
    "# NLP\n",
    "import spacy\n",
    "import gensim \n",
    "import gensim.corpora as corpora\n",
    "from gensim.corpora import Dictionary\n",
    "from gensim import models\n",
    "import pyLDAvis.gensim\n",
    "\n",
    "# display preference for ipynbs\n",
    "%matplotlib inline"
   ]
  },
  {
   "cell_type": "code",
   "execution_count": 4,
   "metadata": {
    "papermill": {
     "duration": 0.035998,
     "end_time": "2019-08-12T04:02:10.921935",
     "exception": false,
     "start_time": "2019-08-12T04:02:10.885937",
     "status": "completed"
    },
    "tags": []
   },
   "outputs": [],
   "source": [
    "# ensure the dates are parsed correctly with parse_dates argument\n",
    "reviews = pd.read_csv(load_path, parse_dates = [\"date_of_review\", \"date_flown\"])"
   ]
  },
  {
   "cell_type": "code",
   "execution_count": 5,
   "metadata": {
    "papermill": {
     "duration": 0.054989,
     "end_time": "2019-08-12T04:02:10.995898",
     "exception": false,
     "start_time": "2019-08-12T04:02:10.940909",
     "status": "completed"
    },
    "tags": []
   },
   "outputs": [
    {
     "data": {
      "text/html": [
       "<div>\n",
       "<style scoped>\n",
       "    .dataframe tbody tr th:only-of-type {\n",
       "        vertical-align: middle;\n",
       "    }\n",
       "\n",
       "    .dataframe tbody tr th {\n",
       "        vertical-align: top;\n",
       "    }\n",
       "\n",
       "    .dataframe thead th {\n",
       "        text-align: right;\n",
       "    }\n",
       "</style>\n",
       "<table border=\"1\" class=\"dataframe\">\n",
       "  <thead>\n",
       "    <tr style=\"text-align: right;\">\n",
       "      <th></th>\n",
       "      <th>title</th>\n",
       "      <th>review_value</th>\n",
       "      <th>n_user_reviews</th>\n",
       "      <th>reviewer_name</th>\n",
       "      <th>reviewer_country</th>\n",
       "      <th>date_of_review</th>\n",
       "      <th>review_text</th>\n",
       "      <th>aircraft</th>\n",
       "      <th>traveller_type</th>\n",
       "      <th>seat_type</th>\n",
       "      <th>route</th>\n",
       "      <th>date_flown</th>\n",
       "      <th>seat_comfort_rating</th>\n",
       "      <th>cabin_staff_service_rating</th>\n",
       "      <th>food_and_beverages_rating</th>\n",
       "      <th>inflight_entertainment_rating</th>\n",
       "      <th>ground_service_rating</th>\n",
       "      <th>value_for_money_rating</th>\n",
       "      <th>recommendation</th>\n",
       "    </tr>\n",
       "  </thead>\n",
       "  <tbody>\n",
       "    <tr>\n",
       "      <th>0</th>\n",
       "      <td>\"Seat was fine with enough legroom\"</td>\n",
       "      <td>7.0</td>\n",
       "      <td>9 reviews</td>\n",
       "      <td>Sander van Kan</td>\n",
       "      <td>Netherlands</td>\n",
       "      <td>2019-07-01</td>\n",
       "      <td>✅ Trip Verified | Dusseldorf to Berlin. Eurowi...</td>\n",
       "      <td>A319</td>\n",
       "      <td>Couple Leisure</td>\n",
       "      <td>Economy Class</td>\n",
       "      <td>Dusseldorf to Berlin</td>\n",
       "      <td>2019-06-01</td>\n",
       "      <td>4.0</td>\n",
       "      <td>3.0</td>\n",
       "      <td>NaN</td>\n",
       "      <td>1.0</td>\n",
       "      <td>3.0</td>\n",
       "      <td>5.0</td>\n",
       "      <td>yes</td>\n",
       "    </tr>\n",
       "    <tr>\n",
       "      <th>1</th>\n",
       "      <td>\"crew were smiling and good\"</td>\n",
       "      <td>6.0</td>\n",
       "      <td>9 reviews</td>\n",
       "      <td>Sander van Kan</td>\n",
       "      <td>Netherlands</td>\n",
       "      <td>2019-07-01</td>\n",
       "      <td>✅ Trip Verified | Berlin to Dusseldorf. Eurowi...</td>\n",
       "      <td>A319</td>\n",
       "      <td>Couple Leisure</td>\n",
       "      <td>Economy Class</td>\n",
       "      <td>Berlin to Dusseldorf</td>\n",
       "      <td>2019-06-01</td>\n",
       "      <td>3.0</td>\n",
       "      <td>3.0</td>\n",
       "      <td>NaN</td>\n",
       "      <td>1.0</td>\n",
       "      <td>3.0</td>\n",
       "      <td>5.0</td>\n",
       "      <td>yes</td>\n",
       "    </tr>\n",
       "    <tr>\n",
       "      <th>2</th>\n",
       "      <td>\"only two agents available\"</td>\n",
       "      <td>1.0</td>\n",
       "      <td>6 reviews</td>\n",
       "      <td>Andrew Maynard</td>\n",
       "      <td>United Kingdom</td>\n",
       "      <td>2017-01-04</td>\n",
       "      <td>Check in process at Cologne very poor. Flight ...</td>\n",
       "      <td>NaN</td>\n",
       "      <td>Couple Leisure</td>\n",
       "      <td>Economy Class</td>\n",
       "      <td>CGN to MAN</td>\n",
       "      <td>2017-01-01</td>\n",
       "      <td>2.0</td>\n",
       "      <td>2.0</td>\n",
       "      <td>NaN</td>\n",
       "      <td>NaN</td>\n",
       "      <td>1.0</td>\n",
       "      <td>2.0</td>\n",
       "      <td>no</td>\n",
       "    </tr>\n",
       "    <tr>\n",
       "      <th>3</th>\n",
       "      <td>\"good flight and friendly staff\"</td>\n",
       "      <td>7.0</td>\n",
       "      <td>1 reviews</td>\n",
       "      <td>T Steen</td>\n",
       "      <td>Netherlands</td>\n",
       "      <td>2016-09-13</td>\n",
       "      <td>✅ Verified Review |  Amsterdam to Stuttgart. G...</td>\n",
       "      <td>NaN</td>\n",
       "      <td>Business</td>\n",
       "      <td>Economy Class</td>\n",
       "      <td>AMS to STR</td>\n",
       "      <td>2016-09-01</td>\n",
       "      <td>5.0</td>\n",
       "      <td>5.0</td>\n",
       "      <td>1.0</td>\n",
       "      <td>NaN</td>\n",
       "      <td>5.0</td>\n",
       "      <td>5.0</td>\n",
       "      <td>yes</td>\n",
       "    </tr>\n",
       "    <tr>\n",
       "      <th>4</th>\n",
       "      <td>\"never been treated as badly\"</td>\n",
       "      <td>1.0</td>\n",
       "      <td>NaN</td>\n",
       "      <td>Karen Kirner</td>\n",
       "      <td>Austria</td>\n",
       "      <td>2016-08-16</td>\n",
       "      <td>✅ Verified Review |  I have been a frequent tr...</td>\n",
       "      <td>NaN</td>\n",
       "      <td>Business</td>\n",
       "      <td>Economy Class</td>\n",
       "      <td>DUS to VIE</td>\n",
       "      <td>2016-08-01</td>\n",
       "      <td>1.0</td>\n",
       "      <td>1.0</td>\n",
       "      <td>NaN</td>\n",
       "      <td>NaN</td>\n",
       "      <td>3.0</td>\n",
       "      <td>1.0</td>\n",
       "      <td>no</td>\n",
       "    </tr>\n",
       "  </tbody>\n",
       "</table>\n",
       "</div>"
      ],
      "text/plain": [
       "                                 title  review_value n_user_reviews  \\\n",
       "0  \"Seat was fine with enough legroom\"           7.0      9 reviews   \n",
       "1         \"crew were smiling and good\"           6.0      9 reviews   \n",
       "2          \"only two agents available\"           1.0      6 reviews   \n",
       "3     \"good flight and friendly staff\"           7.0      1 reviews   \n",
       "4        \"never been treated as badly\"           1.0            NaN   \n",
       "\n",
       "     reviewer_name reviewer_country date_of_review  \\\n",
       "0   Sander van Kan      Netherlands     2019-07-01   \n",
       "1   Sander van Kan      Netherlands     2019-07-01   \n",
       "2  Andrew Maynard    United Kingdom     2017-01-04   \n",
       "3          T Steen      Netherlands     2016-09-13   \n",
       "4     Karen Kirner          Austria     2016-08-16   \n",
       "\n",
       "                                         review_text aircraft  traveller_type  \\\n",
       "0  ✅ Trip Verified | Dusseldorf to Berlin. Eurowi...     A319  Couple Leisure   \n",
       "1  ✅ Trip Verified | Berlin to Dusseldorf. Eurowi...     A319  Couple Leisure   \n",
       "2  Check in process at Cologne very poor. Flight ...      NaN  Couple Leisure   \n",
       "3  ✅ Verified Review |  Amsterdam to Stuttgart. G...      NaN        Business   \n",
       "4  ✅ Verified Review |  I have been a frequent tr...      NaN        Business   \n",
       "\n",
       "       seat_type                 route date_flown  seat_comfort_rating  \\\n",
       "0  Economy Class  Dusseldorf to Berlin 2019-06-01                  4.0   \n",
       "1  Economy Class  Berlin to Dusseldorf 2019-06-01                  3.0   \n",
       "2  Economy Class            CGN to MAN 2017-01-01                  2.0   \n",
       "3  Economy Class            AMS to STR 2016-09-01                  5.0   \n",
       "4  Economy Class            DUS to VIE 2016-08-01                  1.0   \n",
       "\n",
       "   cabin_staff_service_rating  food_and_beverages_rating  \\\n",
       "0                         3.0                        NaN   \n",
       "1                         3.0                        NaN   \n",
       "2                         2.0                        NaN   \n",
       "3                         5.0                        1.0   \n",
       "4                         1.0                        NaN   \n",
       "\n",
       "   inflight_entertainment_rating  ground_service_rating  \\\n",
       "0                            1.0                    3.0   \n",
       "1                            1.0                    3.0   \n",
       "2                            NaN                    1.0   \n",
       "3                            NaN                    5.0   \n",
       "4                            NaN                    3.0   \n",
       "\n",
       "   value_for_money_rating recommendation  \n",
       "0                     5.0            yes  \n",
       "1                     5.0            yes  \n",
       "2                     2.0             no  \n",
       "3                     5.0            yes  \n",
       "4                     1.0             no  "
      ]
     },
     "execution_count": 5,
     "metadata": {},
     "output_type": "execute_result"
    }
   ],
   "source": [
    "reviews.head()"
   ]
  },
  {
   "cell_type": "markdown",
   "metadata": {
    "papermill": {
     "duration": 0.020032,
     "end_time": "2019-08-12T04:02:11.035936",
     "exception": false,
     "start_time": "2019-08-12T04:02:11.015904",
     "status": "completed"
    },
    "tags": []
   },
   "source": [
    "### Topic Modeling - Preprocessing\n",
    "\n",
    "Prior to LDA, preprocessing of the text is necessary.  We need to:\n",
    "- Tokenize each document (review)\n",
    "- Minimum token length\n",
    "- Remove stopwords\n",
    "- Lemmatize\n",
    "- Consider only specific parts of speech (nouns, verbs etc.)\n",
    "\n",
    "Use [`spaCy`](https://spacy.io/) for this."
   ]
  },
  {
   "cell_type": "code",
   "execution_count": 6,
   "metadata": {
    "papermill": {
     "duration": 0.95448,
     "end_time": "2019-08-12T04:02:12.017382",
     "exception": false,
     "start_time": "2019-08-12T04:02:11.062902",
     "status": "completed"
    },
    "tags": []
   },
   "outputs": [],
   "source": [
    "# load the english spacy model\n",
    "eng_nlp = spacy.load('en')"
   ]
  },
  {
   "cell_type": "code",
   "execution_count": 7,
   "metadata": {
    "papermill": {
     "duration": 0.059039,
     "end_time": "2019-08-12T04:02:12.094384",
     "exception": false,
     "start_time": "2019-08-12T04:02:12.035345",
     "status": "completed"
    },
    "tags": []
   },
   "outputs": [],
   "source": [
    "# create a function to preprocess the reviews and review titles\n",
    "\n",
    "def preprocess_text(text, min_token_len = 2, relevant_pos = [\"NOUN\", \"VERB\", \"ADJ\"]):\n",
    "    \"\"\"\n",
    "    Given text, min_token_len, and relevant_pos carry out preprocessing of the text \n",
    "    and return a preprocessed string. \n",
    "    \n",
    "    Keyword arguments:\n",
    "    text (str): the text to be preprocessed\n",
    "    min_token_len (int): min_token_length required\n",
    "    relevant_pos (list): a list of relevant pos tags\n",
    "    \n",
    "    Returns: (str) the preprocessed text\n",
    "    \"\"\"\n",
    "    # use several regex expressions to preprocess strange characters\n",
    "    # or unwanted text\n",
    "    \n",
    "    # remove verified emoji\n",
    "    text = re.sub(r\"✅\", \"\", text)\n",
    "    \n",
    "    # remove verified review and trip verified\n",
    "    text = re.sub(r\"Verified Review|Trip Verified\", \"\", text)\n",
    "    \n",
    "    # remove anything that is not a word\n",
    "    text = re.sub(r\"[^\\w]\", \" \", text)\n",
    "    \n",
    "    # replace multiple spaces with a single space\n",
    "    text = re.sub(r\"\\s+\", \" \", text)\n",
    "    \n",
    "    # remove numbers\n",
    "    text = re.sub(r\"[0-9]+\", \"\", text)\n",
    "    \n",
    "    # change all text to lowercase\n",
    "    text = text.lower()\n",
    "    \n",
    "    # remove common terms found in topic modeling output\n",
    "    # eg/ germanwings, flight\n",
    "    # these words are not useful for this application as they\n",
    "    # are common terms found in most reviews, and won't be indicative of \n",
    "    # things that influenced their recommendation\n",
    "    terms = [\"flight\", \"germanwing\", \"fly\", \"review\"]\n",
    "    text = re.sub(\"|\".join(terms),\" \", text)\n",
    "    \n",
    "    # utilize spaCy to tokenize and break text into lemmas/POS:\n",
    "    # - remove stopwords\n",
    "    # - reduce words to their lemmas\n",
    "    # - only keep relevant parts of speech\n",
    "    # - remove short words less than min_token_len\n",
    "    \n",
    "    # spacy will utilize\n",
    "    doc = eng_nlp(text)\n",
    "    \n",
    "    processed_text = \"\"\n",
    "    \n",
    "    for token in doc:\n",
    "        if not token.is_stop and len(token.text) >= min_token_len and token.pos_ in relevant_pos:\n",
    "            processed_text += \" \" + token.lemma_\n",
    "    \n",
    "    return processed_text\n",
    "    "
   ]
  },
  {
   "cell_type": "markdown",
   "metadata": {
    "papermill": {
     "duration": 0.018993,
     "end_time": "2019-08-12T04:02:12.133345",
     "exception": false,
     "start_time": "2019-08-12T04:02:12.114352",
     "status": "completed"
    },
    "tags": []
   },
   "source": [
    "Use the preprocessing function to process all review texts and review titles.\n",
    "\n",
    "A good check will be to see if the review topics somewhat make sense with the title topics"
   ]
  },
  {
   "cell_type": "code",
   "execution_count": 8,
   "metadata": {
    "papermill": {
     "duration": 3.608036,
     "end_time": "2019-08-12T04:02:15.764381",
     "exception": false,
     "start_time": "2019-08-12T04:02:12.156345",
     "status": "completed"
    },
    "tags": []
   },
   "outputs": [],
   "source": [
    "reviews[\"clean_review_text\"] = reviews[\"review_text\"].apply(preprocess_text, min_token_len = 3)\n",
    "reviews[\"clean_title\"] = reviews[\"title\"].apply(preprocess_text, min_token_len = 3)"
   ]
  },
  {
   "cell_type": "code",
   "execution_count": 9,
   "metadata": {
    "papermill": {
     "duration": 0.081043,
     "end_time": "2019-08-12T04:02:15.863388",
     "exception": false,
     "start_time": "2019-08-12T04:02:15.782345",
     "status": "completed"
    },
    "scrolled": false,
    "tags": []
   },
   "outputs": [
    {
     "data": {
      "text/html": [
       "<div>\n",
       "<style scoped>\n",
       "    .dataframe tbody tr th:only-of-type {\n",
       "        vertical-align: middle;\n",
       "    }\n",
       "\n",
       "    .dataframe tbody tr th {\n",
       "        vertical-align: top;\n",
       "    }\n",
       "\n",
       "    .dataframe thead th {\n",
       "        text-align: right;\n",
       "    }\n",
       "</style>\n",
       "<table border=\"1\" class=\"dataframe\">\n",
       "  <thead>\n",
       "    <tr style=\"text-align: right;\">\n",
       "      <th></th>\n",
       "      <th>clean_review_text</th>\n",
       "      <th>review_text</th>\n",
       "      <th>clean_title</th>\n",
       "      <th>title</th>\n",
       "    </tr>\n",
       "  </thead>\n",
       "  <tbody>\n",
       "    <tr>\n",
       "      <th>0</th>\n",
       "      <td>dusseldorf berlin eurowing operate slight del...</td>\n",
       "      <td>✅ Trip Verified | Dusseldorf to Berlin. Eurowi...</td>\n",
       "      <td>seat fine legroom</td>\n",
       "      <td>\"Seat was fine with enough legroom\"</td>\n",
       "    </tr>\n",
       "    <tr>\n",
       "      <th>1</th>\n",
       "      <td>berlin dusseldorf eurowing operate different ...</td>\n",
       "      <td>✅ Trip Verified | Berlin to Dusseldorf. Eurowi...</td>\n",
       "      <td>crew smile good</td>\n",
       "      <td>\"crew were smiling and good\"</td>\n",
       "    </tr>\n",
       "    <tr>\n",
       "      <th>2</th>\n",
       "      <td>check process cologne poor display delay minu...</td>\n",
       "      <td>Check in process at Cologne very poor. Flight ...</td>\n",
       "      <td>agent available</td>\n",
       "      <td>\"only two agents available\"</td>\n",
       "    </tr>\n",
       "    <tr>\n",
       "      <th>3</th>\n",
       "      <td>amsterdam stuttgart good friendly staff airpl...</td>\n",
       "      <td>✅ Verified Review |  Amsterdam to Stuttgart. G...</td>\n",
       "      <td>good friendly staff</td>\n",
       "      <td>\"good flight and friendly staff\"</td>\n",
       "    </tr>\n",
       "    <tr>\n",
       "      <th>4</th>\n",
       "      <td>frequent traveler year fly distance cabin cla...</td>\n",
       "      <td>✅ Verified Review |  I have been a frequent tr...</td>\n",
       "      <td>treat</td>\n",
       "      <td>\"never been treated as badly\"</td>\n",
       "    </tr>\n",
       "    <tr>\n",
       "      <th>5</th>\n",
       "      <td>fly london stanste cologne bonn delay hour lo...</td>\n",
       "      <td>✅ Verified Review |  Flew Germanwings from Lon...</td>\n",
       "      <td>cramp</td>\n",
       "      <td>\"very cramped\"</td>\n",
       "    </tr>\n",
       "    <tr>\n",
       "      <th>6</th>\n",
       "      <td>boyfriend book basic fare hamburg rome fiumic...</td>\n",
       "      <td>My boyfriend and I booked the basic fare from ...</td>\n",
       "      <td>staff friendly</td>\n",
       "      <td>\"staff were friendly\"</td>\n",
       "    </tr>\n",
       "    <tr>\n",
       "      <th>7</th>\n",
       "      <td>operation transfer take eurowing read eurowin...</td>\n",
       "      <td>Germanwings operations have now been transferr...</td>\n",
       "      <td>refer eurowing</td>\n",
       "      <td>PLEASE REFER TO EUROWINGS</td>\n",
       "    </tr>\n",
       "    <tr>\n",
       "      <th>8</th>\n",
       "      <td>operate barcelona berlin tegel fight time qui...</td>\n",
       "      <td>Lufthansa operated by Germanwings from Barcelo...</td>\n",
       "      <td>great value money</td>\n",
       "      <td>\"great value for money\"</td>\n",
       "    </tr>\n",
       "    <tr>\n",
       "      <th>9</th>\n",
       "      <td>bangkok london cologne imagine ryanair hour f...</td>\n",
       "      <td>Germanwings from Bangkok to London via Cologne...</td>\n",
       "      <td>pay little money</td>\n",
       "      <td>\"pay very little money\"</td>\n",
       "    </tr>\n",
       "  </tbody>\n",
       "</table>\n",
       "</div>"
      ],
      "text/plain": [
       "                                   clean_review_text  \\\n",
       "0   dusseldorf berlin eurowing operate slight del...   \n",
       "1   berlin dusseldorf eurowing operate different ...   \n",
       "2   check process cologne poor display delay minu...   \n",
       "3   amsterdam stuttgart good friendly staff airpl...   \n",
       "4   frequent traveler year fly distance cabin cla...   \n",
       "5   fly london stanste cologne bonn delay hour lo...   \n",
       "6   boyfriend book basic fare hamburg rome fiumic...   \n",
       "7   operation transfer take eurowing read eurowin...   \n",
       "8   operate barcelona berlin tegel fight time qui...   \n",
       "9   bangkok london cologne imagine ryanair hour f...   \n",
       "\n",
       "                                         review_text           clean_title  \\\n",
       "0  ✅ Trip Verified | Dusseldorf to Berlin. Eurowi...     seat fine legroom   \n",
       "1  ✅ Trip Verified | Berlin to Dusseldorf. Eurowi...       crew smile good   \n",
       "2  Check in process at Cologne very poor. Flight ...       agent available   \n",
       "3  ✅ Verified Review |  Amsterdam to Stuttgart. G...   good friendly staff   \n",
       "4  ✅ Verified Review |  I have been a frequent tr...                 treat   \n",
       "5  ✅ Verified Review |  Flew Germanwings from Lon...                 cramp   \n",
       "6  My boyfriend and I booked the basic fare from ...        staff friendly   \n",
       "7  Germanwings operations have now been transferr...        refer eurowing   \n",
       "8  Lufthansa operated by Germanwings from Barcelo...     great value money   \n",
       "9  Germanwings from Bangkok to London via Cologne...      pay little money   \n",
       "\n",
       "                                 title  \n",
       "0  \"Seat was fine with enough legroom\"  \n",
       "1         \"crew were smiling and good\"  \n",
       "2          \"only two agents available\"  \n",
       "3     \"good flight and friendly staff\"  \n",
       "4        \"never been treated as badly\"  \n",
       "5                       \"very cramped\"  \n",
       "6                \"staff were friendly\"  \n",
       "7            PLEASE REFER TO EUROWINGS  \n",
       "8              \"great value for money\"  \n",
       "9              \"pay very little money\"  "
      ]
     },
     "execution_count": 9,
     "metadata": {},
     "output_type": "execute_result"
    }
   ],
   "source": [
    "reviews[[\"clean_review_text\", \"review_text\", \"clean_title\", \"title\"]].head(10)"
   ]
  },
  {
   "cell_type": "markdown",
   "metadata": {
    "papermill": {
     "duration": 0.019999,
     "end_time": "2019-08-12T04:02:15.907350",
     "exception": false,
     "start_time": "2019-08-12T04:02:15.887351",
     "status": "completed"
    },
    "tags": []
   },
   "source": [
    "It looks mostly good, but I noticed that in the first review it is removing 'enough'.  This could be valuable in context, but I'll keep digging for now.  It's an issue since 'enough' is a stopword and is being removed."
   ]
  },
  {
   "cell_type": "markdown",
   "metadata": {
    "papermill": {
     "duration": 0.019998,
     "end_time": "2019-08-12T04:02:15.948345",
     "exception": false,
     "start_time": "2019-08-12T04:02:15.928347",
     "status": "completed"
    },
    "tags": []
   },
   "source": [
    "### Topic Modeling: Dictionary and Document-Term Co-occurrence Matrix"
   ]
  },
  {
   "cell_type": "code",
   "execution_count": 10,
   "metadata": {
    "papermill": {
     "duration": 0.030994,
     "end_time": "2019-08-12T04:02:15.999346",
     "exception": false,
     "start_time": "2019-08-12T04:02:15.968352",
     "status": "completed"
    },
    "tags": []
   },
   "outputs": [],
   "source": [
    "# change the cleaned reviews and cleaned titles to \n",
    "# an array, required by corpora.Dictionary\n",
    "review_corpus = [doc.split() for doc in reviews[\"clean_review_text\"].tolist()]\n",
    "title_corpus = [doc.split() for doc in reviews[\"clean_title\"].tolist()]"
   ]
  },
  {
   "cell_type": "code",
   "execution_count": 11,
   "metadata": {
    "papermill": {
     "duration": 0.040004,
     "end_time": "2019-08-12T04:02:16.062349",
     "exception": false,
     "start_time": "2019-08-12T04:02:16.022345",
     "status": "completed"
    },
    "tags": []
   },
   "outputs": [],
   "source": [
    "# use gensim dictionary to map between words and integer ids\n",
    "dct_review = corpora.Dictionary(review_corpus)\n",
    "dct_title = corpora.Dictionary(title_corpus)"
   ]
  },
  {
   "cell_type": "code",
   "execution_count": 12,
   "metadata": {
    "papermill": {
     "duration": 0.039002,
     "end_time": "2019-08-12T04:02:16.122351",
     "exception": false,
     "start_time": "2019-08-12T04:02:16.083349",
     "status": "completed"
    },
    "tags": []
   },
   "outputs": [],
   "source": [
    "# create the document-term co-occurrence matrices\n",
    "doc_term_mat_review = [dct_review.doc2bow(doc) for doc in review_corpus]\n",
    "doc_term_mat_title = [dct_title.doc2bow(doc) for doc in title_corpus]"
   ]
  },
  {
   "cell_type": "markdown",
   "metadata": {
    "papermill": {
     "duration": 0.020034,
     "end_time": "2019-08-12T04:02:16.165383",
     "exception": false,
     "start_time": "2019-08-12T04:02:16.145349",
     "status": "completed"
    },
    "tags": []
   },
   "source": [
    "### Topic Modeling:  LDA Topic Model\n",
    "\n",
    "Number of topics was tuned using the visualizations below by examining the Intertopic distance map.  When there was no overlap and the topics were separated by a fair amount, the number of topics was chosen.  Number of topics was also kept perhaps artifically low, as I wanted to have fewer features in regression due to the low sample size.\n",
    "\n",
    "In addition, trial and error to select hyperparameters was used until topics were generated that made sense."
   ]
  },
  {
   "cell_type": "code",
   "execution_count": 13,
   "metadata": {
    "papermill": {
     "duration": 1.301033,
     "end_time": "2019-08-12T04:02:17.491384",
     "exception": false,
     "start_time": "2019-08-12T04:02:16.190351",
     "status": "completed"
    },
    "tags": []
   },
   "outputs": [],
   "source": [
    "# create the LDA models\n",
    "# use a lower alpha, meaning that each document is representative of only a few topics\n",
    "# do this so that each review doesn't contain similar topics and will have variation\n",
    "# that we can use to figure out why the recommendation was a yes or no\n",
    "\n",
    "n_review_topics = 3\n",
    "n_title_topics = 2\n",
    "\n",
    "lda_review = models.LdaModel(corpus = doc_term_mat_review, id2word = dct_review, num_topics = n_review_topics, \n",
    "                             alpha = 0.5, eta = 0.01, passes = 5, random_state = 40)\n",
    "lda_title = models.LdaModel(corpus = doc_term_mat_title, id2word = dct_title, num_topics = n_title_topics, \n",
    "                            alpha = 0.9, eta = 0.1, passes = 5, random_state = 40)"
   ]
  },
  {
   "cell_type": "code",
   "execution_count": 14,
   "metadata": {
    "papermill": {
     "duration": 0.037015,
     "end_time": "2019-08-12T04:02:17.546364",
     "exception": false,
     "start_time": "2019-08-12T04:02:17.509349",
     "status": "completed"
    },
    "tags": []
   },
   "outputs": [
    {
     "data": {
      "text/plain": [
       "[(0,\n",
       "  '0.023*\"check\" + 0.021*\"seat\" + 0.017*\"time\" + 0.014*\"good\" + 0.012*\"service\" + 0.011*\"return\" + 0.010*\"staff\" + 0.010*\"bag\" + 0.009*\"luggage\" + 0.009*\"delay\"'),\n",
       " (1,\n",
       "  '0.017*\"passenger\" + 0.017*\"time\" + 0.016*\"delay\" + 0.014*\"hour\" + 0.013*\"minute\" + 0.012*\"return\" + 0.012*\"staff\" + 0.011*\"airline\" + 0.009*\"tell\" + 0.009*\"pay\"'),\n",
       " (2,\n",
       "  '0.021*\"seat\" + 0.021*\"good\" + 0.017*\"crew\" + 0.017*\"drink\" + 0.015*\"cologne\" + 0.012*\"price\" + 0.012*\"snack\" + 0.012*\"service\" + 0.012*\"board\" + 0.012*\"time\"')]"
      ]
     },
     "execution_count": 14,
     "metadata": {},
     "output_type": "execute_result"
    }
   ],
   "source": [
    "# view the topics and the words that describe them\n",
    "lda_review.print_topics()"
   ]
  },
  {
   "cell_type": "code",
   "execution_count": 15,
   "metadata": {
    "papermill": {
     "duration": 0.030966,
     "end_time": "2019-08-12T04:02:17.616347",
     "exception": false,
     "start_time": "2019-08-12T04:02:17.585381",
     "status": "completed"
    },
    "tags": []
   },
   "outputs": [
    {
     "data": {
      "text/plain": [
       "[(0,\n",
       "  '0.798*\"customer\" + 0.013*\"money\" + 0.011*\"great\" + 0.011*\"refer\" + 0.011*\"don\" + 0.011*\"late\" + 0.011*\"value\" + 0.011*\"eurowing\" + 0.011*\"refuse\" + 0.010*\"water\"'),\n",
       " (1,\n",
       "  '0.422*\"customer\" + 0.082*\"friendly\" + 0.062*\"staff\" + 0.041*\"crew\" + 0.031*\"cabin\" + 0.022*\"delay\" + 0.021*\"little\" + 0.021*\"professional\" + 0.020*\"good\" + 0.012*\"seat\"')]"
      ]
     },
     "execution_count": 15,
     "metadata": {},
     "output_type": "execute_result"
    }
   ],
   "source": [
    "# view the topics and the words that describe them\n",
    "lda_title.print_topics()"
   ]
  },
  {
   "cell_type": "markdown",
   "metadata": {
    "papermill": {
     "duration": 0.020991,
     "end_time": "2019-08-12T04:02:17.657346",
     "exception": false,
     "start_time": "2019-08-12T04:02:17.636355",
     "status": "completed"
    },
    "tags": []
   },
   "source": [
    "From the review topics, here are my interpretations of what they are about:\n",
    "\n",
    "| Review Text Topic Number | Interpretation          |\n",
    "|--------------------------|-------------------------|\n",
    "| 0                        | luggage and seats       |\n",
    "| 1                        | delays and time         |\n",
    "| 2                        | food beverages and crew |\n",
    "\n",
    "And for the title topics:\n",
    "\n",
    "| Title Text Topic Number \t| Interpretation   \t|\n",
    "|-------------------------\t|------------------\t|\n",
    "| 0                       \t| money value      \t|\n",
    "| 1                       \t| staff and delays \t|\n",
    "\n",
    "\n",
    "Note that for the title topics, there aren't as many words.  Maybe they should have been rolled into the reviews as well, but I wanted to give them their own separate meaning, as the title often summarizes and emphasizes the review feeling."
   ]
  },
  {
   "cell_type": "code",
   "execution_count": 16,
   "metadata": {
    "papermill": {
     "duration": 0.035001,
     "end_time": "2019-08-12T04:02:17.712351",
     "exception": false,
     "start_time": "2019-08-12T04:02:17.677350",
     "status": "completed"
    },
    "tags": []
   },
   "outputs": [],
   "source": [
    "# assign the topics to a list for later use\n",
    "\n",
    "review_topic_interp = [\"review_luggage_seats\", \"review_time_delays\", \"review_food_bev_crew\"]\n",
    "title_topic_interp = [\"title_money_value\" , \"title_staff_delays\"]"
   ]
  },
  {
   "cell_type": "markdown",
   "metadata": {
    "papermill": {
     "duration": 0.020015,
     "end_time": "2019-08-12T04:02:17.760366",
     "exception": false,
     "start_time": "2019-08-12T04:02:17.740351",
     "status": "completed"
    },
    "tags": []
   },
   "source": [
    "### Topic Modeling: Visualization"
   ]
  },
  {
   "cell_type": "code",
   "execution_count": 17,
   "metadata": {
    "papermill": {
     "duration": 57.482293,
     "end_time": "2019-08-12T04:03:15.263644",
     "exception": false,
     "start_time": "2019-08-12T04:02:17.781351",
     "status": "completed"
    },
    "tags": []
   },
   "outputs": [
    {
     "name": "stderr",
     "output_type": "stream",
     "text": [
      "C:\\Users\\evany\\Anaconda3\\lib\\site-packages\\pyLDAvis\\_prepare.py:257: FutureWarning: Sorting because non-concatenation axis is not aligned. A future version\n",
      "of pandas will change to not sort by default.\n",
      "\n",
      "To accept the future behavior, pass 'sort=False'.\n",
      "\n",
      "To retain the current behavior and silence the warning, pass 'sort=True'.\n",
      "\n",
      "  return pd.concat([default_term_info] + list(topic_dfs))\n"
     ]
    },
    {
     "name": "stderr",
     "output_type": "stream",
     "text": [
      "C:\\Users\\evany\\Anaconda3\\lib\\site-packages\\pyLDAvis\\_prepare.py:257: FutureWarning: Sorting because non-concatenation axis is not aligned. A future version\n",
      "of pandas will change to not sort by default.\n",
      "\n",
      "To accept the future behavior, pass 'sort=False'.\n",
      "\n",
      "To retain the current behavior and silence the warning, pass 'sort=True'.\n",
      "\n",
      "  return pd.concat([default_term_info] + list(topic_dfs))\n"
     ]
    }
   ],
   "source": [
    "# create the visualizations and save html to a folder for viewing without jupyter notebook\n",
    "vis_reviews = pyLDAvis.gensim.prepare(lda_review, doc_term_mat_review, dct_review, sort_topics = False)\n",
    "pyLDAvis.save_html(vis_reviews, \"img/vis_reviews.html\")\n",
    "\n",
    "vis_titles = pyLDAvis.gensim.prepare(lda_title, doc_term_mat_title, dct_title, sort_topics = False)\n",
    "pyLDAvis.save_html(vis_titles, \"img/vis_titles.html\")"
   ]
  },
  {
   "cell_type": "markdown",
   "metadata": {
    "papermill": {
     "duration": 0.091009,
     "end_time": "2019-08-12T04:03:15.442655",
     "exception": false,
     "start_time": "2019-08-12T04:03:15.351646",
     "status": "completed"
    },
    "tags": []
   },
   "source": [
    "Links to the visualizations are below.  Note that they will need to be viewed locally, as GitHub won't render `html` files properly at this time.\n",
    "\n",
    "[Link to saved `html` of the reviews visualization](https://github.com/EvanYathon/airline_reviews/blob/master/img/vis_reviews.html)\n",
    "\n",
    "[Link to saved `html` of the titles visualization](https://github.com/EvanYathon/airline_reviews/blob/master/img/vis_titles.html)"
   ]
  },
  {
   "cell_type": "code",
   "execution_count": 18,
   "metadata": {
    "papermill": {
     "duration": 0.192977,
     "end_time": "2019-08-12T04:03:15.711697",
     "exception": false,
     "start_time": "2019-08-12T04:03:15.518720",
     "status": "completed"
    },
    "tags": []
   },
   "outputs": [
    {
     "data": {
      "text/html": [
       "\n",
       "<link rel=\"stylesheet\" type=\"text/css\" href=\"https://cdn.rawgit.com/bmabey/pyLDAvis/files/ldavis.v1.0.0.css\">\n",
       "\n",
       "\n",
       "<div id=\"ldavis_el943624457812661281430311406\"></div>\n",
       "<script type=\"text/javascript\">\n",
       "\n",
       "var ldavis_el943624457812661281430311406_data = {\"mdsDat\": {\"x\": [-0.001789743621822715, -0.12203622502431534, 0.12382596864613807], \"y\": [-0.11820985853870757, 0.06039568489874375, 0.057814173639963655], \"topics\": [1, 2, 3], \"cluster\": [1, 1, 1], \"Freq\": [33.00895690917969, 31.810266494750977, 35.18077850341797]}, \"tinfo\": {\"Category\": [\"Default\", \"Default\", \"Default\", \"Default\", \"Default\", \"Default\", \"Default\", \"Default\", \"Default\", \"Default\", \"Default\", \"Default\", \"Default\", \"Default\", \"Default\", \"Default\", \"Default\", \"Default\", \"Default\", \"Default\", \"Default\", \"Default\", \"Default\", \"Default\", \"Default\", \"Default\", \"Default\", \"Default\", \"Default\", \"Default\", \"Topic1\", \"Topic1\", \"Topic1\", \"Topic1\", \"Topic1\", \"Topic1\", \"Topic1\", \"Topic1\", \"Topic1\", \"Topic1\", \"Topic1\", \"Topic1\", \"Topic1\", \"Topic1\", \"Topic1\", \"Topic1\", \"Topic1\", \"Topic1\", \"Topic1\", \"Topic1\", \"Topic1\", \"Topic1\", \"Topic1\", \"Topic1\", \"Topic1\", \"Topic1\", \"Topic1\", \"Topic1\", \"Topic1\", \"Topic1\", \"Topic1\", \"Topic1\", \"Topic1\", \"Topic1\", \"Topic1\", \"Topic1\", \"Topic1\", \"Topic1\", \"Topic1\", \"Topic1\", \"Topic1\", \"Topic1\", \"Topic1\", \"Topic1\", \"Topic1\", \"Topic1\", \"Topic1\", \"Topic1\", \"Topic1\", \"Topic1\", \"Topic1\", \"Topic1\", \"Topic1\", \"Topic1\", \"Topic1\", \"Topic1\", \"Topic1\", \"Topic1\", \"Topic1\", \"Topic1\", \"Topic1\", \"Topic1\", \"Topic1\", \"Topic1\", \"Topic1\", \"Topic1\", \"Topic1\", \"Topic1\", \"Topic1\", \"Topic1\", \"Topic1\", \"Topic1\", \"Topic1\", \"Topic1\", \"Topic1\", \"Topic1\", \"Topic1\", \"Topic1\", \"Topic1\", \"Topic1\", \"Topic1\", \"Topic1\", \"Topic1\", \"Topic1\", \"Topic1\", \"Topic1\", \"Topic1\", \"Topic1\", \"Topic1\", \"Topic1\", \"Topic1\", \"Topic1\", \"Topic1\", \"Topic2\", \"Topic2\", \"Topic2\", \"Topic2\", \"Topic2\", \"Topic2\", \"Topic2\", \"Topic2\", \"Topic2\", \"Topic2\", \"Topic2\", \"Topic2\", \"Topic2\", \"Topic2\", \"Topic2\", \"Topic2\", \"Topic2\", \"Topic2\", \"Topic2\", \"Topic2\", \"Topic2\", \"Topic2\", \"Topic2\", \"Topic2\", \"Topic2\", \"Topic2\", \"Topic2\", \"Topic2\", \"Topic2\", \"Topic2\", \"Topic2\", \"Topic2\", \"Topic2\", \"Topic2\", \"Topic2\", \"Topic2\", \"Topic2\", \"Topic2\", \"Topic2\", \"Topic2\", \"Topic2\", \"Topic2\", \"Topic2\", \"Topic2\", \"Topic2\", \"Topic2\", \"Topic2\", \"Topic2\", \"Topic2\", \"Topic2\", \"Topic2\", \"Topic2\", \"Topic2\", \"Topic2\", \"Topic2\", \"Topic2\", \"Topic2\", \"Topic2\", \"Topic2\", \"Topic2\", \"Topic2\", \"Topic2\", \"Topic2\", \"Topic2\", \"Topic2\", \"Topic2\", \"Topic2\", \"Topic2\", \"Topic2\", \"Topic2\", \"Topic2\", \"Topic2\", \"Topic2\", \"Topic2\", \"Topic2\", \"Topic2\", \"Topic2\", \"Topic2\", \"Topic2\", \"Topic2\", \"Topic2\", \"Topic2\", \"Topic2\", \"Topic2\", \"Topic2\", \"Topic2\", \"Topic2\", \"Topic2\", \"Topic2\", \"Topic2\", \"Topic2\", \"Topic2\", \"Topic3\", \"Topic3\", \"Topic3\", \"Topic3\", \"Topic3\", \"Topic3\", \"Topic3\", \"Topic3\", \"Topic3\", \"Topic3\", \"Topic3\", \"Topic3\", \"Topic3\", \"Topic3\", \"Topic3\", \"Topic3\", \"Topic3\", \"Topic3\", \"Topic3\", \"Topic3\", \"Topic3\", \"Topic3\", \"Topic3\", \"Topic3\", \"Topic3\", \"Topic3\", \"Topic3\", \"Topic3\", \"Topic3\", \"Topic3\", \"Topic3\", \"Topic3\", \"Topic3\", \"Topic3\", \"Topic3\", \"Topic3\", \"Topic3\", \"Topic3\", \"Topic3\", \"Topic3\", \"Topic3\", \"Topic3\", \"Topic3\", \"Topic3\", \"Topic3\", \"Topic3\", \"Topic3\", \"Topic3\", \"Topic3\", \"Topic3\", \"Topic3\", \"Topic3\", \"Topic3\", \"Topic3\", \"Topic3\", \"Topic3\", \"Topic3\", \"Topic3\", \"Topic3\", \"Topic3\", \"Topic3\", \"Topic3\", \"Topic3\", \"Topic3\", \"Topic3\", \"Topic3\", \"Topic3\", \"Topic3\", \"Topic3\", \"Topic3\", \"Topic3\", \"Topic3\", \"Topic3\", \"Topic3\", \"Topic3\", \"Topic3\", \"Topic3\", \"Topic3\", \"Topic3\", \"Topic3\", \"Topic3\", \"Topic3\", \"Topic3\", \"Topic3\", \"Topic3\", \"Topic3\", \"Topic3\", \"Topic3\", \"Topic3\", \"Topic3\", \"Topic3\"], \"Freq\": [44.0, 69.0, 34.0, 48.0, 27.0, 77.0, 20.0, 12.0, 55.0, 96.0, 13.0, 23.0, 23.0, 32.0, 56.0, 8.0, 22.0, 7.0, 24.0, 22.0, 31.0, 37.0, 22.0, 6.0, 9.0, 9.0, 13.0, 15.0, 6.0, 9.0, 1.9247571229934692, 1.923211932182312, 2.862982988357544, 2.8612561225891113, 2.8599088191986084, 0.9709178805351257, 0.9703665971755981, 1.9131078720092773, 0.9701457619667053, 0.9701290726661682, 0.9700518250465393, 0.9696145057678223, 0.9695172309875488, 0.9691342711448669, 0.9689158797264099, 0.968745768070221, 0.9685292840003967, 0.9679983854293823, 0.967950701713562, 1.9078022241592407, 1.9074448347091675, 0.9675137400627136, 3.787214994430542, 2.8463330268859863, 0.9673988223075867, 2.8462958335876465, 1.9068776369094849, 0.9671499133110046, 0.96718430519104, 0.9669639468193054, 3.7777063846588135, 2.8437952995300293, 2.8346304893493652, 1.904880166053772, 1.9038478136062622, 1.9032671451568604, 2.8281548023223877, 1.9017144441604614, 2.827101707458496, 3.7473580837249756, 1.898690938949585, 1.8933335542678833, 1.8936494588851929, 1.893314003944397, 1.891861915588379, 1.8910775184631348, 11.668681144714355, 2.793525457382202, 6.222242832183838, 8.60081958770752, 4.41564416885376, 5.985015392303467, 8.173803329467773, 6.652981758117676, 6.524797439575195, 6.518161296844482, 44.89111328125, 3.514374017715454, 6.416111946105957, 9.001628875732422, 2.6816465854644775, 18.97538948059082, 13.165654182434082, 5.947577953338623, 18.517330169677734, 41.23286819458008, 5.240960597991943, 24.46772575378418, 33.581302642822266, 10.182591438293457, 22.24631690979004, 26.703794479370117, 19.248485565185547, 5.034308433532715, 3.999934673309326, 17.6347713470459, 16.241058349609375, 13.328164100646973, 13.883501052856445, 15.915230751037598, 17.687318801879883, 12.24976634979248, 13.554536819458008, 10.802536964416504, 13.446257591247559, 12.336625099182129, 13.203947067260742, 10.856123924255371, 11.297526359558105, 11.697428703308105, 12.046606063842773, 11.16564655303955, 10.06179428100586, 1.9772312641143799, 1.964592456817627, 1.9609686136245728, 0.9948734641075134, 2.9256463050842285, 0.9942419528961182, 1.9583677053451538, 3.8831207752227783, 0.9924024343490601, 0.9917026162147522, 6.76968240737915, 0.9915210008621216, 0.9912477135658264, 2.91640305519104, 0.9911839365959167, 0.9909895062446594, 0.9899221062660217, 1.95121431350708, 0.989707887172699, 0.9892621040344238, 0.9891220927238464, 0.9889306426048279, 1.9477803707122803, 0.9879667162895203, 0.98670494556427, 0.9870548844337463, 1.9440277814865112, 2.9012579917907715, 1.9435703754425049, 0.9851967096328735, 3.8450911045074463, 1.943099856376648, 4.768074035644531, 1.941796064376831, 1.9406229257583618, 7.561436653137207, 1.938154935836792, 6.5785088539123535, 2.875993251800537, 2.8733649253845215, 2.871086835861206, 2.8689262866973877, 1.9368571043014526, 1.9346410036087036, 1.9341304302215576, 2.8560149669647217, 5.567838668823242, 2.846827507019043, 2.8225183486938477, 16.393280029296875, 4.412261486053467, 2.7936198711395264, 7.847445487976074, 3.543459892272949, 15.71406078338623, 8.345712661743164, 33.05104064941406, 4.841589450836182, 26.770294189453125, 7.8867692947387695, 11.279646873474121, 8.901691436767578, 30.94544792175293, 10.378305435180664, 9.307218551635742, 17.83663558959961, 10.652667045593262, 23.742712020874023, 13.225364685058594, 14.728508949279785, 7.872145652770996, 22.96514320373535, 21.094045639038086, 15.272171974182129, 32.48065185546875, 23.636154174804688, 12.069637298583984, 9.77764892578125, 17.471277236938477, 11.175185203552246, 17.066526412963867, 11.454353332519531, 9.310946464538574, 12.337945938110352, 12.605045318603516, 12.817115783691406, 9.498199462890625, 10.953207969665527, 9.937252044677734, 11.216422080993652, 9.95589828491211, 10.416522026062012, 2.0291907787323, 7.987133026123047, 1.0238698720932007, 1.0236999988555908, 2.0156056880950928, 1.0204334259033203, 2.011019468307495, 1.0193302631378174, 1.0188215970993042, 1.0182045698165894, 2.0068743228912354, 1.0179731845855713, 1.017591118812561, 1.0175150632858276, 1.0172423124313354, 1.0169466733932495, 1.016783356666565, 1.0167065858840942, 1.016408920288086, 2.0036861896514893, 1.015824317932129, 1.0154045820236206, 2.0020620822906494, 2.0020713806152344, 1.0155866146087646, 3.973313331604004, 1.014707088470459, 1.014538049697876, 1.0144184827804565, 1.999625325202942, 3.9596893787384033, 1.9978033304214478, 1.9962513446807861, 1.9958186149597168, 2.9467742443084717, 1.988186001777649, 1.984026551246643, 1.983094334602356, 8.46934986114502, 1.9759106636047363, 1.9755573272705078, 2.9129912853240967, 1.9736377000808716, 7.480899810791016, 1.969534158706665, 11.920660972595215, 6.559891700744629, 4.694843769073486, 1.9640134572982788, 1.9632307291030884, 6.446435928344727, 2.8624603748321533, 34.55362319946289, 6.194150924682617, 3.7206318378448486, 3.7063772678375244, 25.729339599609375, 20.87056541442871, 5.3460564613342285, 17.997024536132812, 10.623616218566895, 18.05305290222168, 16.66948127746582, 6.012701988220215, 14.525622367858887, 34.715152740478516, 15.747833251953125, 3.5976669788360596, 43.050819396972656, 22.722930908203125, 25.785198211669922, 30.978992462158203, 43.903968811035156, 16.486766815185547, 25.271020889282227, 20.478647232055664, 14.676568031311035, 13.343216896057129, 25.68960952758789, 13.419000625610352, 14.252326965332031, 15.797100067138672, 17.55556297302246, 16.213470458984375, 25.07082748413086, 16.290111541748047, 17.308218002319336, 14.984375953674316, 14.074323654174805, 14.36145305633545, 13.851758003234863], \"Term\": [\"drink\", \"check\", \"snack\", \"hour\", \"legroom\", \"good\", \"information\", \"long\", \"passenger\", \"seat\", \"include\", \"efficient\", \"comfortable\", \"tell\", \"crew\", \"high\", \"wait\", \"technical\", \"sandwich\", \"smart\", \"bag\", \"friendly\", \"clean\", \"train\", \"possible\", \"bonn\", \"year\", \"cancel\", \"complaint\", \"pitch\", \"nuernberg\", \"handling\", \"k\\u00f6ln\", \"course\", \"proper\", \"feeder\", \"itinerary\", \"checked\", \"network\", \"measure\", \"crjs\", \"enthusiastic\", \"letdown\", \"retain\", \"app\", \"loyalty\", \"argue\", \"model\", \"reply\", \"live\", \"cramp\", \"overnight\", \"muc\", \"privilege\", \"onward\", \"dortmund\", \"galley\", \"boring\", \"confirmation\", \"restore\", \"october\", \"frill\", \"one\", \"month\", \"layout\", \"friend\", \"section\", \"domestic\", \"happy\", \"allocate\", \"tariff\", \"shape\", \"collection\", \"lis\", \"major\", \"rating\", \"long\", \"status\", \"standard\", \"possible\", \"limit\", \"piece\", \"pitch\", \"don\", \"gold\", \"online\", \"check\", \"usual\", \"stn\", \"ham\", \"level\", \"bag\", \"cgn\", \"agent\", \"luggage\", \"seat\", \"munich\", \"service\", \"time\", \"leg\", \"return\", \"good\", \"staff\", \"economy\", \"morning\", \"hour\", \"lufthansa\", \"low\", \"ticket\", \"pay\", \"delay\", \"tell\", \"plane\", \"arrive\", \"price\", \"cost\", \"minute\", \"book\", \"friendly\", \"airline\", \"cologne\", \"board\", \"offer\", \"fiumicino\", \"real\", \"add\", \"norm\", \"stay\", \"independent\", \"tyre\", \"help\", \"resolve\", \"mediocre\", \"train\", \"boyfriend\", \"pain\", \"welcome\", \"force\", \"operative\", \"injury\", \"dubrovnik\", \"criticism\", \"affect\", \"radar\", \"coach\", \"control\", \"failure\", \"printer\", \"muffin\", \"belt\", \"insult\", \"taxi\", \"austrian\", \"date\", \"angry\", \"voucher\", \"practice\", \"sharp\", \"technical\", \"message\", \"complaint\", \"public\", \"weather\", \"enter\", \"manager\", \"notice\", \"raise\", \"guess\", \"attempt\", \"connection\", \"center\", \"venice\", \"information\", \"manner\", \"complete\", \"change\", \"cut\", \"wait\", \"second\", \"passenger\", \"occasion\", \"hour\", \"serve\", \"gate\", \"way\", \"delay\", \"cancel\", \"customer\", \"tell\", \"problem\", \"minute\", \"give\", \"leave\", \"call\", \"staff\", \"airline\", \"airport\", \"time\", \"return\", \"stuttgart\", \"departure\", \"pay\", \"take\", \"cologne\", \"arrive\", \"trip\", \"lufthansa\", \"board\", \"crew\", \"day\", \"plane\", \"berlin\", \"seat\", \"book\", \"check\", \"aisle\", \"high\", \"tall\", \"husband\", \"emergency\", \"weak\", \"score\", \"dot\", \"configuration\", \"baguette\", \"complimentary\", \"santorini\", \"charter\", \"marrakech\", \"mess\", \"spotless\", \"tasteless\", \"chartered\", \"bun\", \"sweet\", \"underweight\", \"lb\", \"mother\", \"quick\", \"rear\", \"chocolate\", \"challenge\", \"disappear\", \"programme\", \"consist\", \"cold\", \"tea\", \"pence\", \"tiny\", \"italy\", \"negative\", \"social\", \"faro\", \"bonn\", \"juice\", \"carnival\", \"hop\", \"airfare\", \"bottle\", \"stair\", \"include\", \"vienna\", \"roll\", \"box\", \"breeze\", \"soft\", \"security\", \"drink\", \"cheese\", \"normal\", \"hot\", \"snack\", \"legroom\", \"fact\", \"comfortable\", \"year\", \"sandwich\", \"clean\", \"choice\", \"small\", \"crew\", \"efficient\", \"toilet\", \"good\", \"friendly\", \"price\", \"cologne\", \"seat\", \"food\", \"board\", \"cabin\", \"short\", \"smart\", \"service\", \"free\", \"fly\", \"low\", \"cost\", \"offer\", \"time\", \"plane\", \"pay\", \"airline\", \"lufthansa\", \"check\", \"delay\"], \"Total\": [44.0, 69.0, 34.0, 48.0, 27.0, 77.0, 20.0, 12.0, 55.0, 96.0, 13.0, 23.0, 23.0, 32.0, 56.0, 8.0, 22.0, 7.0, 24.0, 22.0, 31.0, 37.0, 22.0, 6.0, 9.0, 9.0, 13.0, 15.0, 6.0, 9.0, 1.9625468254089355, 1.9625200033187866, 2.9295029640197754, 2.929863691329956, 2.9301581382751465, 0.9958049654960632, 0.9958098530769348, 1.9633641242980957, 0.9958258867263794, 0.9958394169807434, 0.995830237865448, 0.9958351254463196, 0.9958642721176147, 0.99586021900177, 0.9958260655403137, 0.9958587288856506, 0.9958639144897461, 0.9958567023277283, 0.9958559274673462, 1.9629606008529663, 1.9632200002670288, 0.9959036111831665, 3.898348808288574, 2.930020570755005, 0.9958730936050415, 2.9302468299865723, 1.9631303548812866, 0.9958697557449341, 0.9959648251533508, 0.9959284067153931, 3.8980181217193604, 2.9308176040649414, 2.931880474090576, 1.9631935358047485, 1.9636642932891846, 1.9634182453155518, 2.9314446449279785, 1.963340401649475, 2.9313724040985107, 3.8998284339904785, 1.9632539749145508, 1.9636850357055664, 1.964092493057251, 1.9641461372375488, 1.9637185335159302, 1.963775873184204, 12.63366985321045, 2.9318246841430664, 6.814054012298584, 9.74744701385498, 4.880472183227539, 6.8185248374938965, 9.770615577697754, 7.81597375869751, 7.794402599334717, 7.801053047180176, 69.6690902709961, 3.9121105670928955, 7.820345401763916, 11.76078987121582, 2.9383602142333984, 31.541526794433594, 20.604284286499023, 7.833343029022217, 33.55833435058594, 96.35325622558594, 6.838520526885986, 58.61012649536133, 91.13278198242188, 17.68479347229004, 59.363037109375, 77.86388397216797, 52.40926742553711, 6.8847126960754395, 4.890486240386963, 48.3232421875, 42.65332794189453, 31.846790313720703, 34.694419860839844, 50.694725036621094, 62.48452377319336, 32.538394927978516, 40.797855377197266, 26.665189743041992, 45.01366424560547, 37.88249969482422, 48.64445114135742, 30.778053283691406, 37.04750061035156, 47.775848388671875, 60.092124938964844, 49.041709899902344, 35.92633819580078, 2.017153739929199, 2.0170955657958984, 2.0168120861053467, 1.0232741832733154, 3.0108401775360107, 1.023266077041626, 2.0172696113586426, 4.003247261047363, 1.0232735872268677, 1.0232280492782593, 6.986968040466309, 1.0234273672103882, 1.0232502222061157, 3.0110111236572266, 1.0233712196350098, 1.0234376192092896, 1.023045301437378, 2.0166163444519043, 1.0229648351669312, 1.0230616331100464, 1.022987961769104, 1.023519515991211, 2.0169637203216553, 1.0230789184570312, 1.022874355316162, 1.0232614278793335, 2.0175788402557373, 3.011317014694214, 2.0175893306732178, 1.022728443145752, 4.006271839141846, 2.0173346996307373, 4.997572898864746, 2.017477512359619, 2.0181260108947754, 7.97500467300415, 2.016860246658325, 6.989984035491943, 3.01066517829895, 3.0091311931610107, 3.0105056762695312, 3.0129597187042236, 2.0179426670074463, 2.0169742107391357, 2.017688512802124, 3.0101070404052734, 5.998232841491699, 3.0095810890197754, 3.014075517654419, 20.909656524658203, 4.990996837615967, 3.014885663986206, 9.915301322937012, 4.010098934173584, 22.820331573486328, 10.958304405212402, 55.72850036621094, 5.9665961265563965, 48.3232421875, 10.912127494812012, 16.947288513183594, 13.025861740112305, 62.48452377319336, 15.798365592956543, 13.896781921386719, 32.538394927978516, 16.791893005371094, 48.64445114135742, 22.9143123626709, 26.685344696044922, 11.917989730834961, 52.40926742553711, 47.775848388671875, 30.736196517944336, 91.13278198242188, 59.363037109375, 22.984331130981445, 18.941598892211914, 50.694725036621094, 23.962047576904297, 60.092124938964844, 26.665189743041992, 18.088878631591797, 42.65332794189453, 49.041709899902344, 56.303489685058594, 19.77841567993164, 40.797855377197266, 26.857236862182617, 96.35325622558594, 30.778053283691406, 69.6690902709961, 2.067457675933838, 8.178101539611816, 1.048494815826416, 1.0484997034072876, 2.067077398300171, 1.04841947555542, 2.0665860176086426, 1.0482711791992188, 1.048263669013977, 1.048231601715088, 2.0663321018218994, 1.0482594966888428, 1.0483770370483398, 1.0483856201171875, 1.0483766794204712, 1.048360824584961, 1.0482823848724365, 1.0483671426773071, 1.0481200218200684, 2.0665411949157715, 1.047906517982483, 1.0478862524032593, 2.066187858581543, 2.0663998126983643, 1.0482286214828491, 4.102257251739502, 1.0482137203216553, 1.0482864379882812, 1.0482138395309448, 2.0662574768066406, 4.101346015930176, 2.0660181045532227, 2.0661659240722656, 2.0657615661621094, 3.0818891525268555, 2.065898895263672, 2.0655269622802734, 2.066061496734619, 9.184150695800781, 2.0650453567504883, 2.065662145614624, 3.0827081203460693, 2.0647196769714355, 8.155678749084473, 2.0649943351745605, 13.215705871582031, 7.147349834442139, 5.1068878173828125, 2.0647149085998535, 2.0650007724761963, 7.145665168762207, 3.0776236057281494, 44.480133056640625, 7.118401050567627, 4.093748569488525, 4.087106704711914, 34.263648986816406, 27.230640411376953, 6.122889995574951, 23.2753963470459, 13.14907455444336, 24.25615692138672, 22.210906982421875, 7.107037544250488, 20.208330154418945, 56.303489685058594, 23.079715728759766, 4.093417644500732, 77.86388397216797, 37.04750061035156, 45.01366424560547, 60.092124938964844, 96.35325622558594, 28.14988899230957, 49.041709899902344, 39.046051025390625, 25.085689544677734, 22.958988189697266, 58.61012649536133, 24.05728530883789, 27.046642303466797, 31.846790313720703, 37.88249969482422, 35.92633819580078, 91.13278198242188, 40.797855377197266, 50.694725036621094, 47.775848388671875, 42.65332794189453, 69.6690902709961, 62.48452377319336], \"loglift\": [30.0, 29.0, 28.0, 27.0, 26.0, 25.0, 24.0, 23.0, 22.0, 21.0, 20.0, 19.0, 18.0, 17.0, 16.0, 15.0, 14.0, 13.0, 12.0, 11.0, 10.0, 9.0, 8.0, 7.0, 6.0, 5.0, 4.0, 3.0, 2.0, 1.0, 1.0888999700546265, 1.0881999731063843, 1.0853999853134155, 1.0846999883651733, 1.0841000080108643, 1.0830999612808228, 1.0824999809265137, 1.0824999809265137, 1.0822999477386475, 1.082200050354004, 1.082200050354004, 1.0816999673843384, 1.0815999507904053, 1.0812000036239624, 1.0809999704360962, 1.0808000564575195, 1.0806000232696533, 1.0800000429153442, 1.0800000429153442, 1.0799000263214111, 1.0795999765396118, 1.0794999599456787, 1.0794999599456787, 1.0793999433517456, 1.0793999433517456, 1.079300045967102, 1.079300045967102, 1.0791000127792358, 1.0791000127792358, 1.0788999795913696, 1.0770000219345093, 1.0781999826431274, 1.0746999979019165, 1.0781999826431274, 1.0774999856948853, 1.077299952507019, 1.0724999904632568, 1.0765000581741333, 1.0721999406814575, 1.06850004196167, 1.0750000476837158, 1.0719000101089478, 1.0719000101089478, 1.0716999769210815, 1.0710999965667725, 1.0707000494003296, 1.0289000272750854, 1.0600999593734741, 1.0175000429153442, 0.9832000136375427, 1.0082999467849731, 0.9779999852180481, 0.9298999905586243, 0.9473000168800354, 0.9305999875068665, 0.9286999702453613, 0.6689000129699707, 1.0011999607086182, 0.9104999899864197, 0.8410000205039978, 1.0169999599456787, 0.6001999974250793, 0.6604999899864197, 0.8330000042915344, 0.5138000249862671, 0.2596000134944916, 0.8422999978065491, 0.23479999601840973, 0.10999999940395355, 0.5564000010490417, 0.12690000236034393, 0.03819999843835831, 0.10670000314712524, 0.7954000234603882, 0.9074000120162964, 0.10040000081062317, 0.1428000032901764, 0.23729999363422394, 0.19249999523162842, -0.050200000405311584, -0.15369999408721924, 0.1315000057220459, 0.006500000134110451, 0.20479999482631683, -0.09989999979734421, -0.013500000350177288, -0.1956000030040741, 0.06629999727010727, -0.07919999957084656, -0.298799991607666, -0.49869999289512634, -0.37139999866485596, -0.16429999470710754, 1.1253999471664429, 1.11899995803833, 1.117300033569336, 1.1172000169754028, 1.1167000532150269, 1.1166000366210938, 1.1157000064849854, 1.11489999294281, 1.1146999597549438, 1.1140999794006348, 1.113800048828125, 1.113700032234192, 1.1136000156402588, 1.1134999990463257, 1.1133999824523926, 1.1131999492645264, 1.1124999523162842, 1.1124000549316406, 1.1123000383377075, 1.111799955368042, 1.1117000579833984, 1.1109999418258667, 1.1104999780654907, 1.1104999780654907, 1.1094000339508057, 1.1094000339508057, 1.108199954032898, 1.1081000566482544, 1.1080000400543213, 1.1080000400543213, 1.1043000221252441, 1.1079000234603882, 1.0983999967575073, 1.107100009918213, 1.1061999797821045, 1.0921000242233276, 1.1055999994277954, 1.0846999883651733, 1.0995999574661255, 1.0992000102996826, 1.0980000495910645, 1.0964000225067139, 1.1044000387191772, 1.103700041770935, 1.1030999422073364, 1.0928000211715698, 1.0708999633789062, 1.0898000001907349, 1.079699993133545, 0.9020000100135803, 1.0220999717712402, 1.069200038909912, 0.9114999771118164, 1.0217000246047974, 0.7723000049591064, 0.8730000257492065, 0.6229000091552734, 0.9363999962806702, 0.5547999739646912, 0.8206999897956848, 0.7383000254631042, 0.7646999955177307, 0.44269999861717224, 0.7251999974250793, 0.7444999814033508, 0.5442000031471252, 0.6902999877929688, 0.42809998989105225, 0.59579998254776, 0.5511000156402588, 0.7307000160217285, 0.32030001282691956, 0.3278999924659729, 0.44600000977516174, 0.1137000024318695, 0.22450000047683716, 0.5012999773025513, 0.48410001397132874, 0.08009999990463257, 0.38260000944137573, -0.11339999735355377, 0.3003999888896942, 0.4812999963760376, -0.0949999988079071, -0.21320000290870667, -0.3346000015735626, 0.41190001368522644, -0.1695999950170517, 0.15109999477863312, -1.0053000450134277, 0.016699999570846558, -0.7549999952316284, 1.0260000228881836, 1.0210000276565552, 1.020900011062622, 1.0206999778747559, 1.0195000171661377, 1.0176000595092773, 1.0174000263214111, 1.016700029373169, 1.0161999464035034, 1.0155999660491943, 1.0154999494552612, 1.0154000520706177, 1.0148999691009521, 1.014799952507019, 1.0145000219345093, 1.01419997215271, 1.01419997215271, 1.0140000581741333, 1.0139000415802002, 1.013800024986267, 1.0135999917984009, 1.013200044631958, 1.013100028038025, 1.0130000114440918, 1.0130000114440918, 1.0126999616622925, 1.0121999979019165, 1.0118999481201172, 1.0118999481201172, 1.0118999481201172, 1.0095000267028809, 1.0111000537872314, 1.010200023651123, 1.010200023651123, 0.9998000264167786, 1.0062999725341797, 1.0044000148773193, 1.0037000179290771, 0.9635999798774719, 1.000499963760376, 1.000100016593933, 0.9879999756813049, 0.9995999932289124, 0.958299994468689, 0.9973000288009644, 0.9415000081062317, 0.958899974822998, 0.9605000019073486, 0.994700014591217, 0.9940999746322632, 0.9416999816894531, 0.9721999764442444, 0.7921000123023987, 0.9056000113487244, 0.9491000175476074, 0.9469000101089478, 0.7581999897956848, 0.7786999940872192, 0.9089999794960022, 0.7875000238418579, 0.8313999772071838, 0.7493000030517578, 0.7577000260353088, 0.8774999976158142, 0.7145000100135803, 0.5611000061035156, 0.6624000072479248, 0.9156000018119812, 0.45210000872612, 0.5558000206947327, 0.48750001192092896, 0.382099986076355, 0.25870001316070557, 0.5097000002861023, 0.3817000091075897, 0.3993000090122223, 0.5085999965667725, 0.5019999742507935, 0.21979999542236328, 0.4609000086784363, 0.40400001406669617, 0.34360000491142273, 0.27559998631477356, 0.24899999797344208, -0.2459000051021576, 0.1265999972820282, -0.029999999329447746, -0.11479999870061874, -0.0640999972820282, -0.534500002861023, -0.4618000090122223], \"logprob\": [30.0, 29.0, 28.0, 27.0, 26.0, 25.0, 24.0, 23.0, 22.0, 21.0, 20.0, 19.0, 18.0, 17.0, 16.0, 15.0, 14.0, 13.0, 12.0, 11.0, 10.0, 9.0, 8.0, 7.0, 6.0, 5.0, 4.0, 3.0, 2.0, 1.0, -6.927800178527832, -6.928599834442139, -6.530700206756592, -6.531300067901611, -6.531799793243408, -7.612100124359131, -7.61269998550415, -6.933899879455566, -7.6128997802734375, -7.6128997802734375, -7.61299991607666, -7.613399982452393, -7.613500118255615, -7.613900184631348, -7.614200115203857, -7.614299774169922, -7.61460018157959, -7.615099906921387, -7.615200042724609, -6.936600208282471, -6.936800003051758, -7.615600109100342, -6.250999927520752, -6.536600112915039, -7.615699768066406, -6.536600112915039, -6.937099933624268, -7.616000175476074, -7.616000175476074, -7.616199970245361, -6.253499984741211, -6.537399768829346, -6.5406999588012695, -6.938199996948242, -6.938700199127197, -6.939000129699707, -6.543000221252441, -6.939799785614014, -6.543300151824951, -6.261499881744385, -6.941400051116943, -6.944200038909912, -6.9440999031066895, -6.944300174713135, -6.945000171661377, -6.945400238037109, -5.125699996948242, -6.555300235748291, -5.754499912261963, -5.430699825286865, -6.097400188446045, -5.793300151824951, -5.4816999435424805, -5.6875, -5.706999778747559, -5.708000183105469, -3.7783000469207764, -6.325699806213379, -5.723800182342529, -5.385200023651123, -6.596199989318848, -4.639400005340576, -5.005000114440918, -5.799600124359131, -4.663899898529053, -3.8633999824523926, -5.92609977722168, -4.385200023651123, -4.068600177764893, -5.261899948120117, -4.480400085449219, -4.297800064086914, -4.625199794769287, -5.966300010681152, -6.196300029754639, -4.712699890136719, -4.795000076293945, -4.992700099945068, -4.951900005340576, -4.815299987792969, -4.709700107574463, -5.077099800109863, -4.975900173187256, -5.2027997970581055, -4.98390007019043, -5.070000171661377, -5.002099990844727, -5.19789981842041, -5.1579999923706055, -5.123199939727783, -5.093800067901611, -5.1697001457214355, -5.273799896240234, -6.863900184631348, -6.870299816131592, -6.872200012207031, -7.5507001876831055, -6.472099781036377, -7.551400184631348, -6.873499870300293, -6.189000129699707, -7.553199768066406, -7.553899765014648, -5.6331000328063965, -7.554100036621094, -7.5543999671936035, -6.475200176239014, -7.554500102996826, -7.554599761962891, -7.555699825286865, -6.877099990844727, -7.5559000968933105, -7.556399822235107, -7.55649995803833, -7.556700229644775, -6.878900051116943, -7.557700157165527, -7.559000015258789, -7.558599948883057, -6.880799770355225, -6.480500221252441, -6.881100177764893, -7.560500144958496, -6.198800086975098, -6.88129997253418, -5.983699798583984, -6.881999969482422, -6.882599830627441, -5.522500038146973, -6.883900165557861, -5.661799907684326, -6.489200115203857, -6.490099906921387, -6.490900039672852, -6.491700172424316, -6.884500026702881, -6.885700225830078, -6.885900020599365, -6.496200084686279, -5.82859992980957, -6.4994001388549805, -6.507999897003174, -4.748700141906738, -6.061200141906738, -6.5183000564575195, -5.485400199890137, -6.2804999351501465, -4.790999889373779, -5.423799991607666, -4.047500133514404, -5.968400001525879, -4.258299827575684, -5.480400085449219, -5.122600078582764, -5.359399795532227, -4.113399982452393, -5.205900192260742, -5.314799785614014, -4.664299964904785, -5.179800033569336, -4.378300189971924, -4.963500022888184, -4.855800151824951, -5.4822998046875, -4.411600112915039, -4.496600151062012, -4.8196001052856445, -4.065000057220459, -4.382800102233887, -5.054900169372559, -5.265500068664551, -4.684999942779541, -5.131899833679199, -4.708499908447266, -5.1072001457214355, -5.3144001960754395, -5.032899856567383, -5.011499881744385, -4.994800090789795, -5.29449987411499, -5.1519999504089355, -5.249300003051758, -5.128200054168701, -5.247399806976318, -5.202199935913086, -6.938700199127197, -5.56850004196167, -7.622700214385986, -7.622900009155273, -6.945400238037109, -7.626100063323975, -6.947700023651123, -7.627200126647949, -7.627699851989746, -7.628300189971924, -6.949699878692627, -7.628499984741211, -7.628900051116943, -7.628900051116943, -7.629199981689453, -7.629499912261963, -7.629700183868408, -7.629700183868408, -7.630000114440918, -6.951300144195557, -7.6305999755859375, -7.63100004196167, -6.952099800109863, -6.952099800109863, -7.630799770355225, -6.26669979095459, -7.631700038909912, -7.631899833679199, -7.631999969482422, -6.9532999992370605, -6.270100116729736, -6.9542999267578125, -6.954999923706055, -6.9552998542785645, -6.5655999183654785, -6.959099769592285, -6.96120023727417, -6.961599826812744, -5.509900093078613, -6.9653000831604, -6.9654998779296875, -6.577099800109863, -6.966400146484375, -5.633999824523926, -6.968500137329102, -5.168000221252441, -5.7652997970581055, -6.099800109863281, -6.97130012512207, -6.971700191497803, -5.782800197601318, -6.594600200653076, -4.103799819946289, -5.822700023651123, -6.332399845123291, -6.336299896240234, -4.39870023727417, -4.607999801635742, -5.969900131225586, -4.756100177764893, -5.283199787139893, -4.752999782562256, -4.832699775695801, -5.852399826049805, -4.970399856567383, -4.099100112915039, -4.889599800109863, -6.366000175476074, -3.8838999271392822, -4.522900104522705, -4.396500110626221, -4.2129998207092285, -3.864300012588501, -4.843800067901611, -4.416600227355957, -4.6269001960754395, -4.960100173950195, -5.055300235748291, -4.400199890136719, -5.049600124359131, -4.9893999099731445, -4.886499881744385, -4.780900001525879, -4.860499858856201, -4.424600124359131, -4.8557000160217285, -4.795100212097168, -4.939300060272217, -5.001999855041504, -4.981800079345703, -5.017899990081787]}, \"token.table\": {\"Topic\": [2, 2, 1, 2, 3, 3, 1, 2, 3, 1, 2, 3, 3, 1, 2, 1, 1, 1, 2, 3, 2, 2, 1, 2, 3, 3, 2, 1, 2, 3, 1, 2, 3, 2, 3, 1, 2, 3, 1, 3, 3, 2, 3, 3, 1, 2, 3, 1, 2, 3, 1, 2, 3, 2, 1, 2, 3, 3, 1, 2, 3, 3, 1, 2, 3, 1, 1, 3, 3, 1, 3, 1, 2, 3, 2, 3, 1, 1, 2, 3, 1, 2, 3, 2, 2, 3, 3, 1, 2, 3, 2, 1, 2, 3, 1, 1, 1, 2, 3, 2, 1, 1, 2, 3, 2, 2, 1, 2, 3, 1, 2, 3, 1, 2, 3, 3, 1, 1, 3, 1, 3, 1, 2, 3, 2, 1, 3, 1, 3, 3, 2, 1, 2, 3, 2, 3, 1, 2, 1, 2, 3, 1, 2, 3, 2, 1, 2, 3, 1, 1, 2, 3, 1, 1, 1, 2, 3, 1, 2, 3, 1, 2, 1, 2, 3, 2, 1, 3, 1, 1, 2, 3, 3, 3, 1, 2, 3, 3, 1, 3, 2, 1, 2, 3, 2, 2, 3, 1, 3, 1, 1, 3, 1, 2, 3, 1, 2, 3, 1, 2, 3, 1, 1, 1, 1, 1, 1, 3, 1, 2, 3, 1, 1, 2, 3, 1, 2, 3, 1, 2, 2, 3, 1, 2, 3, 2, 1, 2, 3, 1, 1, 1, 2, 3, 1, 2, 1, 2, 3, 1, 2, 3, 2, 1, 1, 2, 1, 1, 2, 3, 1, 1, 2, 1, 2, 1, 2, 1, 2, 3, 1, 2, 3, 3, 1, 2, 1, 3, 1, 2, 3, 1, 3, 2, 1, 2, 3, 2, 1, 1, 2, 3, 3, 1, 2, 3, 2, 2, 1, 2, 3, 1, 2, 1, 1, 1, 2, 3, 3, 1, 2, 3, 3, 3, 1, 2, 3, 1, 2, 3, 1, 3, 1, 2, 3, 1, 2, 3, 1, 2, 1, 2, 3, 1, 2, 3, 1, 3, 1, 2, 3, 3, 2, 3, 3, 1, 2, 3, 3, 1, 1, 2, 1, 3, 1, 2, 3, 3, 1, 2, 3, 3, 1, 3, 2, 3, 2, 1, 2, 3, 1, 2, 3, 1, 2, 3, 3, 3, 2, 1, 2, 3, 2, 3, 1, 2, 3, 2, 1, 2, 3, 1, 2, 3, 3, 2, 2, 1, 3], \"Freq\": [0.9916640520095825, 0.9774582386016846, 0.7659565210342407, 0.127659410238266, 0.127659410238266, 0.9686545133590698, 0.2511729300022125, 0.4395526349544525, 0.31396615505218506, 0.29281437397003174, 0.48802393674850464, 0.1952095776796341, 0.9673717021942139, 1.0256861448287964, 0.9914071559906006, 1.0041913986206055, 1.0041532516479492, 0.4125228524208069, 0.4125228524208069, 0.15000830590724945, 0.9966422915458679, 0.9777766466140747, 0.6023804545402527, 0.09511270374059677, 0.31704235076904297, 0.9539876580238342, 0.9912871718406677, 0.29787129163742065, 0.372339129447937, 0.33510521054267883, 0.2242988646030426, 0.2650804817676544, 0.5097701549530029, 0.10888323187828064, 0.8710658550262451, 0.35739752650260925, 0.3249068260192871, 0.3249068260192871, 1.0041474103927612, 0.8582976460456848, 0.9686567187309265, 0.977108895778656, 0.9685226678848267, 0.9540892243385315, 0.2304970622062683, 0.2561078369617462, 0.5122156739234924, 0.2517203092575073, 0.6712541580200195, 0.08390676975250244, 0.31648844480514526, 0.6329768896102905, 0.9682125449180603, 0.9968164563179016, 0.6309367418289185, 0.19413438439369202, 0.14560078084468842, 0.9540039300918579, 0.20170845091342926, 0.806833803653717, 0.9538553357124329, 0.953864336013794, 0.6459105610847473, 0.14353567361831665, 0.20094995200634003, 1.0186597108840942, 0.14048098027706146, 0.8428859114646912, 0.9750729203224182, 0.14070560038089752, 0.8442336320877075, 0.18009169399738312, 0.09004584699869156, 0.7653897404670715, 0.9770209193229675, 0.9752895832061768, 1.0182819366455078, 0.19969338178634644, 0.2828989624977112, 0.5158745646476746, 0.08592764288187027, 0.1288914680480957, 0.7733488082885742, 1.0014328956604004, 0.9950625896453857, 0.9678986072540283, 0.9539584517478943, 1.0040515661239624, 1.00029456615448, 0.9679335951805115, 0.9915894865989685, 0.31676897406578064, 0.21117930114269257, 0.47515344619750977, 1.0239384174346924, 1.0187345743179321, 0.15984798967838287, 0.23089155554771423, 0.6216310858726501, 0.9775506854057312, 1.0041872262954712, 0.21587732434272766, 0.6476319432258606, 0.1439182162284851, 0.997481644153595, 0.9984344840049744, 0.35392117500305176, 0.4550414979457855, 0.15168049931526184, 0.28807133436203003, 0.4961228370666504, 0.2240554839372635, 0.21117541193962097, 0.5279385447502136, 0.2639692723751068, 0.9539377689361572, 1.0186721086502075, 0.895601749420166, 0.12794311344623566, 1.0238045454025269, 0.9539516568183899, 0.11240973323583603, 0.11240973323583603, 0.786868155002594, 0.9917603135108948, 0.72624671459198, 0.29049867391586304, 0.30329662561416626, 0.6932494640350342, 0.9675496220588684, 0.9965103268623352, 1.0041823387145996, 0.1633215695619583, 0.8166078329086304, 0.9774417281150818, 0.9680253863334656, 1.004212737083435, 0.9914960861206055, 0.22183899581432343, 0.25881215929985046, 0.5176243185997009, 0.14209647476673126, 0.24866883456707, 0.568385899066925, 0.9771625399589539, 0.2494046986103058, 0.20783725380897522, 0.5403768420219421, 1.0186316967010498, 0.296916127204895, 0.08097711950540543, 0.6208246350288391, 1.0236051082611084, 1.018781065940857, 0.11801297962665558, 0.6490713953971863, 0.17701946198940277, 0.17456339299678802, 0.5673310160636902, 0.26184508204460144, 0.8980803489685059, 0.12829719483852386, 0.34675896167755127, 0.10274339467287064, 0.5522457361221313, 0.9912332892417908, 0.7652547359466553, 0.25508490204811096, 1.019097924232483, 1.0234113931655884, 0.9991888403892517, 0.978222131729126, 0.973170280456543, 0.9786874651908875, 0.3724915683269501, 0.5587373375892639, 0.08277590572834015, 0.9537436962127686, 0.07566754519939423, 0.9080105423927307, 0.9772629141807556, 0.0956495851278305, 0.765196681022644, 0.14347438514232635, 0.977473795413971, 0.9962418675422668, 0.9734289050102234, 1.004207730293274, 0.9685017466545105, 1.024064540863037, 1.018504023551941, 0.9543020725250244, 0.3372637629508972, 0.5621063113212585, 0.11242125928401947, 0.5654575228691101, 0.28272876143455505, 0.11309151351451874, 0.18361668288707733, 0.036723338067531586, 0.7711901068687439, 1.0041528940200806, 1.0209776163101196, 0.8195928335189819, 1.0182541608810425, 1.018869161605835, 0.9498427510261536, 0.07915356755256653, 0.40820440649986267, 0.09420101344585419, 0.5024054050445557, 1.0041584968566895, 0.3751172721385956, 0.2813379466533661, 0.32822760939598083, 0.5661782622337341, 0.11919542402029037, 0.3277874290943146, 1.018475890159607, 0.9956986904144287, 0.8014430999755859, 0.9538474678993225, 1.0041779279708862, 0.9772992730140686, 0.9538556337356567, 0.9916403293609619, 0.2672452926635742, 0.49337589740753174, 0.24668794870376587, 1.0041605234146118, 1.0187482833862305, 0.817914605140686, 0.2044786512851715, 0.9679661989212036, 1.0260754823684692, 0.9772673845291138, 0.7311522960662842, 0.29246091842651367, 0.9681015610694885, 1.0041916370391846, 0.9772551655769348, 0.977099597454071, 0.9911084175109863, 1.0190839767456055, 0.16759975254535675, 0.8379987478256226, 1.0261625051498413, 0.27834731340408325, 0.27834731340408325, 0.44535571336746216, 1.0232341289520264, 0.897314727306366, 0.12818782031536102, 1.0041439533233643, 0.9770991206169128, 1.0041131973266602, 0.9772780537605286, 0.1794413924217224, 0.5921565890312195, 0.23327381908893585, 0.3156147003173828, 0.33534061908721924, 0.33534061908721924, 0.967976450920105, 0.8799557089805603, 0.14665928483009338, 0.8187815546989441, 0.10234769433736801, 0.34315529465675354, 0.2696220278739929, 0.3921774625778198, 0.9233186841011047, 0.10259096324443817, 0.9913369417190552, 0.2888011932373047, 0.13329285383224487, 0.5776023864746094, 0.9776371717453003, 1.023883581161499, 0.2977627217769623, 0.6550779938697815, 0.059552546590566635, 0.9540038108825684, 1.02383553981781, 0.9964575171470642, 0.9678668975830078, 0.9775286316871643, 0.991584300994873, 1.0184462070465088, 0.9915246367454529, 0.9539903402328491, 1.0041613578796387, 0.9772557616233826, 1.004088282585144, 1.0041569471359253, 0.37060099840164185, 0.4042919874191284, 0.2189914882183075, 0.9790698885917664, 0.12367993593215942, 0.12367993593215942, 0.7420796155929565, 0.9539622664451599, 0.9677796959877014, 0.4255175292491913, 0.11416324228048325, 0.456652969121933, 0.09125499427318573, 0.7300399541854858, 0.09125499427318573, 1.0233862400054932, 0.9747780561447144, 0.18328231573104858, 0.7331292629241943, 0.09164115786552429, 0.4094855487346649, 0.1364951878786087, 0.443609356880188, 1.0184932947158813, 0.9910184144973755, 0.23918019235134125, 0.1993168294429779, 0.5979504585266113, 0.09896908700466156, 0.19793817400932312, 0.7422681450843811, 0.3920033276081085, 0.5662270188331604, 0.20429815351963043, 0.05837089940905571, 0.7588216662406921, 0.9682759046554565, 0.13994498550891876, 0.8396698832511902, 0.9538700580596924, 0.36253130435943604, 0.4388536810874939, 0.19080594182014465, 0.9685256481170654, 0.8805330991744995, 1.0232535600662231, 0.9963996410369873, 0.7672295570373535, 0.1278715878725052, 0.1305236965417862, 0.5220947861671448, 0.348063200712204, 0.9678006768226624, 0.1669306457042694, 0.4590592682361603, 0.3338612914085388, 0.9537481665611267, 1.0187169313430786, 0.9539414048194885, 0.9912819862365723, 0.968045711517334, 1.0031342506408691, 0.3687950670719147, 0.5531926155090332, 0.06146584823727608, 0.40352311730384827, 0.2882307767868042, 0.3170538544654846, 0.3730819821357727, 0.3511359989643097, 0.2743249833583832, 0.968165934085846, 0.9771785736083984, 1.0018651485443115, 0.0552825853228569, 0.4975432753562927, 0.4422606825828552, 0.9914391040802002, 0.954283595085144, 1.0224659442901611, 0.9953300952911377, 0.9793840050697327, 1.0004856586456299, 0.2191028594970703, 0.701129138469696, 0.1314617246389389, 0.0767703503370285, 0.6909331679344177, 0.307081401348114, 0.9538167119026184, 0.9969655275344849, 0.9963430762290955, 0.15210196375846863, 0.8365607857704163], \"Term\": [\"add\", \"affect\", \"agent\", \"agent\", \"agent\", \"airfare\", \"airline\", \"airline\", \"airline\", \"airport\", \"airport\", \"airport\", \"aisle\", \"allocate\", \"angry\", \"app\", \"argue\", \"arrive\", \"arrive\", \"arrive\", \"attempt\", \"austrian\", \"bag\", \"bag\", \"bag\", \"baguette\", \"belt\", \"berlin\", \"berlin\", \"berlin\", \"board\", \"board\", \"board\", \"bonn\", \"bonn\", \"book\", \"book\", \"book\", \"boring\", \"bottle\", \"box\", \"boyfriend\", \"breeze\", \"bun\", \"cabin\", \"cabin\", \"cabin\", \"call\", \"call\", \"call\", \"cancel\", \"cancel\", \"carnival\", \"center\", \"cgn\", \"cgn\", \"cgn\", \"challenge\", \"change\", \"change\", \"charter\", \"chartered\", \"check\", \"check\", \"check\", \"checked\", \"cheese\", \"cheese\", \"chocolate\", \"choice\", \"choice\", \"clean\", \"clean\", \"clean\", \"coach\", \"cold\", \"collection\", \"cologne\", \"cologne\", \"cologne\", \"comfortable\", \"comfortable\", \"comfortable\", \"complaint\", \"complete\", \"complimentary\", \"configuration\", \"confirmation\", \"connection\", \"consist\", \"control\", \"cost\", \"cost\", \"cost\", \"course\", \"cramp\", \"crew\", \"crew\", \"crew\", \"criticism\", \"crjs\", \"customer\", \"customer\", \"customer\", \"cut\", \"date\", \"day\", \"day\", \"day\", \"delay\", \"delay\", \"delay\", \"departure\", \"departure\", \"departure\", \"disappear\", \"domestic\", \"don\", \"don\", \"dortmund\", \"dot\", \"drink\", \"drink\", \"drink\", \"dubrovnik\", \"economy\", \"economy\", \"efficient\", \"efficient\", \"emergency\", \"enter\", \"enthusiastic\", \"fact\", \"fact\", \"failure\", \"faro\", \"feeder\", \"fiumicino\", \"fly\", \"fly\", \"fly\", \"food\", \"food\", \"food\", \"force\", \"free\", \"free\", \"free\", \"friend\", \"friendly\", \"friendly\", \"friendly\", \"frill\", \"galley\", \"gate\", \"gate\", \"gate\", \"give\", \"give\", \"give\", \"gold\", \"gold\", \"good\", \"good\", \"good\", \"guess\", \"ham\", \"ham\", \"handling\", \"happy\", \"help\", \"high\", \"hop\", \"hot\", \"hour\", \"hour\", \"hour\", \"husband\", \"include\", \"include\", \"independent\", \"information\", \"information\", \"information\", \"injury\", \"insult\", \"italy\", \"itinerary\", \"juice\", \"k\\u00f6ln\", \"layout\", \"lb\", \"leave\", \"leave\", \"leave\", \"leg\", \"leg\", \"leg\", \"legroom\", \"legroom\", \"legroom\", \"letdown\", \"level\", \"limit\", \"lis\", \"live\", \"long\", \"long\", \"low\", \"low\", \"low\", \"loyalty\", \"lufthansa\", \"lufthansa\", \"lufthansa\", \"luggage\", \"luggage\", \"luggage\", \"major\", \"manager\", \"manner\", \"marrakech\", \"measure\", \"mediocre\", \"mess\", \"message\", \"minute\", \"minute\", \"minute\", \"model\", \"month\", \"morning\", \"morning\", \"mother\", \"muc\", \"muffin\", \"munich\", \"munich\", \"negative\", \"network\", \"norm\", \"normal\", \"notice\", \"nuernberg\", \"occasion\", \"occasion\", \"october\", \"offer\", \"offer\", \"offer\", \"one\", \"online\", \"online\", \"onward\", \"operative\", \"overnight\", \"pain\", \"passenger\", \"passenger\", \"passenger\", \"pay\", \"pay\", \"pay\", \"pence\", \"piece\", \"piece\", \"pitch\", \"pitch\", \"plane\", \"plane\", \"plane\", \"possible\", \"possible\", \"practice\", \"price\", \"price\", \"price\", \"printer\", \"privilege\", \"problem\", \"problem\", \"problem\", \"programme\", \"proper\", \"public\", \"quick\", \"radar\", \"raise\", \"rating\", \"real\", \"rear\", \"reply\", \"resolve\", \"restore\", \"retain\", \"return\", \"return\", \"return\", \"roll\", \"sandwich\", \"sandwich\", \"sandwich\", \"santorini\", \"score\", \"seat\", \"seat\", \"seat\", \"second\", \"second\", \"second\", \"section\", \"security\", \"serve\", \"serve\", \"serve\", \"service\", \"service\", \"service\", \"shape\", \"sharp\", \"short\", \"short\", \"short\", \"small\", \"small\", \"small\", \"smart\", \"smart\", \"snack\", \"snack\", \"snack\", \"social\", \"soft\", \"soft\", \"spotless\", \"staff\", \"staff\", \"staff\", \"stair\", \"standard\", \"status\", \"stay\", \"stn\", \"stn\", \"stuttgart\", \"stuttgart\", \"stuttgart\", \"sweet\", \"take\", \"take\", \"take\", \"tall\", \"tariff\", \"tasteless\", \"taxi\", \"tea\", \"technical\", \"tell\", \"tell\", \"tell\", \"ticket\", \"ticket\", \"ticket\", \"time\", \"time\", \"time\", \"tiny\", \"toilet\", \"train\", \"trip\", \"trip\", \"trip\", \"tyre\", \"underweight\", \"usual\", \"venice\", \"vienna\", \"voucher\", \"wait\", \"wait\", \"wait\", \"way\", \"way\", \"way\", \"weak\", \"weather\", \"welcome\", \"year\", \"year\"]}, \"R\": 30, \"lambda.step\": 0.01, \"plot.opts\": {\"xlab\": \"PC1\", \"ylab\": \"PC2\"}, \"topic.order\": [1, 2, 3]};\n",
       "\n",
       "function LDAvis_load_lib(url, callback){\n",
       "  var s = document.createElement('script');\n",
       "  s.src = url;\n",
       "  s.async = true;\n",
       "  s.onreadystatechange = s.onload = callback;\n",
       "  s.onerror = function(){console.warn(\"failed to load library \" + url);};\n",
       "  document.getElementsByTagName(\"head\")[0].appendChild(s);\n",
       "}\n",
       "\n",
       "if(typeof(LDAvis) !== \"undefined\"){\n",
       "   // already loaded: just create the visualization\n",
       "   !function(LDAvis){\n",
       "       new LDAvis(\"#\" + \"ldavis_el943624457812661281430311406\", ldavis_el943624457812661281430311406_data);\n",
       "   }(LDAvis);\n",
       "}else if(typeof define === \"function\" && define.amd){\n",
       "   // require.js is available: use it to load d3/LDAvis\n",
       "   require.config({paths: {d3: \"https://cdnjs.cloudflare.com/ajax/libs/d3/3.5.5/d3.min\"}});\n",
       "   require([\"d3\"], function(d3){\n",
       "      window.d3 = d3;\n",
       "      LDAvis_load_lib(\"https://cdn.rawgit.com/bmabey/pyLDAvis/files/ldavis.v1.0.0.js\", function(){\n",
       "        new LDAvis(\"#\" + \"ldavis_el943624457812661281430311406\", ldavis_el943624457812661281430311406_data);\n",
       "      });\n",
       "    });\n",
       "}else{\n",
       "    // require.js not available: dynamically load d3 & LDAvis\n",
       "    LDAvis_load_lib(\"https://cdnjs.cloudflare.com/ajax/libs/d3/3.5.5/d3.min.js\", function(){\n",
       "         LDAvis_load_lib(\"https://cdn.rawgit.com/bmabey/pyLDAvis/files/ldavis.v1.0.0.js\", function(){\n",
       "                 new LDAvis(\"#\" + \"ldavis_el943624457812661281430311406\", ldavis_el943624457812661281430311406_data);\n",
       "            })\n",
       "         });\n",
       "}\n",
       "</script>"
      ],
      "text/plain": [
       "PreparedData(topic_coordinates=              x         y  topics  cluster       Freq\n",
       "topic                                                \n",
       "0     -0.001790 -0.118210       1        1  33.008957\n",
       "1     -0.122036  0.060396       2        1  31.810266\n",
       "2      0.123826  0.057814       3        1  35.180779, topic_info=    Category       Freq         Term      Total  loglift  logprob\n",
       "4    Default  44.000000        drink  44.000000  30.0000  30.0000\n",
       "29   Default  69.000000        check  69.000000  29.0000  29.0000\n",
       "71   Default  34.000000        snack  34.000000  28.0000  28.0000\n",
       "38   Default  48.000000         hour  48.000000  27.0000  27.0000\n",
       "10   Default  27.000000      legroom  27.000000  26.0000  26.0000\n",
       "9    Default  77.000000         good  77.000000  25.0000  25.0000\n",
       "311  Default  20.000000  information  20.000000  24.0000  24.0000\n",
       "110  Default  12.000000         long  12.000000  23.0000  23.0000\n",
       "42   Default  55.000000    passenger  55.000000  22.0000  22.0000\n",
       "14   Default  96.000000         seat  96.000000  21.0000  21.0000\n",
       "192  Default  13.000000      include  13.000000  20.0000  20.0000\n",
       "266  Default  23.000000    efficient  23.000000  19.0000  19.0000\n",
       "159  Default  23.000000  comfortable  23.000000  18.0000  18.0000\n",
       "176  Default  32.000000         tell  32.000000  17.0000  17.0000\n",
       "2    Default  56.000000         crew  56.000000  16.0000  16.0000\n",
       "104  Default   8.000000         high   8.000000  15.0000  15.0000\n",
       "127  Default  22.000000         wait  22.000000  14.0000  14.0000\n",
       "399  Default   7.000000    technical   7.000000  13.0000  13.0000\n",
       "67   Default  24.000000     sandwich  24.000000  12.0000  12.0000\n",
       "70   Default  22.000000        smart  22.000000  11.0000  11.0000\n",
       "128  Default  31.000000          bag  31.000000  10.0000  10.0000\n",
       "64   Default  37.000000     friendly  37.000000   9.0000   9.0000\n",
       "156  Default  22.000000        clean  22.000000   8.0000   8.0000\n",
       "401  Default   6.000000        train   6.000000   7.0000   7.0000\n",
       "374  Default   9.000000     possible   9.000000   6.0000   6.0000\n",
       "97   Default   9.000000         bonn   9.000000   5.0000   5.0000\n",
       "91   Default  13.000000         year  13.000000   4.0000   4.0000\n",
       "27   Default  15.000000       cancel  15.000000   3.0000   3.0000\n",
       "798  Default   6.000000    complaint   6.000000   2.0000   2.0000\n",
       "284  Default   9.000000        pitch   9.000000   1.0000   1.0000\n",
       "..       ...        ...          ...        ...      ...      ...\n",
       "67    Topic3  18.053053     sandwich  24.256157   0.7493  -4.7530\n",
       "156   Topic3  16.669481        clean  22.210907   0.7577  -4.8327\n",
       "212   Topic3   6.012702       choice   7.107038   0.8775  -5.8524\n",
       "69    Topic3  14.525622        small  20.208330   0.7145  -4.9704\n",
       "2     Topic3  34.715153         crew  56.303490   0.5611  -4.0991\n",
       "266   Topic3  15.747833    efficient  23.079716   0.6624  -4.8896\n",
       "579   Topic3   3.597667       toilet   4.093418   0.9156  -6.3660\n",
       "9     Topic3  43.050819         good  77.863884   0.4521  -3.8839\n",
       "64    Topic3  22.722931     friendly  37.047501   0.5558  -4.5229\n",
       "118   Topic3  25.785198        price  45.013664   0.4875  -4.3965\n",
       "30    Topic3  30.978992      cologne  60.092125   0.3821  -4.2130\n",
       "14    Topic3  43.903969         seat  96.353256   0.2587  -3.8643\n",
       "8     Topic3  16.486767         food  28.149889   0.5097  -4.8438\n",
       "58    Topic3  25.271021        board  49.041710   0.3817  -4.4166\n",
       "79    Topic3  20.478647        cabin  39.046051   0.3993  -4.6269\n",
       "200   Topic3  14.676568        short  25.085690   0.5086  -4.9601\n",
       "70    Topic3  13.343217        smart  22.958988   0.5020  -5.0553\n",
       "123   Topic3  25.689610      service  58.610126   0.2198  -4.4002\n",
       "139   Topic3  13.419001         free  24.057285   0.4609  -5.0496\n",
       "84    Topic3  14.252327          fly  27.046642   0.4040  -4.9894\n",
       "112   Topic3  15.797100          low  31.846790   0.3436  -4.8865\n",
       "31    Topic3  17.555563         cost  37.882500   0.2756  -4.7809\n",
       "66    Topic3  16.213470        offer  35.926338   0.2490  -4.8605\n",
       "51    Topic3  25.070827         time  91.132782  -0.2459  -4.4246\n",
       "171   Topic3  16.290112        plane  40.797855   0.1266  -4.8557\n",
       "198   Topic3  17.308218          pay  50.694725  -0.0300  -4.7951\n",
       "22    Topic3  14.984376      airline  47.775848  -0.1148  -4.9393\n",
       "214   Topic3  14.074324    lufthansa  42.653328  -0.0641  -5.0020\n",
       "29    Topic3  14.361453        check  69.669090  -0.5345  -4.9818\n",
       "3     Topic3  13.851758        delay  62.484524  -0.4618  -5.0179\n",
       "\n",
       "[306 rows x 6 columns], token_table=      Topic      Freq         Term\n",
       "term                              \n",
       "460       2  0.991664          add\n",
       "461       2  0.977458       affect\n",
       "20        1  0.765957        agent\n",
       "20        2  0.127659        agent\n",
       "20        3  0.127659        agent\n",
       "1243      3  0.968655      airfare\n",
       "22        1  0.251173      airline\n",
       "22        2  0.439553      airline\n",
       "22        3  0.313966      airline\n",
       "93        1  0.292814      airport\n",
       "93        2  0.488024      airport\n",
       "93        3  0.195210      airport\n",
       "824       3  0.967372        aisle\n",
       "1173      1  1.025686     allocate\n",
       "899       2  0.991407        angry\n",
       "777       1  1.004191          app\n",
       "726       1  1.004153        argue\n",
       "24        1  0.412523       arrive\n",
       "24        2  0.412523       arrive\n",
       "24        3  0.150008       arrive\n",
       "298       2  0.996642      attempt\n",
       "740       2  0.977777     austrian\n",
       "128       1  0.602380          bag\n",
       "128       2  0.095113          bag\n",
       "128       3  0.317042          bag\n",
       "1133      3  0.953988     baguette\n",
       "1022      2  0.991287         belt\n",
       "1         1  0.297871       berlin\n",
       "1         2  0.372339       berlin\n",
       "1         3  0.335105       berlin\n",
       "...     ...       ...          ...\n",
       "176       3  0.061466         tell\n",
       "76        1  0.403523       ticket\n",
       "76        2  0.288231       ticket\n",
       "76        3  0.317054       ticket\n",
       "51        1  0.373082         time\n",
       "51        2  0.351136         time\n",
       "51        3  0.274325         time\n",
       "635       3  0.968166         tiny\n",
       "579       3  0.977179       toilet\n",
       "401       2  1.001865        train\n",
       "403       1  0.055283         trip\n",
       "403       2  0.497543         trip\n",
       "403       3  0.442261         trip\n",
       "950       2  0.991439         tyre\n",
       "1234      3  0.954284  underweight\n",
       "725       1  1.022466        usual\n",
       "1054      2  0.995330       venice\n",
       "90        3  0.979384       vienna\n",
       "330       2  1.000486      voucher\n",
       "127       1  0.219103         wait\n",
       "127       2  0.701129         wait\n",
       "127       3  0.131462         wait\n",
       "257       1  0.076770          way\n",
       "257       2  0.690933          way\n",
       "257       3  0.307081          way\n",
       "220       3  0.953817         weak\n",
       "258       2  0.996966      weather\n",
       "146       2  0.996343      welcome\n",
       "91        1  0.152102         year\n",
       "91        3  0.836561         year\n",
       "\n",
       "[389 rows x 3 columns], R=30, lambda_step=0.01, plot_opts={'xlab': 'PC1', 'ylab': 'PC2'}, topic_order=[1, 2, 3])"
      ]
     },
     "execution_count": 18,
     "metadata": {},
     "output_type": "execute_result"
    }
   ],
   "source": [
    "# view the reviews if running Jupyter Notebook\n",
    "pyLDAvis.enable_notebook()\n",
    "vis_reviews"
   ]
  },
  {
   "cell_type": "code",
   "execution_count": 19,
   "metadata": {
    "papermill": {
     "duration": 0.235072,
     "end_time": "2019-08-12T04:03:16.049776",
     "exception": false,
     "start_time": "2019-08-12T04:03:15.814704",
     "status": "completed"
    },
    "tags": []
   },
   "outputs": [
    {
     "data": {
      "text/html": [
       "\n",
       "<link rel=\"stylesheet\" type=\"text/css\" href=\"https://cdn.rawgit.com/bmabey/pyLDAvis/files/ldavis.v1.0.0.css\">\n",
       "\n",
       "\n",
       "<div id=\"ldavis_el943624458272125362113194295\"></div>\n",
       "<script type=\"text/javascript\">\n",
       "\n",
       "var ldavis_el943624458272125362113194295_data = {\"mdsDat\": {\"x\": [0.08025656640529633, -0.08025656640529633], \"y\": [0.0, 0.0], \"topics\": [1, 2], \"cluster\": [1, 1], \"Freq\": [49.458412170410156, 50.54158401489258]}, \"tinfo\": {\"Category\": [\"Default\", \"Default\", \"Default\", \"Default\", \"Default\", \"Default\", \"Default\", \"Default\", \"Default\", \"Default\", \"Default\", \"Default\", \"Default\", \"Default\", \"Default\", \"Default\", \"Default\", \"Default\", \"Default\", \"Default\", \"Default\", \"Default\", \"Default\", \"Default\", \"Default\", \"Default\", \"Default\", \"Default\", \"Default\", \"Default\", \"Topic1\", \"Topic1\", \"Topic1\", \"Topic1\", \"Topic1\", \"Topic1\", \"Topic1\", \"Topic1\", \"Topic1\", \"Topic1\", \"Topic1\", \"Topic1\", \"Topic1\", \"Topic1\", \"Topic1\", \"Topic1\", \"Topic1\", \"Topic1\", \"Topic1\", \"Topic1\", \"Topic1\", \"Topic1\", \"Topic1\", \"Topic1\", \"Topic1\", \"Topic1\", \"Topic1\", \"Topic1\", \"Topic1\", \"Topic1\", \"Topic1\", \"Topic1\", \"Topic1\", \"Topic1\", \"Topic1\", \"Topic2\", \"Topic2\", \"Topic2\", \"Topic2\", \"Topic2\", \"Topic2\", \"Topic2\", \"Topic2\", \"Topic2\", \"Topic2\", \"Topic2\", \"Topic2\", \"Topic2\", \"Topic2\", \"Topic2\", \"Topic2\", \"Topic2\", \"Topic2\", \"Topic2\", \"Topic2\", \"Topic2\", \"Topic2\", \"Topic2\", \"Topic2\", \"Topic2\", \"Topic2\", \"Topic2\", \"Topic2\", \"Topic2\", \"Topic2\", \"Topic2\"], \"Freq\": [111.0, 8.0, 6.0, 4.0, 3.0, 2.0, 2.0, 2.0, 2.0, 1.0, 1.0, 1.0, 1.0, 1.0, 1.0, 1.0, 1.0, 1.0, 1.0, 1.0, 1.0, 1.0, 1.0, 1.0, 1.0, 1.0, 1.0, 1.0, 1.0, 1.0, 0.9756255745887756, 0.9708157777786255, 0.96949303150177, 0.9636136889457703, 0.9607652425765991, 0.9606072306632996, 0.959631621837616, 0.9519765377044678, 0.946626603603363, 0.9232415556907654, 0.9122452139854431, 0.7846069931983948, 72.66527557373047, 1.1809922456741333, 0.19905857741832733, 0.18892796337604523, 0.18692979216575623, 0.1754572093486786, 0.1694916933774948, 0.16264908015727997, 0.28487536311149597, 0.1531718671321869, 0.14616496860980988, 0.14362403750419617, 0.26161688566207886, 0.260619580745697, 0.13579314947128296, 0.1344369798898697, 0.1314408779144287, 0.13127698004245758, 0.3779609203338623, 0.2894394099712372, 0.5998141765594482, 0.4630140960216522, 0.16759316623210907, 7.596665859222412, 5.7332444190979, 2.0306918621063232, 3.8122081756591797, 2.9028985500335693, 1.082440972328186, 1.0785645246505737, 1.0723390579223633, 1.0720735788345337, 1.0701186656951904, 1.0696191787719727, 1.0672917366027832, 1.0660454034805298, 1.0652559995651245, 1.0632524490356445, 1.0630639791488647, 1.0597318410873413, 1.0582237243652344, 1.9271165132522583, 1.9260059595108032, 1.049504041671753, 1.0466729402542114, 1.0388725996017456, 1.9001108407974243, 1.0283178091049194, 1.020700454711914, 1.0140562057495117, 1.0012835264205933, 0.9990568161010742, 0.9877766966819763, 39.23576354980469], \"Term\": [\"customer\", \"friendly\", \"staff\", \"crew\", \"cabin\", \"delay\", \"little\", \"professional\", \"good\", \"seat\", \"offer\", \"terrible\", \"food\", \"legroom\", \"heathrow\", \"problem\", \"help\", \"explanation\", \"minute\", \"treat\", \"pay\", \"great\", \"fine\", \"refer\", \"don\", \"service\", \"info\", \"late\", \"value\", \"eurowing\", \"great\", \"refer\", \"don\", \"late\", \"value\", \"eurowing\", \"refuse\", \"water\", \"impress\", \"satisfied\", \"unresponsive\", \"cramp\", \"customer\", \"money\", \"available\", \"agent\", \"smile\", \"book\", \"choice\", \"vow\", \"good\", \"airline\", \"info\", \"service\", \"professional\", \"little\", \"fine\", \"pay\", \"treat\", \"minute\", \"crew\", \"cabin\", \"friendly\", \"staff\", \"delay\", \"friendly\", \"staff\", \"delay\", \"crew\", \"cabin\", \"seat\", \"offer\", \"terrible\", \"food\", \"legroom\", \"heathrow\", \"problem\", \"help\", \"explanation\", \"minute\", \"treat\", \"pay\", \"fine\", \"little\", \"professional\", \"service\", \"info\", \"airline\", \"good\", \"vow\", \"choice\", \"book\", \"smile\", \"agent\", \"available\", \"customer\"], \"Total\": [111.0, 8.0, 6.0, 4.0, 3.0, 2.0, 2.0, 2.0, 2.0, 1.0, 1.0, 1.0, 1.0, 1.0, 1.0, 1.0, 1.0, 1.0, 1.0, 1.0, 1.0, 1.0, 1.0, 1.0, 1.0, 1.0, 1.0, 1.0, 1.0, 1.0, 1.0988290309906006, 1.0993720293045044, 1.0995216369628906, 1.1001869440078735, 1.100510835647583, 1.1005271673202515, 1.100637674331665, 1.1015040874481201, 1.1021047830581665, 1.1047521829605103, 1.1059969663619995, 1.1204514503479004, 111.90103912353516, 2.0834038257598877, 1.1868352890014648, 1.187984824180603, 1.1882133483886719, 1.1895134449005127, 1.1901921033859253, 1.1909668445587158, 2.184986114501953, 1.1920444965362549, 1.1928379535675049, 1.1931281089782715, 2.1876227855682373, 2.1877360343933105, 1.194016933441162, 1.1941688060760498, 1.1945048570632935, 1.194529414176941, 4.190169334411621, 3.192337989807129, 8.196479797363281, 6.196258544921875, 2.1982851028442383, 8.196479797363281, 6.196258544921875, 2.1982851028442383, 4.190169334411621, 3.192337989807129, 1.196485996246338, 1.1960909366607666, 1.1954569816589355, 1.1954301595687866, 1.1952297687530518, 1.1951789855957031, 1.1949423551559448, 1.1948144435882568, 1.1947342157363892, 1.194529414176941, 1.1945048570632935, 1.1941688060760498, 1.194016933441162, 2.1877360343933105, 2.1876227855682373, 1.1931281089782715, 1.1928379535675049, 1.1920444965362549, 2.184986114501953, 1.1909668445587158, 1.1901921033859253, 1.1895134449005127, 1.1882133483886719, 1.187984824180603, 1.1868352890014648, 111.90103912353516], \"loglift\": [30.0, 29.0, 28.0, 27.0, 26.0, 25.0, 24.0, 23.0, 22.0, 21.0, 20.0, 19.0, 18.0, 17.0, 16.0, 15.0, 14.0, 13.0, 12.0, 11.0, 10.0, 9.0, 8.0, 7.0, 6.0, 5.0, 4.0, 3.0, 2.0, 1.0, 0.585099995136261, 0.5796999931335449, 0.5781999826431274, 0.5715000033378601, 0.5681999921798706, 0.5680999755859375, 0.5669000148773193, 0.5580999851226807, 0.5519999861717224, 0.5246000289916992, 0.5113999843597412, 0.34769999980926514, 0.27230000495910645, 0.1363999992609024, -1.0814000368118286, -1.134600043296814, -1.145400047302246, -1.2099000215530396, -1.2450000047683716, -1.2869000434875488, -1.333299994468689, -1.3478000164031982, -1.395300030708313, -1.413100004196167, -1.419700026512146, -1.4234999418258667, -1.4699000120162964, -1.4801000356674194, -1.5029000043869019, -1.5041999816894531, -1.70169997215271, -1.6964999437332153, -1.9107999801635742, -1.8898999691009521, -1.8698999881744385, 0.6064000129699707, 0.6047000288963318, 0.6031000018119812, 0.5878000259399414, 0.5873000025749207, 0.5821999907493591, 0.5788999795913696, 0.5737000107765198, 0.5734999775886536, 0.5717999935150146, 0.571399986743927, 0.5694000124931335, 0.5683000087738037, 0.5677000284194946, 0.5659999847412109, 0.5658000111579895, 0.5629000067710876, 0.5616000294685364, 0.5554999709129333, 0.5550000071525574, 0.554099977016449, 0.5516999959945679, 0.5447999835014343, 0.5426999926567078, 0.5354999899864197, 0.5286999940872192, 0.5228000283241272, 0.5112000107765198, 0.5091999769210815, 0.49880000948905945, -0.36570000648498535], \"logprob\": [30.0, 29.0, 28.0, 27.0, 26.0, 25.0, 24.0, 23.0, 22.0, 21.0, 20.0, 19.0, 18.0, 17.0, 16.0, 15.0, 14.0, 13.0, 12.0, 11.0, 10.0, 9.0, 8.0, 7.0, 6.0, 5.0, 4.0, 3.0, 2.0, 1.0, -4.535600185394287, -4.540500164031982, -4.541900157928467, -4.547999858856201, -4.550899982452393, -4.55109977722168, -4.55210018157959, -4.560100078582764, -4.565700054168701, -4.590799808502197, -4.602700233459473, -4.753499984741211, -0.22499999403953552, -4.3445000648498535, -6.125100135803223, -6.177299976348877, -6.187900066375732, -6.251299858093262, -6.285799980163574, -6.327099800109863, -5.766600131988525, -6.3871002197265625, -6.433899879455566, -6.451499938964844, -5.851799964904785, -5.855599880218506, -6.507500171661377, -6.517600059509277, -6.54010009765625, -6.541299819946289, -5.48390007019043, -5.750699996948242, -5.021999835968018, -5.280900001525879, -6.297100067138672, -2.5048999786376953, -2.78629994392395, -3.824199914932251, -3.1944000720977783, -3.466900110244751, -4.4532999992370605, -4.456900119781494, -4.462699890136719, -4.4629998207092285, -4.464799880981445, -4.4653000831604, -4.467400074005127, -4.468599796295166, -4.469299793243408, -4.471199989318848, -4.471399784088135, -4.4745001792907715, -4.47599983215332, -3.876499891281128, -3.8770999908447266, -4.4842000007629395, -4.4868998527526855, -4.4944000244140625, -3.8905999660491943, -4.5046000480651855, -4.5121002197265625, -4.518599987030029, -4.531300067901611, -4.5335001945495605, -4.544899940490723, -0.8629999756813049]}, \"token.table\": {\"Topic\": [2, 2, 2, 2, 2, 2, 1, 2, 1, 2, 2, 1, 1, 2, 2, 2, 1, 2, 2, 1, 2, 2, 1, 2, 1, 2, 2, 2, 1, 2, 2, 2, 2, 2, 1, 1, 1, 2, 2, 2, 2, 2, 2, 1, 1, 2, 1], \"Freq\": [0.841761589050293, 0.8388948440551758, 0.8425769209861755, 0.8406798839569092, 0.9397501349449158, 0.8402004837989807, 0.8924974203109741, 0.9546153545379639, 0.6523621082305908, 0.34852224588394165, 0.909800112247467, 0.9094864130020142, 0.9086554646492004, 0.8370062708854675, 0.837509036064148, 0.8365189433097839, 0.12200359255075455, 0.9760287404060364, 0.9153376221656799, 0.9100596904754639, 0.8366947770118713, 0.8369500637054443, 0.9073547124862671, 0.8383368253707886, 0.9089364409446716, 0.8366591930389404, 0.9141870737075806, 0.8371497392654419, 0.47998374700546265, 0.47998374700546265, 0.8360568284988403, 0.8374025225639343, 0.8368604779243469, 0.9142343997955322, 0.9096102118492126, 0.9085642099380493, 0.9051803946495056, 0.8357807993888855, 0.8381329774856567, 0.841599702835083, 0.9683262705802917, 0.8365001678466797, 0.837166965007782, 0.9041616320610046, 0.9086689352989197, 0.8396539092063904, 0.9078495502471924], \"Term\": [\"agent\", \"airline\", \"available\", \"book\", \"cabin\", \"choice\", \"cramp\", \"crew\", \"customer\", \"customer\", \"delay\", \"don\", \"eurowing\", \"explanation\", \"fine\", \"food\", \"friendly\", \"friendly\", \"good\", \"great\", \"heathrow\", \"help\", \"impress\", \"info\", \"late\", \"legroom\", \"little\", \"minute\", \"money\", \"money\", \"offer\", \"pay\", \"problem\", \"professional\", \"refer\", \"refuse\", \"satisfied\", \"seat\", \"service\", \"smile\", \"staff\", \"terrible\", \"treat\", \"unresponsive\", \"value\", \"vow\", \"water\"]}, \"R\": 30, \"lambda.step\": 0.01, \"plot.opts\": {\"xlab\": \"PC1\", \"ylab\": \"PC2\"}, \"topic.order\": [1, 2]};\n",
       "\n",
       "function LDAvis_load_lib(url, callback){\n",
       "  var s = document.createElement('script');\n",
       "  s.src = url;\n",
       "  s.async = true;\n",
       "  s.onreadystatechange = s.onload = callback;\n",
       "  s.onerror = function(){console.warn(\"failed to load library \" + url);};\n",
       "  document.getElementsByTagName(\"head\")[0].appendChild(s);\n",
       "}\n",
       "\n",
       "if(typeof(LDAvis) !== \"undefined\"){\n",
       "   // already loaded: just create the visualization\n",
       "   !function(LDAvis){\n",
       "       new LDAvis(\"#\" + \"ldavis_el943624458272125362113194295\", ldavis_el943624458272125362113194295_data);\n",
       "   }(LDAvis);\n",
       "}else if(typeof define === \"function\" && define.amd){\n",
       "   // require.js is available: use it to load d3/LDAvis\n",
       "   require.config({paths: {d3: \"https://cdnjs.cloudflare.com/ajax/libs/d3/3.5.5/d3.min\"}});\n",
       "   require([\"d3\"], function(d3){\n",
       "      window.d3 = d3;\n",
       "      LDAvis_load_lib(\"https://cdn.rawgit.com/bmabey/pyLDAvis/files/ldavis.v1.0.0.js\", function(){\n",
       "        new LDAvis(\"#\" + \"ldavis_el943624458272125362113194295\", ldavis_el943624458272125362113194295_data);\n",
       "      });\n",
       "    });\n",
       "}else{\n",
       "    // require.js not available: dynamically load d3 & LDAvis\n",
       "    LDAvis_load_lib(\"https://cdnjs.cloudflare.com/ajax/libs/d3/3.5.5/d3.min.js\", function(){\n",
       "         LDAvis_load_lib(\"https://cdn.rawgit.com/bmabey/pyLDAvis/files/ldavis.v1.0.0.js\", function(){\n",
       "                 new LDAvis(\"#\" + \"ldavis_el943624458272125362113194295\", ldavis_el943624458272125362113194295_data);\n",
       "            })\n",
       "         });\n",
       "}\n",
       "</script>"
      ],
      "text/plain": [
       "PreparedData(topic_coordinates=              x    y  topics  cluster       Freq\n",
       "topic                                           \n",
       "0      0.080257  0.0       1        1  49.458412\n",
       "1     -0.080257  0.0       2        1  50.541584, topic_info=   Category        Freq          Term       Total  loglift  logprob\n",
       "43  Default  111.000000      customer  111.000000  30.0000  30.0000\n",
       "8   Default    8.000000      friendly    8.000000  29.0000  29.0000\n",
       "9   Default    6.000000         staff    6.000000  28.0000  28.0000\n",
       "3   Default    4.000000          crew    4.000000  27.0000  27.0000\n",
       "24  Default    3.000000         cabin    3.000000  26.0000  26.0000\n",
       "30  Default    2.000000         delay    2.000000  25.0000  25.0000\n",
       "17  Default    2.000000        little    2.000000  24.0000  24.0000\n",
       "19  Default    2.000000  professional    2.000000  23.0000  23.0000\n",
       "4   Default    2.000000          good    2.000000  22.0000  22.0000\n",
       "2   Default    1.000000          seat    1.000000  21.0000  21.0000\n",
       "40  Default    1.000000         offer    1.000000  20.0000  20.0000\n",
       "37  Default    1.000000      terrible    1.000000  19.0000  19.0000\n",
       "36  Default    1.000000          food    1.000000  18.0000  18.0000\n",
       "1   Default    1.000000       legroom    1.000000  17.0000  17.0000\n",
       "41  Default    1.000000      heathrow    1.000000  16.0000  16.0000\n",
       "31  Default    1.000000       problem    1.000000  15.0000  15.0000\n",
       "39  Default    1.000000          help    1.000000  14.0000  14.0000\n",
       "38  Default    1.000000   explanation    1.000000  13.0000  13.0000\n",
       "42  Default    1.000000        minute    1.000000  12.0000  12.0000\n",
       "10  Default    1.000000         treat    1.000000  11.0000  11.0000\n",
       "18  Default    1.000000           pay    1.000000  10.0000  10.0000\n",
       "14  Default    1.000000         great    1.000000   9.0000   9.0000\n",
       "0   Default    1.000000          fine    1.000000   8.0000   8.0000\n",
       "13  Default    1.000000         refer    1.000000   7.0000   7.0000\n",
       "32  Default    1.000000           don    1.000000   6.0000   6.0000\n",
       "29  Default    1.000000       service    1.000000   5.0000   5.0000\n",
       "23  Default    1.000000          info    1.000000   4.0000   4.0000\n",
       "33  Default    1.000000          late    1.000000   3.0000   3.0000\n",
       "16  Default    1.000000         value    1.000000   2.0000   2.0000\n",
       "12  Default    1.000000      eurowing    1.000000   1.0000   1.0000\n",
       "..      ...         ...           ...         ...      ...      ...\n",
       "9    Topic2    5.733244         staff    6.196259   0.6047  -2.7863\n",
       "30   Topic2    2.030692         delay    2.198285   0.6031  -3.8242\n",
       "3    Topic2    3.812208          crew    4.190169   0.5878  -3.1944\n",
       "24   Topic2    2.902899         cabin    3.192338   0.5873  -3.4669\n",
       "2    Topic2    1.082441          seat    1.196486   0.5822  -4.4533\n",
       "40   Topic2    1.078565         offer    1.196091   0.5789  -4.4569\n",
       "37   Topic2    1.072339      terrible    1.195457   0.5737  -4.4627\n",
       "36   Topic2    1.072074          food    1.195430   0.5735  -4.4630\n",
       "1    Topic2    1.070119       legroom    1.195230   0.5718  -4.4648\n",
       "41   Topic2    1.069619      heathrow    1.195179   0.5714  -4.4653\n",
       "31   Topic2    1.067292       problem    1.194942   0.5694  -4.4674\n",
       "39   Topic2    1.066045          help    1.194814   0.5683  -4.4686\n",
       "38   Topic2    1.065256   explanation    1.194734   0.5677  -4.4693\n",
       "42   Topic2    1.063252        minute    1.194529   0.5660  -4.4712\n",
       "10   Topic2    1.063064         treat    1.194505   0.5658  -4.4714\n",
       "18   Topic2    1.059732           pay    1.194169   0.5629  -4.4745\n",
       "0    Topic2    1.058224          fine    1.194017   0.5616  -4.4760\n",
       "17   Topic2    1.927117        little    2.187736   0.5555  -3.8765\n",
       "19   Topic2    1.926006  professional    2.187623   0.5550  -3.8771\n",
       "29   Topic2    1.049504       service    1.193128   0.5541  -4.4842\n",
       "23   Topic2    1.046673          info    1.192838   0.5517  -4.4869\n",
       "20   Topic2    1.038873       airline    1.192044   0.5448  -4.4944\n",
       "4    Topic2    1.900111          good    2.184986   0.5427  -3.8906\n",
       "35   Topic2    1.028318           vow    1.190967   0.5355  -4.5046\n",
       "21   Topic2    1.020700        choice    1.190192   0.5287  -4.5121\n",
       "34   Topic2    1.014056          book    1.189513   0.5228  -4.5186\n",
       "5    Topic2    1.001284         smile    1.188213   0.5112  -4.5313\n",
       "6    Topic2    0.999057         agent    1.187985   0.5092  -4.5335\n",
       "7    Topic2    0.987777     available    1.186835   0.4988  -4.5449\n",
       "43   Topic2   39.235764      customer  111.901039  -0.3657  -0.8630\n",
       "\n",
       "[96 rows x 6 columns], token_table=      Topic      Freq          Term\n",
       "term                               \n",
       "6         2  0.841762         agent\n",
       "20        2  0.838895       airline\n",
       "7         2  0.842577     available\n",
       "34        2  0.840680          book\n",
       "24        2  0.939750         cabin\n",
       "21        2  0.840200        choice\n",
       "11        1  0.892497         cramp\n",
       "3         2  0.954615          crew\n",
       "43        1  0.652362      customer\n",
       "43        2  0.348522      customer\n",
       "30        2  0.909800         delay\n",
       "32        1  0.909486           don\n",
       "12        1  0.908655      eurowing\n",
       "38        2  0.837006   explanation\n",
       "0         2  0.837509          fine\n",
       "36        2  0.836519          food\n",
       "8         1  0.122004      friendly\n",
       "8         2  0.976029      friendly\n",
       "4         2  0.915338          good\n",
       "14        1  0.910060         great\n",
       "41        2  0.836695      heathrow\n",
       "39        2  0.836950          help\n",
       "26        1  0.907355       impress\n",
       "23        2  0.838337          info\n",
       "33        1  0.908936          late\n",
       "1         2  0.836659       legroom\n",
       "17        2  0.914187        little\n",
       "42        2  0.837150        minute\n",
       "15        1  0.479984         money\n",
       "15        2  0.479984         money\n",
       "40        2  0.836057         offer\n",
       "18        2  0.837403           pay\n",
       "31        2  0.836860       problem\n",
       "19        2  0.914234  professional\n",
       "13        1  0.909610         refer\n",
       "27        1  0.908564        refuse\n",
       "22        1  0.905180     satisfied\n",
       "2         2  0.835781          seat\n",
       "29        2  0.838133       service\n",
       "5         2  0.841600         smile\n",
       "9         2  0.968326         staff\n",
       "37        2  0.836500      terrible\n",
       "10        2  0.837167         treat\n",
       "25        1  0.904162  unresponsive\n",
       "16        1  0.908669         value\n",
       "35        2  0.839654           vow\n",
       "28        1  0.907850         water, R=30, lambda_step=0.01, plot_opts={'xlab': 'PC1', 'ylab': 'PC2'}, topic_order=[1, 2])"
      ]
     },
     "execution_count": 19,
     "metadata": {},
     "output_type": "execute_result"
    }
   ],
   "source": [
    "# view the reviews if running Jupyter Notebook\n",
    "vis_titles"
   ]
  },
  {
   "cell_type": "markdown",
   "metadata": {
    "papermill": {
     "duration": 0.084953,
     "end_time": "2019-08-12T04:03:16.212818",
     "exception": false,
     "start_time": "2019-08-12T04:03:16.127865",
     "status": "completed"
    },
    "tags": []
   },
   "source": [
    "### Topic Modeling: Assigning each Review a Topic\n",
    "\n",
    "Create a handy function to help assign topics to the reviews dataframe"
   ]
  },
  {
   "cell_type": "code",
   "execution_count": 20,
   "metadata": {
    "papermill": {
     "duration": 0.128997,
     "end_time": "2019-08-12T04:03:16.435821",
     "exception": false,
     "start_time": "2019-08-12T04:03:16.306824",
     "status": "completed"
    },
    "tags": []
   },
   "outputs": [],
   "source": [
    "\n",
    "def get_correct_topics(lda_doc_topics, num_topics):\n",
    "    \"\"\"\n",
    "    get_correct_topics uses an output LDA object to correctly place\n",
    "    LDA outputs to their correct topic column number for use in a\n",
    "    pandas dataframe\n",
    "    \n",
    "    Args:\n",
    "        lda_doc_topics (TransformedCorpus): Document topic probabilities obtained through\n",
    "                                            the .get_document_topics method of an LDA obj\n",
    "        num_topics (int) : Number of topics in lda_doc_topics\n",
    "    Returns:\n",
    "        pandas dataframe of correctly assigned LDA topics\n",
    "    \"\"\"\n",
    "    # placeholder array with same number of rows as the input \n",
    "    # corpus and number of topics for columns\n",
    "    # initialize all zeros so that topics with missing probabilities\n",
    "    # will be zero\n",
    "    \n",
    "    topic_prob_array = np.zeros((pd.DataFrame(lda_doc_topics).shape[0], num_topics))\n",
    "\n",
    "    for row_num, row in enumerate(lda_doc_topics):\n",
    "\n",
    "        # assign each topic to the correct\n",
    "        # topic[0] is the topic number\n",
    "        # topic[1] is the corresponding probability\n",
    "        for topic in row:\n",
    "            topic_prob_array[row_num, topic[0]] = topic[1]\n",
    "\n",
    "    topic_prob_df = pd.DataFrame(topic_prob_array)\n",
    "    \n",
    "    return topic_prob_df"
   ]
  },
  {
   "cell_type": "markdown",
   "metadata": {
    "papermill": {
     "duration": 0.098074,
     "end_time": "2019-08-12T04:03:16.633888",
     "exception": false,
     "start_time": "2019-08-12T04:03:16.535814",
     "status": "completed"
    },
    "tags": []
   },
   "source": [
    "Get both title and reviews dataframes, concatenate with `reviews`"
   ]
  },
  {
   "cell_type": "code",
   "execution_count": 21,
   "metadata": {
    "papermill": {
     "duration": 0.380074,
     "end_time": "2019-08-12T04:03:17.096966",
     "exception": false,
     "start_time": "2019-08-12T04:03:16.716892",
     "status": "completed"
    },
    "tags": []
   },
   "outputs": [],
   "source": [
    "review_prob_df = get_correct_topics(lda_review.get_document_topics(doc_term_mat_review), n_review_topics)\n",
    "title_prob_df = get_correct_topics(lda_title.get_document_topics(doc_term_mat_title), n_title_topics)\n",
    "\n",
    "# name the columns appropriately\n",
    "review_prob_df.columns = review_topic_interp\n",
    "title_prob_df.columns = title_topic_interp\n",
    "\n",
    "#concatenate with reviews\n",
    "reviews_concat = pd.concat([reviews, review_prob_df, title_prob_df], axis = 1)"
   ]
  },
  {
   "cell_type": "code",
   "execution_count": 22,
   "metadata": {
    "papermill": {
     "duration": 0.053963,
     "end_time": "2019-08-12T04:03:17.172930",
     "exception": false,
     "start_time": "2019-08-12T04:03:17.118967",
     "status": "completed"
    },
    "tags": []
   },
   "outputs": [],
   "source": [
    "# save new dataframe with new features\n",
    "reviews_concat.to_csv(save_path, index = False)"
   ]
  }
 ],
 "metadata": {
  "celltoolbar": "Tags",
  "kernelspec": {
   "display_name": "Python 3",
   "language": "python",
   "name": "python3"
  },
  "language_info": {
   "codemirror_mode": {
    "name": "ipython",
    "version": 3
   },
   "file_extension": ".py",
   "mimetype": "text/x-python",
   "name": "python",
   "nbconvert_exporter": "python",
   "pygments_lexer": "ipython3",
   "version": "3.6.8"
  },
  "papermill": {
   "duration": 80.437013,
   "end_time": "2019-08-12T04:03:19.092358",
   "environment_variables": {},
   "exception": null,
   "input_path": "src/ipynbs/topic_modeling.ipynb",
   "output_path": "src/topic_modeling_ran.ipynb",
   "parameters": {
    "load_path": "data/cleaned_gw_reviews.csv",
    "save_path": "data/topic_modelling_gw_reviews.csv"
   },
   "start_time": "2019-08-12T04:01:58.655345",
   "version": "1.0.1"
  }
 },
 "nbformat": 4,
 "nbformat_minor": 2
}