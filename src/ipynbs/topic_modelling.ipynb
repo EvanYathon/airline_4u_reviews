{
 "cells": [
  {
   "cell_type": "markdown",
   "metadata": {},
   "source": [
    "# Topic Modelling\n",
    "\n",
    "#### Evan Yathon\n",
    "\n",
    "This notebook is intended to be run with papermill from the project root.\n",
    "\n",
    "The purpose of this notebook is to process the review title and content to extract key phrases in each review.  Then key phrases will be used in a regression analysis to find out what is most important for a reviewer in recommending or not recommending the airline.\n",
    "\n",
    "Topic modelling using LDA will be the tool of choice.\n",
    "\n",
    "Usage:\n",
    "\n",
    "`papermill src/ipynbs/topic_modelling.ipynb -p`"
   ]
  },
  {
   "cell_type": "code",
   "execution_count": 2,
   "metadata": {
    "tags": [
     "parameters"
    ]
   },
   "outputs": [],
   "source": [
    "#parameters section for Papermill\n",
    "\n",
    "load_path = \"../../data/cleaned_gw_reviews.csv\""
   ]
  },
  {
   "cell_type": "code",
   "execution_count": 3,
   "metadata": {},
   "outputs": [],
   "source": [
    "# loading packages\n",
    "\n",
    "# utils\n",
    "import pandas as pd\n",
    "\n",
    "# NLP\n",
    "import spacy\n",
    "\n",
    "# display preference for ipynbs\n",
    "%matplotlib inline"
   ]
  },
  {
   "cell_type": "code",
   "execution_count": 4,
   "metadata": {},
   "outputs": [],
   "source": [
    "# ensure the dates are parsed correctly with parse_dates argument\n",
    "reviews = pd.read_csv(load_path, parse_dates = [\"date_of_review\", \"date_flown\"])"
   ]
  },
  {
   "cell_type": "code",
   "execution_count": 5,
   "metadata": {},
   "outputs": [
    {
     "data": {
      "text/html": [
       "<div>\n",
       "<style scoped>\n",
       "    .dataframe tbody tr th:only-of-type {\n",
       "        vertical-align: middle;\n",
       "    }\n",
       "\n",
       "    .dataframe tbody tr th {\n",
       "        vertical-align: top;\n",
       "    }\n",
       "\n",
       "    .dataframe thead th {\n",
       "        text-align: right;\n",
       "    }\n",
       "</style>\n",
       "<table border=\"1\" class=\"dataframe\">\n",
       "  <thead>\n",
       "    <tr style=\"text-align: right;\">\n",
       "      <th></th>\n",
       "      <th>title</th>\n",
       "      <th>review_value</th>\n",
       "      <th>n_user_reviews</th>\n",
       "      <th>reviewer_name</th>\n",
       "      <th>reviewer_country</th>\n",
       "      <th>date_of_review</th>\n",
       "      <th>review_text</th>\n",
       "      <th>aircraft</th>\n",
       "      <th>traveller_type</th>\n",
       "      <th>seat_type</th>\n",
       "      <th>route</th>\n",
       "      <th>date_flown</th>\n",
       "      <th>seat_comfort_rating</th>\n",
       "      <th>cabin_staff_service_rating</th>\n",
       "      <th>food_and_beverages_rating</th>\n",
       "      <th>inflight_entertainment_rating</th>\n",
       "      <th>ground_service_rating</th>\n",
       "      <th>value_for_money_rating</th>\n",
       "      <th>recommendation</th>\n",
       "    </tr>\n",
       "  </thead>\n",
       "  <tbody>\n",
       "    <tr>\n",
       "      <th>0</th>\n",
       "      <td>\"Seat was fine with enough legroom\"</td>\n",
       "      <td>7.0</td>\n",
       "      <td>8 reviews</td>\n",
       "      <td>Sander van Kan</td>\n",
       "      <td>Netherlands</td>\n",
       "      <td>2019-07-01</td>\n",
       "      <td>✅ Trip Verified | Dusseldorf to Berlin. Eurowi...</td>\n",
       "      <td>A319</td>\n",
       "      <td>Couple Leisure</td>\n",
       "      <td>Economy Class</td>\n",
       "      <td>Dusseldorf to Berlin</td>\n",
       "      <td>2019-06-01</td>\n",
       "      <td>4.0</td>\n",
       "      <td>3.0</td>\n",
       "      <td>NaN</td>\n",
       "      <td>1.0</td>\n",
       "      <td>3.0</td>\n",
       "      <td>5.0</td>\n",
       "      <td>yes</td>\n",
       "    </tr>\n",
       "    <tr>\n",
       "      <th>1</th>\n",
       "      <td>\"crew were smiling and good\"</td>\n",
       "      <td>6.0</td>\n",
       "      <td>8 reviews</td>\n",
       "      <td>Sander van Kan</td>\n",
       "      <td>Netherlands</td>\n",
       "      <td>2019-07-01</td>\n",
       "      <td>✅ Trip Verified | Berlin to Dusseldorf. Eurowi...</td>\n",
       "      <td>A319</td>\n",
       "      <td>Couple Leisure</td>\n",
       "      <td>Economy Class</td>\n",
       "      <td>Berlin to Dusseldorf</td>\n",
       "      <td>2019-06-01</td>\n",
       "      <td>3.0</td>\n",
       "      <td>3.0</td>\n",
       "      <td>NaN</td>\n",
       "      <td>1.0</td>\n",
       "      <td>3.0</td>\n",
       "      <td>5.0</td>\n",
       "      <td>yes</td>\n",
       "    </tr>\n",
       "    <tr>\n",
       "      <th>2</th>\n",
       "      <td>\"only two agents available\"</td>\n",
       "      <td>1.0</td>\n",
       "      <td>6 reviews</td>\n",
       "      <td>Andrew Maynard</td>\n",
       "      <td>United Kingdom</td>\n",
       "      <td>2017-01-04</td>\n",
       "      <td>Check in process at Cologne very poor. Flight ...</td>\n",
       "      <td>NaN</td>\n",
       "      <td>Couple Leisure</td>\n",
       "      <td>Economy Class</td>\n",
       "      <td>CGN to MAN</td>\n",
       "      <td>2017-01-01</td>\n",
       "      <td>2.0</td>\n",
       "      <td>2.0</td>\n",
       "      <td>NaN</td>\n",
       "      <td>NaN</td>\n",
       "      <td>1.0</td>\n",
       "      <td>2.0</td>\n",
       "      <td>no</td>\n",
       "    </tr>\n",
       "    <tr>\n",
       "      <th>3</th>\n",
       "      <td>\"good flight and friendly staff\"</td>\n",
       "      <td>7.0</td>\n",
       "      <td>1 reviews</td>\n",
       "      <td>T Steen</td>\n",
       "      <td>Netherlands</td>\n",
       "      <td>2016-09-13</td>\n",
       "      <td>✅ Verified Review |  Amsterdam to Stuttgart. G...</td>\n",
       "      <td>NaN</td>\n",
       "      <td>Business</td>\n",
       "      <td>Economy Class</td>\n",
       "      <td>AMS to STR</td>\n",
       "      <td>2016-09-01</td>\n",
       "      <td>5.0</td>\n",
       "      <td>5.0</td>\n",
       "      <td>1.0</td>\n",
       "      <td>NaN</td>\n",
       "      <td>5.0</td>\n",
       "      <td>5.0</td>\n",
       "      <td>yes</td>\n",
       "    </tr>\n",
       "    <tr>\n",
       "      <th>4</th>\n",
       "      <td>\"never been treated as badly\"</td>\n",
       "      <td>1.0</td>\n",
       "      <td>NaN</td>\n",
       "      <td>Karen Kirner</td>\n",
       "      <td>Austria</td>\n",
       "      <td>2016-08-16</td>\n",
       "      <td>✅ Verified Review |  I have been a frequent tr...</td>\n",
       "      <td>NaN</td>\n",
       "      <td>Business</td>\n",
       "      <td>Economy Class</td>\n",
       "      <td>DUS to VIE</td>\n",
       "      <td>2016-08-01</td>\n",
       "      <td>1.0</td>\n",
       "      <td>1.0</td>\n",
       "      <td>NaN</td>\n",
       "      <td>NaN</td>\n",
       "      <td>3.0</td>\n",
       "      <td>1.0</td>\n",
       "      <td>no</td>\n",
       "    </tr>\n",
       "  </tbody>\n",
       "</table>\n",
       "</div>"
      ],
      "text/plain": [
       "                                 title  review_value n_user_reviews  \\\n",
       "0  \"Seat was fine with enough legroom\"           7.0      8 reviews   \n",
       "1         \"crew were smiling and good\"           6.0      8 reviews   \n",
       "2          \"only two agents available\"           1.0      6 reviews   \n",
       "3     \"good flight and friendly staff\"           7.0      1 reviews   \n",
       "4        \"never been treated as badly\"           1.0            NaN   \n",
       "\n",
       "     reviewer_name reviewer_country date_of_review  \\\n",
       "0   Sander van Kan      Netherlands     2019-07-01   \n",
       "1   Sander van Kan      Netherlands     2019-07-01   \n",
       "2  Andrew Maynard    United Kingdom     2017-01-04   \n",
       "3          T Steen      Netherlands     2016-09-13   \n",
       "4     Karen Kirner          Austria     2016-08-16   \n",
       "\n",
       "                                         review_text aircraft  traveller_type  \\\n",
       "0  ✅ Trip Verified | Dusseldorf to Berlin. Eurowi...     A319  Couple Leisure   \n",
       "1  ✅ Trip Verified | Berlin to Dusseldorf. Eurowi...     A319  Couple Leisure   \n",
       "2  Check in process at Cologne very poor. Flight ...      NaN  Couple Leisure   \n",
       "3  ✅ Verified Review |  Amsterdam to Stuttgart. G...      NaN        Business   \n",
       "4  ✅ Verified Review |  I have been a frequent tr...      NaN        Business   \n",
       "\n",
       "       seat_type                 route date_flown  seat_comfort_rating  \\\n",
       "0  Economy Class  Dusseldorf to Berlin 2019-06-01                  4.0   \n",
       "1  Economy Class  Berlin to Dusseldorf 2019-06-01                  3.0   \n",
       "2  Economy Class            CGN to MAN 2017-01-01                  2.0   \n",
       "3  Economy Class            AMS to STR 2016-09-01                  5.0   \n",
       "4  Economy Class            DUS to VIE 2016-08-01                  1.0   \n",
       "\n",
       "   cabin_staff_service_rating  food_and_beverages_rating  \\\n",
       "0                         3.0                        NaN   \n",
       "1                         3.0                        NaN   \n",
       "2                         2.0                        NaN   \n",
       "3                         5.0                        1.0   \n",
       "4                         1.0                        NaN   \n",
       "\n",
       "   inflight_entertainment_rating  ground_service_rating  \\\n",
       "0                            1.0                    3.0   \n",
       "1                            1.0                    3.0   \n",
       "2                            NaN                    1.0   \n",
       "3                            NaN                    5.0   \n",
       "4                            NaN                    3.0   \n",
       "\n",
       "   value_for_money_rating recommendation  \n",
       "0                     5.0            yes  \n",
       "1                     5.0            yes  \n",
       "2                     2.0             no  \n",
       "3                     5.0            yes  \n",
       "4                     1.0             no  "
      ]
     },
     "execution_count": 5,
     "metadata": {},
     "output_type": "execute_result"
    }
   ],
   "source": [
    "reviews.head()"
   ]
  },
  {
   "cell_type": "markdown",
   "metadata": {},
   "source": [
    "### Topic Modelling - Preprocessing\n",
    "\n",
    "Prior to LDA, preprocessing of the text is necessary.  We need to:\n",
    "- Tokenize each document (review)\n",
    "- Minimum token length\n",
    "- Remove stopwords\n",
    "- Lemmatize\n",
    "- Consider only specific parts of speech (nouns, verbs etc.)\n",
    "\n",
    "Use [`spaCy`](https://spacy.io/) for this."
   ]
  },
  {
   "cell_type": "code",
   "execution_count": null,
   "metadata": {},
   "outputs": [],
   "source": [
    "# load the english spacy model\n",
    "eng_nlp = spacy.load(\"en\")"
   ]
  },
  {
   "cell_type": "code",
   "execution_count": 9,
   "metadata": {},
   "outputs": [
    {
     "name": "stdout",
     "output_type": "stream",
     "text": [
      "✅ Trip Verified | Dusseldorf to Berlin. Eurowings flight operated by Germanwings EW9050. Flight had a slight delay of 15 minutes. Flight was smooth and good. Seat was fine with enough legroom. Food and drinks for puchase, crew was just average.\n"
     ]
    }
   ],
   "source": [
    "print(reviews[\"review_text\"][0])"
   ]
  },
  {
   "cell_type": "code",
   "execution_count": 6,
   "metadata": {},
   "outputs": [
    {
     "ename": "SyntaxError",
     "evalue": "invalid syntax (<ipython-input-6-6d0333f60b73>, line 3)",
     "output_type": "error",
     "traceback": [
      "\u001b[1;36m  File \u001b[1;32m\"<ipython-input-6-6d0333f60b73>\"\u001b[1;36m, line \u001b[1;32m3\u001b[0m\n\u001b[1;33m    def preprocess(text, min_token_len = 2, relevant_pos = [])\u001b[0m\n\u001b[1;37m                                                              ^\u001b[0m\n\u001b[1;31mSyntaxError\u001b[0m\u001b[1;31m:\u001b[0m invalid syntax\n"
     ]
    }
   ],
   "source": [
    "# create a function to preprocess the reviews and review titles\n",
    "\n",
    "def preprocess(text, min_token_len = 2, relevant_pos = [\"\"]):"
   ]
  },
  {
   "cell_type": "code",
   "execution_count": null,
   "metadata": {},
   "outputs": [],
   "source": []
  }
 ],
 "metadata": {
  "celltoolbar": "Tags",
  "kernelspec": {
   "display_name": "Python 3",
   "language": "python",
   "name": "python3"
  },
  "language_info": {
   "codemirror_mode": {
    "name": "ipython",
    "version": 3
   },
   "file_extension": ".py",
   "mimetype": "text/x-python",
   "name": "python",
   "nbconvert_exporter": "python",
   "pygments_lexer": "ipython3",
   "version": "3.6.8"
  }
 },
 "nbformat": 4,
 "nbformat_minor": 2
}
