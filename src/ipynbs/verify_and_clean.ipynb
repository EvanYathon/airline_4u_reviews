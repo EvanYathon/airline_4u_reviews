{
 "cells": [
  {
   "cell_type": "markdown",
   "metadata": {},
   "source": [
    "This notebook will load the scraped data, verify that all of the reviews scraped are in the original dataset, and then clean up the columns for use in analyis later."
   ]
  },
  {
   "cell_type": "code",
   "execution_count": 4,
   "metadata": {},
   "outputs": [],
   "source": [
    "# loading packages\n",
    "\n",
    "# utils\n",
    "import pandas as pd\n",
    "import time"
   ]
  },
  {
   "cell_type": "code",
   "execution_count": 5,
   "metadata": {},
   "outputs": [],
   "source": [
    "# ensure the dates are parsed correctly with parse_dates argument\n",
    "'reviews = pd.read_csv(\"../../data/scraped_gw_reviews.csv\", parse_dates = [\"date_of_review\", \"date_flown\"])"
   ]
  },
  {
   "cell_type": "code",
   "execution_count": 40,
   "metadata": {},
   "outputs": [
    {
     "data": {
      "text/html": [
       "<div>\n",
       "<style scoped>\n",
       "    .dataframe tbody tr th:only-of-type {\n",
       "        vertical-align: middle;\n",
       "    }\n",
       "\n",
       "    .dataframe tbody tr th {\n",
       "        vertical-align: top;\n",
       "    }\n",
       "\n",
       "    .dataframe thead th {\n",
       "        text-align: right;\n",
       "    }\n",
       "</style>\n",
       "<table border=\"1\" class=\"dataframe\">\n",
       "  <thead>\n",
       "    <tr style=\"text-align: right;\">\n",
       "      <th></th>\n",
       "      <th>title</th>\n",
       "      <th>review_value</th>\n",
       "      <th>n_user_reviews</th>\n",
       "      <th>reviewer_name</th>\n",
       "      <th>reviewer_country</th>\n",
       "      <th>date_of_review</th>\n",
       "      <th>review_text</th>\n",
       "      <th>aircraft</th>\n",
       "      <th>traveller_type</th>\n",
       "      <th>seat_type</th>\n",
       "      <th>route</th>\n",
       "      <th>date_flown</th>\n",
       "      <th>seat_comfort_rating</th>\n",
       "      <th>cabin_staff_service_rating</th>\n",
       "      <th>food_and_beverages_rating</th>\n",
       "      <th>inflight_entertainment_rating</th>\n",
       "      <th>ground_service_rating</th>\n",
       "      <th>value_for_money_rating</th>\n",
       "      <th>recommendation</th>\n",
       "    </tr>\n",
       "  </thead>\n",
       "  <tbody>\n",
       "    <tr>\n",
       "      <th>0</th>\n",
       "      <td>\"Seat was fine with enough legroom\"</td>\n",
       "      <td>7.0</td>\n",
       "      <td>8 reviews</td>\n",
       "      <td>Sander van Kan</td>\n",
       "      <td>\\n\\n8 reviews\\n\\n\\n\\nSander van Kan (Netherlan...</td>\n",
       "      <td>2019-07-01</td>\n",
       "      <td>✅ Trip Verified | Dusseldorf to Berlin. Eurowi...</td>\n",
       "      <td>A319</td>\n",
       "      <td>Couple Leisure</td>\n",
       "      <td>Economy Class</td>\n",
       "      <td>Dusseldorf to Berlin</td>\n",
       "      <td>2019-06-01</td>\n",
       "      <td>4.0</td>\n",
       "      <td>3.0</td>\n",
       "      <td>NaN</td>\n",
       "      <td>1.0</td>\n",
       "      <td>3.0</td>\n",
       "      <td>5.0</td>\n",
       "      <td>yes</td>\n",
       "    </tr>\n",
       "    <tr>\n",
       "      <th>1</th>\n",
       "      <td>\"crew were smiling and good\"</td>\n",
       "      <td>6.0</td>\n",
       "      <td>8 reviews</td>\n",
       "      <td>Sander van Kan</td>\n",
       "      <td>\\n\\n8 reviews\\n\\n\\n\\nSander van Kan (Netherlan...</td>\n",
       "      <td>2019-07-01</td>\n",
       "      <td>✅ Trip Verified | Berlin to Dusseldorf. Eurowi...</td>\n",
       "      <td>A319</td>\n",
       "      <td>Couple Leisure</td>\n",
       "      <td>Economy Class</td>\n",
       "      <td>Berlin to Dusseldorf</td>\n",
       "      <td>2019-06-01</td>\n",
       "      <td>3.0</td>\n",
       "      <td>3.0</td>\n",
       "      <td>NaN</td>\n",
       "      <td>1.0</td>\n",
       "      <td>3.0</td>\n",
       "      <td>5.0</td>\n",
       "      <td>yes</td>\n",
       "    </tr>\n",
       "    <tr>\n",
       "      <th>2</th>\n",
       "      <td>\"only two agents available\"</td>\n",
       "      <td>1.0</td>\n",
       "      <td>6 reviews</td>\n",
       "      <td>Andrew Maynard</td>\n",
       "      <td>\\n\\n6 reviews\\n\\n\\n\\nAndrew Maynard  (United K...</td>\n",
       "      <td>2017-01-04</td>\n",
       "      <td>Check in process at Cologne very poor. Flight ...</td>\n",
       "      <td>NaN</td>\n",
       "      <td>Couple Leisure</td>\n",
       "      <td>Economy Class</td>\n",
       "      <td>CGN to MAN</td>\n",
       "      <td>2017-01-01</td>\n",
       "      <td>2.0</td>\n",
       "      <td>2.0</td>\n",
       "      <td>NaN</td>\n",
       "      <td>NaN</td>\n",
       "      <td>1.0</td>\n",
       "      <td>2.0</td>\n",
       "      <td>no</td>\n",
       "    </tr>\n",
       "    <tr>\n",
       "      <th>3</th>\n",
       "      <td>\"good flight and friendly staff\"</td>\n",
       "      <td>7.0</td>\n",
       "      <td>1 reviews</td>\n",
       "      <td>T Steen</td>\n",
       "      <td>\\n\\n1 reviews\\n\\n\\n\\nT Steen (Netherlands) 13t...</td>\n",
       "      <td>2016-09-13</td>\n",
       "      <td>✅ Verified Review |  Amsterdam to Stuttgart. G...</td>\n",
       "      <td>NaN</td>\n",
       "      <td>Business</td>\n",
       "      <td>Economy Class</td>\n",
       "      <td>AMS to STR</td>\n",
       "      <td>2016-09-01</td>\n",
       "      <td>5.0</td>\n",
       "      <td>5.0</td>\n",
       "      <td>1.0</td>\n",
       "      <td>NaN</td>\n",
       "      <td>5.0</td>\n",
       "      <td>5.0</td>\n",
       "      <td>yes</td>\n",
       "    </tr>\n",
       "    <tr>\n",
       "      <th>4</th>\n",
       "      <td>\"never been treated as badly\"</td>\n",
       "      <td>1.0</td>\n",
       "      <td>NaN</td>\n",
       "      <td>Karen Kirner</td>\n",
       "      <td>\\n\\nKaren Kirner (Austria) 16th August 2016</td>\n",
       "      <td>2016-08-16</td>\n",
       "      <td>✅ Verified Review |  I have been a frequent tr...</td>\n",
       "      <td>NaN</td>\n",
       "      <td>Business</td>\n",
       "      <td>Economy Class</td>\n",
       "      <td>DUS to VIE</td>\n",
       "      <td>2016-08-01</td>\n",
       "      <td>1.0</td>\n",
       "      <td>1.0</td>\n",
       "      <td>NaN</td>\n",
       "      <td>NaN</td>\n",
       "      <td>3.0</td>\n",
       "      <td>1.0</td>\n",
       "      <td>no</td>\n",
       "    </tr>\n",
       "  </tbody>\n",
       "</table>\n",
       "</div>"
      ],
      "text/plain": [
       "                                 title  review_value n_user_reviews  \\\n",
       "0  \"Seat was fine with enough legroom\"           7.0      8 reviews   \n",
       "1         \"crew were smiling and good\"           6.0      8 reviews   \n",
       "2          \"only two agents available\"           1.0      6 reviews   \n",
       "3     \"good flight and friendly staff\"           7.0      1 reviews   \n",
       "4        \"never been treated as badly\"           1.0            NaN   \n",
       "\n",
       "     reviewer_name                                   reviewer_country  \\\n",
       "0   Sander van Kan  \\n\\n8 reviews\\n\\n\\n\\nSander van Kan (Netherlan...   \n",
       "1   Sander van Kan  \\n\\n8 reviews\\n\\n\\n\\nSander van Kan (Netherlan...   \n",
       "2  Andrew Maynard   \\n\\n6 reviews\\n\\n\\n\\nAndrew Maynard  (United K...   \n",
       "3          T Steen  \\n\\n1 reviews\\n\\n\\n\\nT Steen (Netherlands) 13t...   \n",
       "4     Karen Kirner        \\n\\nKaren Kirner (Austria) 16th August 2016   \n",
       "\n",
       "  date_of_review                                        review_text aircraft  \\\n",
       "0     2019-07-01  ✅ Trip Verified | Dusseldorf to Berlin. Eurowi...     A319   \n",
       "1     2019-07-01  ✅ Trip Verified | Berlin to Dusseldorf. Eurowi...     A319   \n",
       "2     2017-01-04  Check in process at Cologne very poor. Flight ...      NaN   \n",
       "3     2016-09-13  ✅ Verified Review |  Amsterdam to Stuttgart. G...      NaN   \n",
       "4     2016-08-16  ✅ Verified Review |  I have been a frequent tr...      NaN   \n",
       "\n",
       "   traveller_type      seat_type                 route date_flown  \\\n",
       "0  Couple Leisure  Economy Class  Dusseldorf to Berlin 2019-06-01   \n",
       "1  Couple Leisure  Economy Class  Berlin to Dusseldorf 2019-06-01   \n",
       "2  Couple Leisure  Economy Class            CGN to MAN 2017-01-01   \n",
       "3        Business  Economy Class            AMS to STR 2016-09-01   \n",
       "4        Business  Economy Class            DUS to VIE 2016-08-01   \n",
       "\n",
       "   seat_comfort_rating  cabin_staff_service_rating  food_and_beverages_rating  \\\n",
       "0                  4.0                         3.0                        NaN   \n",
       "1                  3.0                         3.0                        NaN   \n",
       "2                  2.0                         2.0                        NaN   \n",
       "3                  5.0                         5.0                        1.0   \n",
       "4                  1.0                         1.0                        NaN   \n",
       "\n",
       "   inflight_entertainment_rating  ground_service_rating  \\\n",
       "0                            1.0                    3.0   \n",
       "1                            1.0                    3.0   \n",
       "2                            NaN                    1.0   \n",
       "3                            NaN                    5.0   \n",
       "4                            NaN                    3.0   \n",
       "\n",
       "   value_for_money_rating recommendation  \n",
       "0                     5.0            yes  \n",
       "1                     5.0            yes  \n",
       "2                     2.0             no  \n",
       "3                     5.0            yes  \n",
       "4                     1.0             no  "
      ]
     },
     "execution_count": 40,
     "metadata": {},
     "output_type": "execute_result"
    }
   ],
   "source": [
    "reviews.head()"
   ]
  },
  {
   "cell_type": "code",
   "execution_count": 7,
   "metadata": {},
   "outputs": [
    {
     "data": {
      "text/plain": [
       "title                                    object\n",
       "review_value                            float64\n",
       "n_user_reviews                           object\n",
       "reviewer_name                            object\n",
       "reviewer_country                         object\n",
       "date_of_review                   datetime64[ns]\n",
       "review_text                              object\n",
       "aircraft                                 object\n",
       "traveller_type                           object\n",
       "seat_type                                object\n",
       "route                                    object\n",
       "date_flown                       datetime64[ns]\n",
       "seat_comfort_rating                     float64\n",
       "cabin_staff_service_rating              float64\n",
       "food_and_beverages_rating               float64\n",
       "inflight_entertainment_rating           float64\n",
       "ground_service_rating                   float64\n",
       "value_for_money_rating                  float64\n",
       "recommendation                           object\n",
       "dtype: object"
      ]
     },
     "execution_count": 7,
     "metadata": {},
     "output_type": "execute_result"
    }
   ],
   "source": [
    "# check what column types we are working with\n",
    "reviews.dtypes"
   ]
  },
  {
   "cell_type": "markdown",
   "metadata": {},
   "source": [
    "#### Verifying that all reviews are in original dataset"
   ]
  },
  {
   "cell_type": "code",
   "execution_count": 8,
   "metadata": {},
   "outputs": [],
   "source": [
    "# load the original dataset\n",
    "\n",
    "f = open(\"../../data/given_4U_reviews.txt\")\n",
    "orig_reviews = f.read()\n",
    "f.close()"
   ]
  },
  {
   "cell_type": "code",
   "execution_count": 14,
   "metadata": {},
   "outputs": [
    {
     "name": "stdout",
     "output_type": "stream",
     "text": [
      "2019-07-01 00:00:00  :  \"Seat was fine with enough legroom\" \n",
      "\n",
      "2019-07-01 00:00:00  :  \"crew were smiling and good\" \n",
      "\n",
      "2017-01-04 00:00:00  :  \"only two agents available\" \n",
      "\n",
      "2016-09-13 00:00:00  :  \"good flight and friendly staff\" \n",
      "\n",
      "2016-08-16 00:00:00  :  \"never been treated as badly\" \n",
      "\n",
      "2016-05-11 00:00:00  :  \"very cramped\" \n",
      "\n",
      "2016-04-11 00:00:00  :  \"staff were friendly\" \n",
      "\n",
      "2016-02-08 00:00:00  :  PLEASE REFER TO EUROWINGS \n",
      "\n",
      "2016-01-23 00:00:00  :  \"great value for money\" \n",
      "\n",
      "2016-01-21 00:00:00  :  \"pay very little money\" \n",
      "\n",
      "2015-12-22 00:00:00  :  \"friendly and professional\" \n",
      "\n",
      "2015-12-07 00:00:00  :  \"little choice of airline\" \n",
      "\n",
      "2015-11-16 00:00:00  :  \"were very satisfied\" \n",
      "\n",
      "2015-11-03 00:00:00  :  \"no info or staff\" \n",
      "\n",
      "2015-10-27 00:00:00  :  \"cabin crew were very friendly\" \n",
      "\n",
      "2015-10-21 00:00:00  :  \"professional cabin crew\" \n",
      "\n",
      "2015-10-21 00:00:00  :  \"friendly cabin staff\" \n",
      "\n",
      "2015-10-15 00:00:00  :  \"impressed with Germanwings\" \n",
      "\n",
      "2015-09-14 00:00:00  :  \"I don't get why Germanwings is always late\" \n",
      "\n",
      "2015-09-09 00:00:00  :  \"vowing never to book Germanwings again\" \n",
      "\n",
      "2015-09-09 00:00:00  :  \"staff friendly - food terrible\" \n",
      "\n",
      "2015-09-06 00:00:00  :  \"no explanations, no offers of help\" \n",
      "\n",
      "2015-08-15 00:00:00  :  Germanwings customer review \n",
      "\n",
      "2015-06-19 00:00:00  :  Germanwings customer review \n",
      "\n"
     ]
    }
   ],
   "source": [
    "# check to make sure that all our extracted reviews are in the original dataset\n",
    "#\n",
    "# note that the last review in the given reviews was from 16th October 2015, \n",
    "# so there will be some extra reviews\n",
    "#\n",
    "# print the date and title of the review if it is not found in the original reviews\n",
    "\n",
    "for count, review in enumerate(reviews[\"review_text\"]):\n",
    "    if review not in orig_reviews:\n",
    "        print(reviews[\"date_of_review\"][count],\" : \", reviews[\"title\"][count],\"\\n\")"
   ]
  },
  {
   "cell_type": "markdown",
   "metadata": {},
   "source": [
    "Most of these reviews are after 16th October 2016, so we know that it is mostly good.  But there are 7 reviews at the bottom that should be showing up as in the scraped dataset.  Let's look at the `2015-09-09 00:00:00  :  \"staff friendly - food terrible\"` entry."
   ]
  },
  {
   "cell_type": "code",
   "execution_count": 42,
   "metadata": {},
   "outputs": [
    {
     "name": "stdout",
     "output_type": "stream",
     "text": [
      "\"staff friendly - food terrible\"\n",
      "Jay Martin (Germany) 9th September 2015\n",
      "7\n",
      "Easy Check-In at Düsseldorf. The Germanwings flight was on time. Seats good for a low-cost airline. The food was terrible and expensive. The normal Ticket price excludes luggage, and for including luggage check-in you have to pay extra money. Staff were friendly.\n",
      "Type Of Traveller\tSolo Leisure\n",
      "Cabin Flown\tEconomy\n",
      "Route\tDüsseldorf to London\n",
      "Date Flown\tAugust 2015\n",
      "Seat Comfort\t12345\n",
      "Cabin Staff Service\t12345\n",
      "Food & Beverages\t12345\n",
      "Inflight Entertainment\t12345\n",
      "Ground Service\t12345\n",
      "Wifi & Connectivity\t12345\n",
      "Value For Money\t12345\n",
      "Recommended\tyes\n"
     ]
    }
   ],
   "source": [
    "# the original review copied from the given text file\n",
    "review_from_given_txt = \"\"\"\"staff friendly - food terrible\"\n",
    "Jay Martin (Germany) 9th September 2015\n",
    "7\n",
    "Easy Check-In at Düsseldorf. The Germanwings flight was on time. Seats good for a low-cost airline. The food was terrible and expensive. The normal Ticket price excludes luggage, and for including luggage check-in you have to pay extra money. Staff were friendly.\n",
    "Type Of Traveller\tSolo Leisure\n",
    "Cabin Flown\tEconomy\n",
    "Route\tDüsseldorf to London\n",
    "Date Flown\tAugust 2015\n",
    "Seat Comfort\t12345\n",
    "Cabin Staff Service\t12345\n",
    "Food & Beverages\t12345\n",
    "Inflight Entertainment\t12345\n",
    "Ground Service\t12345\n",
    "Wifi & Connectivity\t12345\n",
    "Value For Money\t12345\n",
    "Recommended\tyes\"\"\"\n",
    "print(review_from_given_txt)"
   ]
  },
  {
   "cell_type": "code",
   "execution_count": 64,
   "metadata": {},
   "outputs": [
    {
     "data": {
      "text/plain": [
       "'Easy Check-In at Düsseldorf. The Germanwings flight was on  time. Seats good for a low-cost airline. The food was terrible and expensive. The normal Ticket price excludes luggage, and for including luggage check-in you have to pay extra money. Staff were friendly.'"
      ]
     },
     "execution_count": 64,
     "metadata": {},
     "output_type": "execute_result"
    }
   ],
   "source": [
    "# get the review from the scraped dataset\n",
    "reviews[\"review_text\"][reviews[\"title\"].str.contains(\"staff friendly - food terrible\")].values[0]"
   ]
  },
  {
   "cell_type": "markdown",
   "metadata": {},
   "source": [
    "The two reviews are identical, but there is likely some hidden formatting messing things up.  \n",
    "\n",
    "I verified that the other 6 reviews were also the same, and with that am confident that my dataset has the same content with additional information compared to the provided one."
   ]
  },
  {
   "cell_type": "code",
   "execution_count": null,
   "metadata": {},
   "outputs": [],
   "source": []
  }
 ],
 "metadata": {
  "kernelspec": {
   "display_name": "Python 3",
   "language": "python",
   "name": "python3"
  },
  "language_info": {
   "codemirror_mode": {
    "name": "ipython",
    "version": 3
   },
   "file_extension": ".py",
   "mimetype": "text/x-python",
   "name": "python",
   "nbconvert_exporter": "python",
   "pygments_lexer": "ipython3",
   "version": "3.6.8"
  }
 },
 "nbformat": 4,
 "nbformat_minor": 2
}
