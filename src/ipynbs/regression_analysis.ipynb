{
 "cells": [
  {
   "cell_type": "markdown",
   "metadata": {},
   "source": [
    "# Regression Analysis\n",
    "\n",
    "#### Evan Yathon\n",
    "\n",
    "This notebook is intended to be run with papermill from the project root.\n",
    "\n",
    "The purpose of this notebook is to run a logistic regression analysis on the cleaned reviews data.  Trying to identify contributing factors to a customer recommending an airline or not given that they have submitted a review is the central theme.\n",
    "\n",
    "Usage:\n",
    "\n",
    "`papermill src/ipynbs/regression_analysis.ipynb src/regression_analysis_ran.ipynb -p load_path data/topic_modeling_gw_reviews.csv`"
   ]
  },
  {
   "cell_type": "code",
   "execution_count": 1,
   "metadata": {
    "tags": [
     "parameters"
    ]
   },
   "outputs": [],
   "source": [
    "load_path = \"../../data/topic_modeling_gw_reviews.csv\""
   ]
  },
  {
   "cell_type": "code",
   "execution_count": 2,
   "metadata": {},
   "outputs": [],
   "source": [
    "# load packages\n",
    "\n",
    "# utils\n",
    "import pandas as pd\n",
    "import sys\n",
    "\n",
    "# regression\n",
    "from sklearn.linear_model import LogisticRegression\n",
    "\n",
    "# regression utils\n",
    "# custom model preparation script\n",
    "sys.path.append(\"../../src\")\n",
    "sys.path.append(\"./src\")\n",
    "from PrepareForModel import *"
   ]
  },
  {
   "cell_type": "code",
   "execution_count": 3,
   "metadata": {},
   "outputs": [],
   "source": [
    "reviews = pd.read_csv(load_path, parse_dates = [\"date_of_review\", \"date_flown\"])"
   ]
  },
  {
   "cell_type": "markdown",
   "metadata": {},
   "source": [
    "### Regression Prep\n",
    "\n",
    "Before running the regression analysis, a few things need to be done.\n",
    "\n",
    "- Remove dates after the transfer to Eurowings\n",
    "- Drop columns that have large amount of `NA` values or don't make sense to include in the analysis\n",
    "- Deal with `NA` values\n",
    "- Encode categorical columns"
   ]
  },
  {
   "cell_type": "markdown",
   "metadata": {},
   "source": [
    "Remove dates after `8th February 2016` as Germanwings was transferred to Eurowings (as found in the EDA notebook)."
   ]
  },
  {
   "cell_type": "code",
   "execution_count": 4,
   "metadata": {},
   "outputs": [],
   "source": [
    "reviews_regr = reviews[reviews[\"date_of_review\"] < \"2016-02-08\"]"
   ]
  },
  {
   "cell_type": "markdown",
   "metadata": {},
   "source": [
    "Check column types and percentage of NA values"
   ]
  },
  {
   "cell_type": "code",
   "execution_count": 5,
   "metadata": {},
   "outputs": [
    {
     "data": {
      "text/html": [
       "<div>\n",
       "<style scoped>\n",
       "    .dataframe tbody tr th:only-of-type {\n",
       "        vertical-align: middle;\n",
       "    }\n",
       "\n",
       "    .dataframe tbody tr th {\n",
       "        vertical-align: top;\n",
       "    }\n",
       "\n",
       "    .dataframe thead th {\n",
       "        text-align: right;\n",
       "    }\n",
       "</style>\n",
       "<table border=\"1\" class=\"dataframe\">\n",
       "  <thead>\n",
       "    <tr style=\"text-align: right;\">\n",
       "      <th></th>\n",
       "      <th>data_type</th>\n",
       "      <th>precent_na</th>\n",
       "    </tr>\n",
       "  </thead>\n",
       "  <tbody>\n",
       "    <tr>\n",
       "      <th>title</th>\n",
       "      <td>object</td>\n",
       "      <td>0.000000</td>\n",
       "    </tr>\n",
       "    <tr>\n",
       "      <th>review_value</th>\n",
       "      <td>float64</td>\n",
       "      <td>9.420290</td>\n",
       "    </tr>\n",
       "    <tr>\n",
       "      <th>n_user_reviews</th>\n",
       "      <td>object</td>\n",
       "      <td>92.753623</td>\n",
       "    </tr>\n",
       "    <tr>\n",
       "      <th>reviewer_name</th>\n",
       "      <td>object</td>\n",
       "      <td>0.000000</td>\n",
       "    </tr>\n",
       "    <tr>\n",
       "      <th>reviewer_country</th>\n",
       "      <td>object</td>\n",
       "      <td>9.420290</td>\n",
       "    </tr>\n",
       "    <tr>\n",
       "      <th>date_of_review</th>\n",
       "      <td>datetime64[ns]</td>\n",
       "      <td>0.000000</td>\n",
       "    </tr>\n",
       "    <tr>\n",
       "      <th>review_text</th>\n",
       "      <td>object</td>\n",
       "      <td>0.000000</td>\n",
       "    </tr>\n",
       "    <tr>\n",
       "      <th>aircraft</th>\n",
       "      <td>object</td>\n",
       "      <td>91.304348</td>\n",
       "    </tr>\n",
       "    <tr>\n",
       "      <th>traveller_type</th>\n",
       "      <td>object</td>\n",
       "      <td>82.608696</td>\n",
       "    </tr>\n",
       "    <tr>\n",
       "      <th>seat_type</th>\n",
       "      <td>object</td>\n",
       "      <td>10.144928</td>\n",
       "    </tr>\n",
       "    <tr>\n",
       "      <th>route</th>\n",
       "      <td>object</td>\n",
       "      <td>82.608696</td>\n",
       "    </tr>\n",
       "    <tr>\n",
       "      <th>date_flown</th>\n",
       "      <td>datetime64[ns]</td>\n",
       "      <td>82.608696</td>\n",
       "    </tr>\n",
       "    <tr>\n",
       "      <th>seat_comfort_rating</th>\n",
       "      <td>float64</td>\n",
       "      <td>34.057971</td>\n",
       "    </tr>\n",
       "    <tr>\n",
       "      <th>cabin_staff_service_rating</th>\n",
       "      <td>float64</td>\n",
       "      <td>34.057971</td>\n",
       "    </tr>\n",
       "    <tr>\n",
       "      <th>food_and_beverages_rating</th>\n",
       "      <td>float64</td>\n",
       "      <td>36.231884</td>\n",
       "    </tr>\n",
       "    <tr>\n",
       "      <th>inflight_entertainment_rating</th>\n",
       "      <td>float64</td>\n",
       "      <td>46.376812</td>\n",
       "    </tr>\n",
       "    <tr>\n",
       "      <th>ground_service_rating</th>\n",
       "      <td>float64</td>\n",
       "      <td>82.608696</td>\n",
       "    </tr>\n",
       "    <tr>\n",
       "      <th>value_for_money_rating</th>\n",
       "      <td>float64</td>\n",
       "      <td>9.420290</td>\n",
       "    </tr>\n",
       "    <tr>\n",
       "      <th>recommendation</th>\n",
       "      <td>object</td>\n",
       "      <td>0.000000</td>\n",
       "    </tr>\n",
       "    <tr>\n",
       "      <th>clean_review_text</th>\n",
       "      <td>object</td>\n",
       "      <td>0.000000</td>\n",
       "    </tr>\n",
       "    <tr>\n",
       "      <th>clean_title</th>\n",
       "      <td>object</td>\n",
       "      <td>0.000000</td>\n",
       "    </tr>\n",
       "    <tr>\n",
       "      <th>review_luggage_seats</th>\n",
       "      <td>float64</td>\n",
       "      <td>0.000000</td>\n",
       "    </tr>\n",
       "    <tr>\n",
       "      <th>review_time_delays</th>\n",
       "      <td>float64</td>\n",
       "      <td>0.000000</td>\n",
       "    </tr>\n",
       "    <tr>\n",
       "      <th>review_food_bev_crew</th>\n",
       "      <td>float64</td>\n",
       "      <td>0.000000</td>\n",
       "    </tr>\n",
       "    <tr>\n",
       "      <th>title_money_value</th>\n",
       "      <td>float64</td>\n",
       "      <td>0.000000</td>\n",
       "    </tr>\n",
       "    <tr>\n",
       "      <th>title_staff_delays</th>\n",
       "      <td>float64</td>\n",
       "      <td>0.000000</td>\n",
       "    </tr>\n",
       "  </tbody>\n",
       "</table>\n",
       "</div>"
      ],
      "text/plain": [
       "                                    data_type  precent_na\n",
       "title                                  object    0.000000\n",
       "review_value                          float64    9.420290\n",
       "n_user_reviews                         object   92.753623\n",
       "reviewer_name                          object    0.000000\n",
       "reviewer_country                       object    9.420290\n",
       "date_of_review                 datetime64[ns]    0.000000\n",
       "review_text                            object    0.000000\n",
       "aircraft                               object   91.304348\n",
       "traveller_type                         object   82.608696\n",
       "seat_type                              object   10.144928\n",
       "route                                  object   82.608696\n",
       "date_flown                     datetime64[ns]   82.608696\n",
       "seat_comfort_rating                   float64   34.057971\n",
       "cabin_staff_service_rating            float64   34.057971\n",
       "food_and_beverages_rating             float64   36.231884\n",
       "inflight_entertainment_rating         float64   46.376812\n",
       "ground_service_rating                 float64   82.608696\n",
       "value_for_money_rating                float64    9.420290\n",
       "recommendation                         object    0.000000\n",
       "clean_review_text                      object    0.000000\n",
       "clean_title                            object    0.000000\n",
       "review_luggage_seats                  float64    0.000000\n",
       "review_time_delays                    float64    0.000000\n",
       "review_food_bev_crew                  float64    0.000000\n",
       "title_money_value                     float64    0.000000\n",
       "title_staff_delays                    float64    0.000000"
      ]
     },
     "execution_count": 5,
     "metadata": {},
     "output_type": "execute_result"
    }
   ],
   "source": [
    "# column types, na values\n",
    "pd.DataFrame({\n",
    "    \"data_type\" : reviews_regr.dtypes.values,\n",
    "    \"precent_na\" : (reviews_regr.isna().sum()/reviews_regr.shape[0])*100\n",
    "})"
   ]
  },
  {
   "cell_type": "markdown",
   "metadata": {},
   "source": [
    "`object` types are categorical/strings.  Below in a table documenting which columns will be dropped and the reasoning behind each.\n",
    "\n",
    "| Column Name                   \t| Reason to Drop                                                  \t|\n",
    "|-------------------------------\t|-----------------------------------------------------------------\t|\n",
    "| title                         \t| Information extracted via Topic Modeling                        \t|\n",
    "| n_user_reviews                \t| Large amount of missing values                                  \t|\n",
    "| reviewer_name                 \t| Not relevant for regression analysis                            \t|\n",
    "| reviewer_country              \t| Too many categories for small amount of data; EDA backs this up \t|\n",
    "| date_of_review                \t| imbalanced dataset over time                                    \t|\n",
    "| review_text                   \t| Information extracted via Topic Modeling                        \t|\n",
    "| aircraft                      \t| Large amount of missing values                                  \t|\n",
    "| traveller_type                \t| Large amount of missing values                                  \t|\n",
    "| route                         \t| Large amount of missing values                                  \t|\n",
    "| date_flown                    \t| Large amount of missing values                                  \t|\n",
    "| ground_service_rating         \t| Large amount of missing values                                  \t|\n",
    "| inflight_entertainment_rating \t| Large amount of missing values                                  \t|\n",
    "| clean_review_text             \t| Information extracted via Topic Modeling                        \t|\n",
    "| clean_title                   \t| Information extracted via Topic Modeling                        \t|"
   ]
  },
  {
   "cell_type": "code",
   "execution_count": 6,
   "metadata": {},
   "outputs": [
    {
     "data": {
      "text/plain": [
       "Index(['title', 'review_value', 'n_user_reviews', 'reviewer_name',\n",
       "       'reviewer_country', 'date_of_review', 'review_text', 'aircraft',\n",
       "       'traveller_type', 'seat_type', 'route', 'date_flown',\n",
       "       'seat_comfort_rating', 'cabin_staff_service_rating',\n",
       "       'food_and_beverages_rating', 'inflight_entertainment_rating',\n",
       "       'ground_service_rating', 'value_for_money_rating', 'recommendation',\n",
       "       'clean_review_text', 'clean_title', 'review_luggage_seats',\n",
       "       'review_time_delays', 'review_food_bev_crew', 'title_money_value',\n",
       "       'title_staff_delays'],\n",
       "      dtype='object')"
      ]
     },
     "execution_count": 6,
     "metadata": {},
     "output_type": "execute_result"
    }
   ],
   "source": [
    "reviews_regr.columns"
   ]
  },
  {
   "cell_type": "code",
   "execution_count": 7,
   "metadata": {},
   "outputs": [],
   "source": [
    "drop_cols = ['title', 'n_user_reviews', 'reviewer_name',\n",
    "             'reviewer_country', 'date_of_review', 'review_text', \n",
    "             'aircraft', 'traveller_type', 'route', 'date_flown',\n",
    "             'ground_service_rating', 'inflight_entertainment_rating',\n",
    "             'clean_review_text', 'clean_title']"
   ]
  },
  {
   "cell_type": "code",
   "execution_count": 8,
   "metadata": {},
   "outputs": [],
   "source": [
    "# drop unwanted columns\n",
    "reviews_regr = reviews_regr.drop(drop_cols, axis = 1)"
   ]
  },
  {
   "cell_type": "markdown",
   "metadata": {},
   "source": [
    "After dropping, review the na values and column types again"
   ]
  },
  {
   "cell_type": "code",
   "execution_count": 9,
   "metadata": {
    "scrolled": false
   },
   "outputs": [
    {
     "data": {
      "text/html": [
       "<div>\n",
       "<style scoped>\n",
       "    .dataframe tbody tr th:only-of-type {\n",
       "        vertical-align: middle;\n",
       "    }\n",
       "\n",
       "    .dataframe tbody tr th {\n",
       "        vertical-align: top;\n",
       "    }\n",
       "\n",
       "    .dataframe thead th {\n",
       "        text-align: right;\n",
       "    }\n",
       "</style>\n",
       "<table border=\"1\" class=\"dataframe\">\n",
       "  <thead>\n",
       "    <tr style=\"text-align: right;\">\n",
       "      <th></th>\n",
       "      <th>data_type</th>\n",
       "      <th>precent_na</th>\n",
       "    </tr>\n",
       "  </thead>\n",
       "  <tbody>\n",
       "    <tr>\n",
       "      <th>review_value</th>\n",
       "      <td>float64</td>\n",
       "      <td>9.420290</td>\n",
       "    </tr>\n",
       "    <tr>\n",
       "      <th>seat_type</th>\n",
       "      <td>object</td>\n",
       "      <td>10.144928</td>\n",
       "    </tr>\n",
       "    <tr>\n",
       "      <th>seat_comfort_rating</th>\n",
       "      <td>float64</td>\n",
       "      <td>34.057971</td>\n",
       "    </tr>\n",
       "    <tr>\n",
       "      <th>cabin_staff_service_rating</th>\n",
       "      <td>float64</td>\n",
       "      <td>34.057971</td>\n",
       "    </tr>\n",
       "    <tr>\n",
       "      <th>food_and_beverages_rating</th>\n",
       "      <td>float64</td>\n",
       "      <td>36.231884</td>\n",
       "    </tr>\n",
       "    <tr>\n",
       "      <th>value_for_money_rating</th>\n",
       "      <td>float64</td>\n",
       "      <td>9.420290</td>\n",
       "    </tr>\n",
       "    <tr>\n",
       "      <th>recommendation</th>\n",
       "      <td>object</td>\n",
       "      <td>0.000000</td>\n",
       "    </tr>\n",
       "    <tr>\n",
       "      <th>review_luggage_seats</th>\n",
       "      <td>float64</td>\n",
       "      <td>0.000000</td>\n",
       "    </tr>\n",
       "    <tr>\n",
       "      <th>review_time_delays</th>\n",
       "      <td>float64</td>\n",
       "      <td>0.000000</td>\n",
       "    </tr>\n",
       "    <tr>\n",
       "      <th>review_food_bev_crew</th>\n",
       "      <td>float64</td>\n",
       "      <td>0.000000</td>\n",
       "    </tr>\n",
       "    <tr>\n",
       "      <th>title_money_value</th>\n",
       "      <td>float64</td>\n",
       "      <td>0.000000</td>\n",
       "    </tr>\n",
       "    <tr>\n",
       "      <th>title_staff_delays</th>\n",
       "      <td>float64</td>\n",
       "      <td>0.000000</td>\n",
       "    </tr>\n",
       "  </tbody>\n",
       "</table>\n",
       "</div>"
      ],
      "text/plain": [
       "                           data_type  precent_na\n",
       "review_value                 float64    9.420290\n",
       "seat_type                     object   10.144928\n",
       "seat_comfort_rating          float64   34.057971\n",
       "cabin_staff_service_rating   float64   34.057971\n",
       "food_and_beverages_rating    float64   36.231884\n",
       "value_for_money_rating       float64    9.420290\n",
       "recommendation                object    0.000000\n",
       "review_luggage_seats         float64    0.000000\n",
       "review_time_delays           float64    0.000000\n",
       "review_food_bev_crew         float64    0.000000\n",
       "title_money_value            float64    0.000000\n",
       "title_staff_delays           float64    0.000000"
      ]
     },
     "execution_count": 9,
     "metadata": {},
     "output_type": "execute_result"
    }
   ],
   "source": [
    "# column types, na values\n",
    "pd.DataFrame({\n",
    "    \"data_type\" : reviews_regr.dtypes.values,\n",
    "    \"precent_na\" : (reviews_regr.isna().sum()/reviews_regr.shape[0])*100\n",
    "})"
   ]
  },
  {
   "cell_type": "code",
   "execution_count": 10,
   "metadata": {},
   "outputs": [
    {
     "data": {
      "text/plain": [
       "Economy Class     122\n",
       "Business Class      1\n",
       "First Class         1\n",
       "Name: seat_type, dtype: int64"
      ]
     },
     "execution_count": 10,
     "metadata": {},
     "output_type": "execute_result"
    }
   ],
   "source": [
    "# levels of the seat_type variable and counts\n",
    "reviews_regr.seat_type.value_counts()"
   ]
  },
  {
   "cell_type": "markdown",
   "metadata": {},
   "source": [
    "Seat comfort, cabin staff service and food and beverages still have a fair amount missing, I might need to remove them from the analysis later, or perform two separate analyses.\n",
    "\n",
    "`seat_type` and `recommendation` need to be encoded.  To do that, I'll use some code that I had developed prior.\n",
    "\n",
    "`PrepareForModel` dummy encodes categorical variables in a given dataframe.  There also exists an option to effect code the categorical variables, but for this option I will keep effect coding.\n",
    "\n",
    "The reason for effect coding is that I plan to have `Economy Class` as the reference variable, and perform a reference treatment effect to see if moving to business or first class would increase the chance of a recommendation.  An issue with this is that there is only one business class and one first class seat in the dataset."
   ]
  },
  {
   "cell_type": "markdown",
   "metadata": {},
   "source": [
    "### Analysis\n",
    "\n",
    "In interest of time, I will also drop the seat comfort, cabin staff service and food and beverages rating.  The reasoning behind this is to preserve as many samples as possible in order to increase certainty in the regression analysis.\n",
    "\n",
    "In the analysis I will do three things:\n",
    "1. Obtain relative feature importances via L1 regularization with varying strengths\n",
    "2. Estimate regression coefficients\n",
    "3. Obtain a 95% CI via bootstrapping\n",
    "\n",
    "\n",
    "`scikit-learn` was chosen for this task over another module such as `statsmodels`.  `statsmodels` would provide a CLT estimate of the coefficients, giving a CI by default.  But `scikit-learn` allows regression to be performed with L1 regularization, my chosen method for feature importance."
   ]
  },
  {
   "cell_type": "code",
   "execution_count": 15,
   "metadata": {},
   "outputs": [],
   "source": [
    "# remove columns with large amounts of NA values, then drop all rows with NA values\n",
    "review_regr = reviews_regr.drop(\n",
    "    [\"seat_comfort_rating\", \"cabin_staff_service_rating\", \"food_and_beverages_rating\"], axis = 1).dropna()\n",
    "prep = PrepareForModel(review_regr)\n",
    "review_regr_enc = prep.make_dummy_df({\"seat_type\" : \"Economy Class\", \"recommendation\" : \"no\"})"
   ]
  },
  {
   "cell_type": "code",
   "execution_count": 41,
   "metadata": {},
   "outputs": [],
   "source": [
    "logit_l1_params = {\"penalty\" : \"l1\",\n",
    "                \"C\" : 1.0,\n",
    "                \"fit_intercept\" : False,\n",
    "                \"random_state\" : 42,\n",
    "                \"solver\" : \"liblinear\", #required for accurate coefficients\n",
    "                \"max_iter\" : 100}"
   ]
  },
  {
   "cell_type": "code",
   "execution_count": null,
   "metadata": {},
   "outputs": [],
   "source": []
  },
  {
   "cell_type": "code",
   "execution_count": null,
   "metadata": {},
   "outputs": [],
   "source": []
  },
  {
   "cell_type": "code",
   "execution_count": null,
   "metadata": {},
   "outputs": [],
   "source": []
  },
  {
   "cell_type": "code",
   "execution_count": 41,
   "metadata": {},
   "outputs": [],
   "source": [
    "# get regression coefficients\n",
    "logit_l1_params = {\"penalty\" : \"none\",\n",
    "                \"C\" : 1.0,\n",
    "                \"fit_intercept\" : False,\n",
    "                \"random_state\" : 42,\n",
    "                \"solver\" : \"newton-cg\", #required for accurate coefficients\n",
    "                \"max_iter\" : 100}"
   ]
  }
 ],
 "metadata": {
  "celltoolbar": "Tags",
  "kernelspec": {
   "display_name": "Python 3",
   "language": "python",
   "name": "python3"
  },
  "language_info": {
   "codemirror_mode": {
    "name": "ipython",
    "version": 3
   },
   "file_extension": ".py",
   "mimetype": "text/x-python",
   "name": "python",
   "nbconvert_exporter": "python",
   "pygments_lexer": "ipython3",
   "version": "3.6.8"
  }
 },
 "nbformat": 4,
 "nbformat_minor": 2
}
