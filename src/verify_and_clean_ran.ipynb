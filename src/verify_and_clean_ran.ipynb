{
 "cells": [
  {
   "cell_type": "markdown",
   "metadata": {
    "papermill": {
     "duration": 0.032939,
     "end_time": "2019-08-12T04:00:58.229741",
     "exception": false,
     "start_time": "2019-08-12T04:00:58.196802",
     "status": "completed"
    },
    "tags": []
   },
   "source": [
    "# Verify and Clean\n",
    "\n",
    "#### Evan Yathon\n",
    "#### \n",
    "\n",
    "This notebook is intended to be run with papermill from the project root.\n",
    "\n",
    "The purpose of this notebook is to take a first look at the data, clean it where necessary and ensure that all reviews in the original given dataset (`data/given_4U_reviews.txt`) all exist in my newly scraped dataset.\n",
    "\n",
    "Usage:\n",
    "\n",
    "`papermill src/ipynbs/verify_and_clean.ipynb src/verify_and_clean_ran.ipynb -p load_path data/scraped_gw_reviews.csv -p save_path data/cleaned_gw_reviews.csv -p old_data_path data/given_4U_reviews.txt`"
   ]
  },
  {
   "cell_type": "code",
   "execution_count": 1,
   "metadata": {
    "papermill": {
     "duration": 0.025043,
     "end_time": "2019-08-12T04:00:58.273784",
     "exception": false,
     "start_time": "2019-08-12T04:00:58.248741",
     "status": "completed"
    },
    "tags": [
     "parameters"
    ]
   },
   "outputs": [],
   "source": [
    "#parameters section for Papermill\n",
    "\n",
    "load_path = \"../../data/scraped_gw_reviews.csv\"\n",
    "save_path = \"../../data/cleaned_gw_reviews.csv\"\n",
    "old_data_path = \"../../data/given_4U_reviews.txt\""
   ]
  },
  {
   "cell_type": "code",
   "execution_count": 2,
   "metadata": {
    "papermill": {
     "duration": 0.02595,
     "end_time": "2019-08-12T04:00:58.327742",
     "exception": false,
     "start_time": "2019-08-12T04:00:58.301792",
     "status": "completed"
    },
    "tags": [
     "injected-parameters"
    ]
   },
   "outputs": [],
   "source": [
    "# Parameters\n",
    "load_path = \"data/scraped_gw_reviews.csv\"\n",
    "save_path = \"data/cleaned_gw_reviews.csv\"\n",
    "old_data_path = \"data/given_4U_reviews.txt\"\n"
   ]
  },
  {
   "cell_type": "code",
   "execution_count": 3,
   "metadata": {
    "papermill": {
     "duration": 3.062744,
     "end_time": "2019-08-12T04:01:01.405485",
     "exception": false,
     "start_time": "2019-08-12T04:00:58.342741",
     "status": "completed"
    },
    "tags": []
   },
   "outputs": [],
   "source": [
    "# loading packages\n",
    "\n",
    "# utils\n",
    "import pandas as pd\n",
    "import time\n",
    "import numpy as np\n",
    "\n",
    "# plotting\n",
    "import seaborn as sns\n",
    "import matplotlib.pyplot as plt"
   ]
  },
  {
   "cell_type": "code",
   "execution_count": 4,
   "metadata": {
    "papermill": {
     "duration": 0.100263,
     "end_time": "2019-08-12T04:01:01.522748",
     "exception": false,
     "start_time": "2019-08-12T04:01:01.422485",
     "status": "completed"
    },
    "tags": []
   },
   "outputs": [],
   "source": [
    "# ensure the dates are parsed correctly with parse_dates argument\n",
    "reviews = pd.read_csv(load_path, parse_dates = [\"date_of_review\", \"date_flown\"])"
   ]
  },
  {
   "cell_type": "code",
   "execution_count": 5,
   "metadata": {
    "papermill": {
     "duration": 0.054005,
     "end_time": "2019-08-12T04:01:01.592720",
     "exception": false,
     "start_time": "2019-08-12T04:01:01.538715",
     "status": "completed"
    },
    "tags": []
   },
   "outputs": [
    {
     "data": {
      "text/html": [
       "<div>\n",
       "<style scoped>\n",
       "    .dataframe tbody tr th:only-of-type {\n",
       "        vertical-align: middle;\n",
       "    }\n",
       "\n",
       "    .dataframe tbody tr th {\n",
       "        vertical-align: top;\n",
       "    }\n",
       "\n",
       "    .dataframe thead th {\n",
       "        text-align: right;\n",
       "    }\n",
       "</style>\n",
       "<table border=\"1\" class=\"dataframe\">\n",
       "  <thead>\n",
       "    <tr style=\"text-align: right;\">\n",
       "      <th></th>\n",
       "      <th>title</th>\n",
       "      <th>review_value</th>\n",
       "      <th>n_user_reviews</th>\n",
       "      <th>reviewer_name</th>\n",
       "      <th>reviewer_country</th>\n",
       "      <th>date_of_review</th>\n",
       "      <th>review_text</th>\n",
       "      <th>aircraft</th>\n",
       "      <th>traveller_type</th>\n",
       "      <th>seat_type</th>\n",
       "      <th>route</th>\n",
       "      <th>date_flown</th>\n",
       "      <th>seat_comfort_rating</th>\n",
       "      <th>cabin_staff_service_rating</th>\n",
       "      <th>food_and_beverages_rating</th>\n",
       "      <th>inflight_entertainment_rating</th>\n",
       "      <th>ground_service_rating</th>\n",
       "      <th>value_for_money_rating</th>\n",
       "      <th>recommendation</th>\n",
       "    </tr>\n",
       "  </thead>\n",
       "  <tbody>\n",
       "    <tr>\n",
       "      <th>0</th>\n",
       "      <td>\"Seat was fine with enough legroom\"</td>\n",
       "      <td>7.0</td>\n",
       "      <td>9 reviews</td>\n",
       "      <td>Sander van Kan</td>\n",
       "      <td>\\n\\n9 reviews\\n\\n\\n\\nSander van Kan (Netherlan...</td>\n",
       "      <td>2019-07-01</td>\n",
       "      <td>✅ Trip Verified | Dusseldorf to Berlin. Eurowi...</td>\n",
       "      <td>A319</td>\n",
       "      <td>Couple Leisure</td>\n",
       "      <td>Economy Class</td>\n",
       "      <td>Dusseldorf to Berlin</td>\n",
       "      <td>2019-06-01</td>\n",
       "      <td>4.0</td>\n",
       "      <td>3.0</td>\n",
       "      <td>NaN</td>\n",
       "      <td>1.0</td>\n",
       "      <td>3.0</td>\n",
       "      <td>5.0</td>\n",
       "      <td>yes</td>\n",
       "    </tr>\n",
       "    <tr>\n",
       "      <th>1</th>\n",
       "      <td>\"crew were smiling and good\"</td>\n",
       "      <td>6.0</td>\n",
       "      <td>9 reviews</td>\n",
       "      <td>Sander van Kan</td>\n",
       "      <td>\\n\\n9 reviews\\n\\n\\n\\nSander van Kan (Netherlan...</td>\n",
       "      <td>2019-07-01</td>\n",
       "      <td>✅ Trip Verified | Berlin to Dusseldorf. Eurowi...</td>\n",
       "      <td>A319</td>\n",
       "      <td>Couple Leisure</td>\n",
       "      <td>Economy Class</td>\n",
       "      <td>Berlin to Dusseldorf</td>\n",
       "      <td>2019-06-01</td>\n",
       "      <td>3.0</td>\n",
       "      <td>3.0</td>\n",
       "      <td>NaN</td>\n",
       "      <td>1.0</td>\n",
       "      <td>3.0</td>\n",
       "      <td>5.0</td>\n",
       "      <td>yes</td>\n",
       "    </tr>\n",
       "    <tr>\n",
       "      <th>2</th>\n",
       "      <td>\"only two agents available\"</td>\n",
       "      <td>1.0</td>\n",
       "      <td>6 reviews</td>\n",
       "      <td>Andrew Maynard</td>\n",
       "      <td>\\n\\n6 reviews\\n\\n\\n\\nAndrew Maynard  (United K...</td>\n",
       "      <td>2017-01-04</td>\n",
       "      <td>Check in process at Cologne very poor. Flight ...</td>\n",
       "      <td>NaN</td>\n",
       "      <td>Couple Leisure</td>\n",
       "      <td>Economy Class</td>\n",
       "      <td>CGN to MAN</td>\n",
       "      <td>2017-01-01</td>\n",
       "      <td>2.0</td>\n",
       "      <td>2.0</td>\n",
       "      <td>NaN</td>\n",
       "      <td>NaN</td>\n",
       "      <td>1.0</td>\n",
       "      <td>2.0</td>\n",
       "      <td>no</td>\n",
       "    </tr>\n",
       "    <tr>\n",
       "      <th>3</th>\n",
       "      <td>\"good flight and friendly staff\"</td>\n",
       "      <td>7.0</td>\n",
       "      <td>1 reviews</td>\n",
       "      <td>T Steen</td>\n",
       "      <td>\\n\\n1 reviews\\n\\n\\n\\nT Steen (Netherlands) 13t...</td>\n",
       "      <td>2016-09-13</td>\n",
       "      <td>✅ Verified Review |  Amsterdam to Stuttgart. G...</td>\n",
       "      <td>NaN</td>\n",
       "      <td>Business</td>\n",
       "      <td>Economy Class</td>\n",
       "      <td>AMS to STR</td>\n",
       "      <td>2016-09-01</td>\n",
       "      <td>5.0</td>\n",
       "      <td>5.0</td>\n",
       "      <td>1.0</td>\n",
       "      <td>NaN</td>\n",
       "      <td>5.0</td>\n",
       "      <td>5.0</td>\n",
       "      <td>yes</td>\n",
       "    </tr>\n",
       "    <tr>\n",
       "      <th>4</th>\n",
       "      <td>\"never been treated as badly\"</td>\n",
       "      <td>1.0</td>\n",
       "      <td>NaN</td>\n",
       "      <td>Karen Kirner</td>\n",
       "      <td>\\n\\nKaren Kirner (Austria) 16th August 2016</td>\n",
       "      <td>2016-08-16</td>\n",
       "      <td>✅ Verified Review |  I have been a frequent tr...</td>\n",
       "      <td>NaN</td>\n",
       "      <td>Business</td>\n",
       "      <td>Economy Class</td>\n",
       "      <td>DUS to VIE</td>\n",
       "      <td>2016-08-01</td>\n",
       "      <td>1.0</td>\n",
       "      <td>1.0</td>\n",
       "      <td>NaN</td>\n",
       "      <td>NaN</td>\n",
       "      <td>3.0</td>\n",
       "      <td>1.0</td>\n",
       "      <td>no</td>\n",
       "    </tr>\n",
       "  </tbody>\n",
       "</table>\n",
       "</div>"
      ],
      "text/plain": [
       "                                 title  review_value n_user_reviews  \\\n",
       "0  \"Seat was fine with enough legroom\"           7.0      9 reviews   \n",
       "1         \"crew were smiling and good\"           6.0      9 reviews   \n",
       "2          \"only two agents available\"           1.0      6 reviews   \n",
       "3     \"good flight and friendly staff\"           7.0      1 reviews   \n",
       "4        \"never been treated as badly\"           1.0            NaN   \n",
       "\n",
       "     reviewer_name                                   reviewer_country  \\\n",
       "0   Sander van Kan  \\n\\n9 reviews\\n\\n\\n\\nSander van Kan (Netherlan...   \n",
       "1   Sander van Kan  \\n\\n9 reviews\\n\\n\\n\\nSander van Kan (Netherlan...   \n",
       "2  Andrew Maynard   \\n\\n6 reviews\\n\\n\\n\\nAndrew Maynard  (United K...   \n",
       "3          T Steen  \\n\\n1 reviews\\n\\n\\n\\nT Steen (Netherlands) 13t...   \n",
       "4     Karen Kirner        \\n\\nKaren Kirner (Austria) 16th August 2016   \n",
       "\n",
       "  date_of_review                                        review_text aircraft  \\\n",
       "0     2019-07-01  ✅ Trip Verified | Dusseldorf to Berlin. Eurowi...     A319   \n",
       "1     2019-07-01  ✅ Trip Verified | Berlin to Dusseldorf. Eurowi...     A319   \n",
       "2     2017-01-04  Check in process at Cologne very poor. Flight ...      NaN   \n",
       "3     2016-09-13  ✅ Verified Review |  Amsterdam to Stuttgart. G...      NaN   \n",
       "4     2016-08-16  ✅ Verified Review |  I have been a frequent tr...      NaN   \n",
       "\n",
       "   traveller_type      seat_type                 route date_flown  \\\n",
       "0  Couple Leisure  Economy Class  Dusseldorf to Berlin 2019-06-01   \n",
       "1  Couple Leisure  Economy Class  Berlin to Dusseldorf 2019-06-01   \n",
       "2  Couple Leisure  Economy Class            CGN to MAN 2017-01-01   \n",
       "3        Business  Economy Class            AMS to STR 2016-09-01   \n",
       "4        Business  Economy Class            DUS to VIE 2016-08-01   \n",
       "\n",
       "   seat_comfort_rating  cabin_staff_service_rating  food_and_beverages_rating  \\\n",
       "0                  4.0                         3.0                        NaN   \n",
       "1                  3.0                         3.0                        NaN   \n",
       "2                  2.0                         2.0                        NaN   \n",
       "3                  5.0                         5.0                        1.0   \n",
       "4                  1.0                         1.0                        NaN   \n",
       "\n",
       "   inflight_entertainment_rating  ground_service_rating  \\\n",
       "0                            1.0                    3.0   \n",
       "1                            1.0                    3.0   \n",
       "2                            NaN                    1.0   \n",
       "3                            NaN                    5.0   \n",
       "4                            NaN                    3.0   \n",
       "\n",
       "   value_for_money_rating recommendation  \n",
       "0                     5.0            yes  \n",
       "1                     5.0            yes  \n",
       "2                     2.0             no  \n",
       "3                     5.0            yes  \n",
       "4                     1.0             no  "
      ]
     },
     "execution_count": 5,
     "metadata": {},
     "output_type": "execute_result"
    }
   ],
   "source": [
    "reviews.head(5)"
   ]
  },
  {
   "cell_type": "code",
   "execution_count": 6,
   "metadata": {
    "papermill": {
     "duration": 0.034979,
     "end_time": "2019-08-12T04:01:01.645714",
     "exception": false,
     "start_time": "2019-08-12T04:01:01.610735",
     "status": "completed"
    },
    "tags": []
   },
   "outputs": [
    {
     "data": {
      "text/plain": [
       "title                                    object\n",
       "review_value                            float64\n",
       "n_user_reviews                           object\n",
       "reviewer_name                            object\n",
       "reviewer_country                         object\n",
       "date_of_review                   datetime64[ns]\n",
       "review_text                              object\n",
       "aircraft                                 object\n",
       "traveller_type                           object\n",
       "seat_type                                object\n",
       "route                                    object\n",
       "date_flown                       datetime64[ns]\n",
       "seat_comfort_rating                     float64\n",
       "cabin_staff_service_rating              float64\n",
       "food_and_beverages_rating               float64\n",
       "inflight_entertainment_rating           float64\n",
       "ground_service_rating                   float64\n",
       "value_for_money_rating                  float64\n",
       "recommendation                           object\n",
       "dtype: object"
      ]
     },
     "execution_count": 6,
     "metadata": {},
     "output_type": "execute_result"
    }
   ],
   "source": [
    "# check what column types we are working with\n",
    "reviews.dtypes"
   ]
  },
  {
   "cell_type": "code",
   "execution_count": 7,
   "metadata": {
    "papermill": {
     "duration": 0.064993,
     "end_time": "2019-08-12T04:01:01.728712",
     "exception": false,
     "start_time": "2019-08-12T04:01:01.663719",
     "status": "completed"
    },
    "tags": []
   },
   "outputs": [
    {
     "name": "stdout",
     "output_type": "stream",
     "text": [
      "Percentage of missing values for each column: \n",
      "\n"
     ]
    },
    {
     "data": {
      "text/plain": [
       "title                             0.000000\n",
       "review_value                      9.589041\n",
       "n_user_reviews                   89.726027\n",
       "reviewer_name                     0.000000\n",
       "reviewer_country                  0.000000\n",
       "date_of_review                    0.000000\n",
       "review_text                       0.000000\n",
       "aircraft                         89.726027\n",
       "traveller_type                   78.767123\n",
       "seat_type                        10.273973\n",
       "route                            78.767123\n",
       "date_flown                       78.767123\n",
       "seat_comfort_rating              32.876712\n",
       "cabin_staff_service_rating       32.876712\n",
       "food_and_beverages_rating        37.671233\n",
       "inflight_entertainment_rating    47.945205\n",
       "ground_service_rating            78.767123\n",
       "value_for_money_rating            9.589041\n",
       "recommendation                    0.000000\n",
       "dtype: float64"
      ]
     },
     "execution_count": 7,
     "metadata": {},
     "output_type": "execute_result"
    }
   ],
   "source": [
    "# check to see how many missing values there are for each column\n",
    "print(\"Percentage of missing values for each column: \\n\")\n",
    "(reviews.isna().sum()/reviews.shape[0])*100"
   ]
  },
  {
   "cell_type": "markdown",
   "metadata": {
    "papermill": {
     "duration": 0.018002,
     "end_time": "2019-08-12T04:01:01.765719",
     "exception": false,
     "start_time": "2019-08-12T04:01:01.747717",
     "status": "completed"
    },
    "tags": []
   },
   "source": [
    "It seems that the reviews are missing the majority of `n_user_reviews`, `aircraft`, `traveller_type`, `route`, `date_flown`, and `ground_service_rating`.\n",
    "\n",
    "Trying to infer things from these columns will likely be not very useful as we only have 146 samples to use.  "
   ]
  },
  {
   "cell_type": "markdown",
   "metadata": {
    "papermill": {
     "duration": 0.017999,
     "end_time": "2019-08-12T04:01:01.802718",
     "exception": false,
     "start_time": "2019-08-12T04:01:01.784719",
     "status": "completed"
    },
    "tags": []
   },
   "source": [
    "#### Verifying that all reviews are in original dataset"
   ]
  },
  {
   "cell_type": "code",
   "execution_count": 8,
   "metadata": {
    "papermill": {
     "duration": 0.051498,
     "end_time": "2019-08-12T04:01:01.888217",
     "exception": false,
     "start_time": "2019-08-12T04:01:01.836719",
     "status": "completed"
    },
    "tags": []
   },
   "outputs": [],
   "source": [
    "# load the original dataset\n",
    "\n",
    "f = open(old_data_path)\n",
    "orig_reviews = f.read()\n",
    "f.close()"
   ]
  },
  {
   "cell_type": "code",
   "execution_count": 9,
   "metadata": {
    "papermill": {
     "duration": 0.042013,
     "end_time": "2019-08-12T04:01:01.947635",
     "exception": false,
     "start_time": "2019-08-12T04:01:01.905622",
     "status": "completed"
    },
    "tags": []
   },
   "outputs": [
    {
     "name": "stdout",
     "output_type": "stream",
     "text": [
      "2019-07-01 00:00:00  :  \"Seat was fine with enough legroom\" \n",
      "\n",
      "2019-07-01 00:00:00  :  \"crew were smiling and good\" \n",
      "\n",
      "2017-01-04 00:00:00  :  \"only two agents available\" \n",
      "\n",
      "2016-09-13 00:00:00  :  \"good flight and friendly staff\" \n",
      "\n",
      "2016-08-16 00:00:00  :  \"never been treated as badly\" \n",
      "\n",
      "2016-05-11 00:00:00  :  \"very cramped\" \n",
      "\n",
      "2016-04-11 00:00:00  :  \"staff were friendly\" \n",
      "\n",
      "2016-02-08 00:00:00  :  PLEASE REFER TO EUROWINGS \n",
      "\n",
      "2016-01-23 00:00:00  :  \"great value for money\" \n",
      "\n",
      "2016-01-21 00:00:00  :  \"pay very little money\" \n",
      "\n",
      "2015-12-22 00:00:00  :  \"friendly and professional\" \n",
      "\n",
      "2015-12-07 00:00:00  :  \"little choice of airline\" \n",
      "\n",
      "2015-11-16 00:00:00  :  \"were very satisfied\" \n",
      "\n",
      "2015-11-03 00:00:00  :  \"no info or staff\" \n",
      "\n",
      "2015-10-27 00:00:00  :  \"cabin crew were very friendly\" \n",
      "\n",
      "2015-10-21 00:00:00  :  \"professional cabin crew\" \n",
      "\n",
      "2015-10-21 00:00:00  :  \"friendly cabin staff\" \n",
      "\n",
      "2015-10-15 00:00:00  :  \"impressed with Germanwings\" \n",
      "\n",
      "2015-09-14 00:00:00  :  \"I don't get why Germanwings is always late\" \n",
      "\n",
      "2015-09-09 00:00:00  :  \"vowing never to book Germanwings again\" \n",
      "\n",
      "2015-09-09 00:00:00  :  \"staff friendly - food terrible\" \n",
      "\n",
      "2015-09-06 00:00:00  :  \"no explanations, no offers of help\" \n",
      "\n",
      "2015-08-15 00:00:00  :  Germanwings customer review \n",
      "\n",
      "2015-06-19 00:00:00  :  Germanwings customer review \n",
      "\n"
     ]
    }
   ],
   "source": [
    "# check to make sure that all our extracted reviews are in the original dataset\n",
    "#\n",
    "# note that the last review in the given reviews was from 16th October 2015, \n",
    "# so there will be some extra reviews\n",
    "#\n",
    "# print the date and title of the review if it is not found in the original reviews\n",
    "\n",
    "for count, review in enumerate(reviews[\"review_text\"]):\n",
    "    if review not in orig_reviews:\n",
    "        print(reviews[\"date_of_review\"][count],\" : \", reviews[\"title\"][count],\"\\n\")"
   ]
  },
  {
   "cell_type": "markdown",
   "metadata": {
    "papermill": {
     "duration": 0.019999,
     "end_time": "2019-08-12T04:01:01.987626",
     "exception": false,
     "start_time": "2019-08-12T04:01:01.967627",
     "status": "completed"
    },
    "tags": []
   },
   "source": [
    "Most of these reviews are after 16th October 2015, so we know that it is mostly good.  But there are 7 reviews at the bottom that should be showing up as in the scraped dataset.  Let's look at the `2015-09-09 00:00:00  :  \"staff friendly - food terrible\"` entry."
   ]
  },
  {
   "cell_type": "code",
   "execution_count": 10,
   "metadata": {
    "papermill": {
     "duration": 0.026998,
     "end_time": "2019-08-12T04:01:02.034623",
     "exception": false,
     "start_time": "2019-08-12T04:01:02.007625",
     "status": "completed"
    },
    "tags": []
   },
   "outputs": [
    {
     "name": "stdout",
     "output_type": "stream",
     "text": [
      "\"staff friendly - food terrible\"\n",
      "Jay Martin (Germany) 9th September 2015\n",
      "7\n",
      "Easy Check-In at Düsseldorf. The Germanwings flight was on time. Seats good for a low-cost airline. The food was terrible and expensive. The normal Ticket price excludes luggage, and for including luggage check-in you have to pay extra money. Staff were friendly.\n",
      "Type Of Traveller\tSolo Leisure\n",
      "Cabin Flown\tEconomy\n",
      "Route\tDüsseldorf to London\n",
      "Date Flown\tAugust 2015\n",
      "Seat Comfort\t12345\n",
      "Cabin Staff Service\t12345\n",
      "Food & Beverages\t12345\n",
      "Inflight Entertainment\t12345\n",
      "Ground Service\t12345\n",
      "Wifi & Connectivity\t12345\n",
      "Value For Money\t12345\n",
      "Recommended\tyes\n"
     ]
    }
   ],
   "source": [
    "# the original review copied from the given text file\n",
    "review_from_given_txt = \"\"\"\"staff friendly - food terrible\"\n",
    "Jay Martin (Germany) 9th September 2015\n",
    "7\n",
    "Easy Check-In at Düsseldorf. The Germanwings flight was on time. Seats good for a low-cost airline. The food was terrible and expensive. The normal Ticket price excludes luggage, and for including luggage check-in you have to pay extra money. Staff were friendly.\n",
    "Type Of Traveller\tSolo Leisure\n",
    "Cabin Flown\tEconomy\n",
    "Route\tDüsseldorf to London\n",
    "Date Flown\tAugust 2015\n",
    "Seat Comfort\t12345\n",
    "Cabin Staff Service\t12345\n",
    "Food & Beverages\t12345\n",
    "Inflight Entertainment\t12345\n",
    "Ground Service\t12345\n",
    "Wifi & Connectivity\t12345\n",
    "Value For Money\t12345\n",
    "Recommended\tyes\"\"\"\n",
    "print(review_from_given_txt)"
   ]
  },
  {
   "cell_type": "code",
   "execution_count": 11,
   "metadata": {
    "papermill": {
     "duration": 0.061003,
     "end_time": "2019-08-12T04:01:02.117626",
     "exception": false,
     "start_time": "2019-08-12T04:01:02.056623",
     "status": "completed"
    },
    "tags": []
   },
   "outputs": [
    {
     "data": {
      "text/plain": [
       "'Easy Check-In at Düsseldorf. The Germanwings flight was on  time. Seats good for a low-cost airline. The food was terrible and expensive. The normal Ticket price excludes luggage, and for including luggage check-in you have to pay extra money. Staff were friendly.'"
      ]
     },
     "execution_count": 11,
     "metadata": {},
     "output_type": "execute_result"
    }
   ],
   "source": [
    "# get the review from the scraped dataset\n",
    "reviews[\"review_text\"][reviews[\"title\"].str.contains(\"staff friendly - food terrible\")].values[0]"
   ]
  },
  {
   "cell_type": "markdown",
   "metadata": {
    "papermill": {
     "duration": 0.030658,
     "end_time": "2019-08-12T04:01:02.167281",
     "exception": false,
     "start_time": "2019-08-12T04:01:02.136623",
     "status": "completed"
    },
    "tags": []
   },
   "source": [
    "The two reviews are identical, but there is likely some hidden formatting messing things up.  \n",
    "\n",
    "I verified that the other 6 reviews were also the same, and with that am confident that my dataset has the same content with additional information compared to the provided one."
   ]
  },
  {
   "cell_type": "markdown",
   "metadata": {
    "papermill": {
     "duration": 0.021004,
     "end_time": "2019-08-12T04:01:02.206279",
     "exception": false,
     "start_time": "2019-08-12T04:01:02.185275",
     "status": "completed"
    },
    "tags": []
   },
   "source": [
    "#### Date Differences"
   ]
  },
  {
   "cell_type": "markdown",
   "metadata": {
    "papermill": {
     "duration": 0.04001,
     "end_time": "2019-08-12T04:01:02.265283",
     "exception": false,
     "start_time": "2019-08-12T04:01:02.225273",
     "status": "completed"
    },
    "tags": []
   },
   "source": [
    "Check to see what the difference in between the date flown and date reviewed to see if the review date is close enough to be used for date flown."
   ]
  },
  {
   "cell_type": "code",
   "execution_count": 12,
   "metadata": {
    "papermill": {
     "duration": 0.030024,
     "end_time": "2019-08-12T04:01:02.314309",
     "exception": false,
     "start_time": "2019-08-12T04:01:02.284285",
     "status": "completed"
    },
    "tags": []
   },
   "outputs": [],
   "source": [
    "# figure out the time difference in days, removing any NA values\n",
    "time_difference = (reviews[\"date_of_review\"] - reviews[\"date_flown\"]).dt.days.dropna().values"
   ]
  },
  {
   "cell_type": "code",
   "execution_count": 13,
   "metadata": {
    "papermill": {
     "duration": 0.325071,
     "end_time": "2019-08-12T04:01:02.662358",
     "exception": false,
     "start_time": "2019-08-12T04:01:02.337287",
     "status": "completed"
    },
    "tags": []
   },
   "outputs": [
    {
     "name": "stderr",
     "output_type": "stream",
     "text": [
      "C:\\Users\\evany\\Anaconda3\\lib\\site-packages\\scipy\\stats\\stats.py:1713: FutureWarning: Using a non-tuple sequence for multidimensional indexing is deprecated; use `arr[tuple(seq)]` instead of `arr[seq]`. In the future this will be interpreted as an array index, `arr[np.array(seq)]`, which will result either in an error or a different result.\n",
      "  return np.add.reduce(sorted[indexer] * weights, axis=axis) / sumval\n"
     ]
    },
    {
     "data": {
      "text/plain": [
       "Text(0.5, 1.0, 'Difference Between Date Reviewed\\n and Date Flown in Days')"
      ]
     },
     "execution_count": 13,
     "metadata": {},
     "output_type": "execute_result"
    },
    {
     "data": {
      "image/png": "[encoded data removed]",
      "text/plain": [
       "<Figure size 432x288 with 1 Axes>"
      ]
     },
     "metadata": {
      "needs_background": "light"
     },
     "output_type": "display_data"
    }
   ],
   "source": [
    "sns.distplot(time_difference, kde = False)\n",
    "plt.title(\"Difference Between Date Reviewed\\n and Date Flown in Days\")"
   ]
  },
  {
   "cell_type": "code",
   "execution_count": 14,
   "metadata": {
    "papermill": {
     "duration": 0.029993,
     "end_time": "2019-08-12T04:01:02.711323",
     "exception": false,
     "start_time": "2019-08-12T04:01:02.681330",
     "status": "completed"
    },
    "tags": []
   },
   "outputs": [
    {
     "data": {
      "text/plain": [
       "50.0"
      ]
     },
     "execution_count": 14,
     "metadata": {},
     "output_type": "execute_result"
    }
   ],
   "source": [
    "np.quantile(time_difference, 0.8)"
   ]
  },
  {
   "cell_type": "markdown",
   "metadata": {
    "papermill": {
     "duration": 0.025009,
     "end_time": "2019-08-12T04:01:02.760346",
     "exception": false,
     "start_time": "2019-08-12T04:01:02.735337",
     "status": "completed"
    },
    "tags": []
   },
   "source": [
    "It seems that 80% of reviews are posted within 50 days, and since we are missing most of the `date_flown` columns, I'll assume that the date flown is close to the date reviewed."
   ]
  },
  {
   "cell_type": "markdown",
   "metadata": {
    "papermill": {
     "duration": 0.024985,
     "end_time": "2019-08-12T04:01:02.824394",
     "exception": false,
     "start_time": "2019-08-12T04:01:02.799409",
     "status": "completed"
    },
    "tags": []
   },
   "source": [
    "#### Data Cleaning"
   ]
  },
  {
   "cell_type": "markdown",
   "metadata": {
    "papermill": {
     "duration": 0.021001,
     "end_time": "2019-08-12T04:01:02.873187",
     "exception": false,
     "start_time": "2019-08-12T04:01:02.852186",
     "status": "completed"
    },
    "tags": []
   },
   "source": [
    "Some data cleaning is now necessary.  Here is the plan:\n",
    "\n",
    "- Isolate the reviewer country\n",
    "- *Split `route` into origin and destination* (not crucial due to large amount of NaNs)"
   ]
  },
  {
   "cell_type": "markdown",
   "metadata": {
    "papermill": {
     "duration": 0.034113,
     "end_time": "2019-08-12T04:01:02.930328",
     "exception": false,
     "start_time": "2019-08-12T04:01:02.896215",
     "status": "completed"
    },
    "tags": []
   },
   "source": [
    "##### Isolate the reviewer country\n",
    "\n",
    "Each entry has something along the lines of\n",
    "\n",
    "```\n",
    "\\n\\nRalf-Peter Weber (Gibraltar) 31st August 2015\n",
    "```\n",
    "\n",
    "With the country consistently in brackets.  We can use regex to isolate the country name.\n",
    "\n",
    "Source:\n",
    "https://stackoverflow.com/questions/54077038/use-regular-expression-to-extract-elements-from-a-pandas-data-frame"
   ]
  },
  {
   "cell_type": "code",
   "execution_count": 15,
   "metadata": {
    "papermill": {
     "duration": 0.039033,
     "end_time": "2019-08-12T04:01:03.000217",
     "exception": false,
     "start_time": "2019-08-12T04:01:02.961184",
     "status": "completed"
    },
    "tags": []
   },
   "outputs": [],
   "source": [
    "# pattern matches any characters between brackets\n",
    "pattern = \"\\((.*)\\)\"\n",
    "# extract items that match the pattern in reviewer_countries\n",
    "countries = reviews[\"reviewer_country\"].str.findall(pattern).str[0]\n",
    "\n",
    "# replace reviewer country with extracted countries\n",
    "reviews[\"reviewer_country\"] = countries"
   ]
  },
  {
   "cell_type": "markdown",
   "metadata": {
    "papermill": {
     "duration": 0.021001,
     "end_time": "2019-08-12T04:01:03.041183",
     "exception": false,
     "start_time": "2019-08-12T04:01:03.020182",
     "status": "completed"
    },
    "tags": []
   },
   "source": [
    "Since `route` has ~80% of it's data missing, in interest of time I won't parse the column into origin and destination.  If there were more data I would split the string on the word \"to\"."
   ]
  },
  {
   "cell_type": "code",
   "execution_count": 16,
   "metadata": {
    "papermill": {
     "duration": 0.060996,
     "end_time": "2019-08-12T04:01:03.121177",
     "exception": false,
     "start_time": "2019-08-12T04:01:03.060181",
     "status": "completed"
    },
    "tags": []
   },
   "outputs": [],
   "source": [
    "reviews.to_csv(save_path, index = False)"
   ]
  }
 ],
 "metadata": {
  "celltoolbar": "Tags",
  "kernelspec": {
   "display_name": "Python 3",
   "language": "python",
   "name": "python3"
  },
  "language_info": {
   "codemirror_mode": {
    "name": "ipython",
    "version": 3
   },
   "file_extension": ".py",
   "mimetype": "text/x-python",
   "name": "python",
   "nbconvert_exporter": "python",
   "pygments_lexer": "ipython3",
   "version": "3.6.8"
  },
  "papermill": {
   "duration": 8.680758,
   "end_time": "2019-08-12T04:01:04.206179",
   "environment_variables": {},
   "exception": null,
   "input_path": "src/ipynbs/verify_and_clean.ipynb",
   "output_path": "src/verify_and_clean_ran.ipynb",
   "parameters": {
    "load_path": "data/scraped_gw_reviews.csv",
    "old_data_path": "data/given_4U_reviews.txt",
    "save_path": "data/cleaned_gw_reviews.csv"
   },
   "start_time": "2019-08-12T04:00:55.525421",
   "version": "1.0.1"
  }
 },
 "nbformat": 4,
 "nbformat_minor": 2
}
